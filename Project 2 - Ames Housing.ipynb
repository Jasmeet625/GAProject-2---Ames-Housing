{
 "cells": [
  {
   "attachments": {},
   "cell_type": "markdown",
   "id": "cfab8fec",
   "metadata": {},
   "source": [
    "# Problem Statement \n",
    "\n",
    "#### To determine the best model/feature for predicting Sale Price for houses in Ames area.\n",
    "\n"
   ]
  },
  {
   "cell_type": "markdown",
   "id": "57815cad",
   "metadata": {},
   "source": [
    "# Background \n",
    "\n",
    "#### We are given a dataset of housing prices and possibily, related variables that we are to use to predict housing prices in Ames, Iowa. "
   ]
  },
  {
   "cell_type": "markdown",
   "id": "0a44cfa1",
   "metadata": {},
   "source": [
    "## Import Necessary Python Libraries "
   ]
  },
  {
   "cell_type": "code",
   "execution_count": 135,
   "id": "06fe13a3",
   "metadata": {},
   "outputs": [],
   "source": [
    "import matplotlib.pyplot as plt\n",
    "import numpy as np\n",
    "import scipy.stats as stats\n",
    "import pandas as pd\n",
    "import seaborn as sns\n",
    "from sklearn.linear_model import LinearRegression, LassoCV, RidgeCV\n",
    "from sklearn.metrics import mean_squared_error\n",
    "from sklearn.model_selection import train_test_split, cross_val_score, cross_val_predict\n",
    "from sklearn.metrics import r2_score\n",
    "from statsmodels.stats.outliers_influence import variance_inflation_factor\n",
    "from sklearn.preprocessing import StandardScaler\n",
    "import pandas_profiling"
   ]
  },
  {
   "cell_type": "markdown",
   "id": "88043f52",
   "metadata": {},
   "source": [
    "### Import Train Data "
   ]
  },
  {
   "cell_type": "code",
   "execution_count": 136,
   "id": "4c2d1dc3",
   "metadata": {},
   "outputs": [],
   "source": [
    "# Import train data\n",
    "df = pd.read_csv(\"../datasets/train.csv\", index_col= 'Id')"
   ]
  },
  {
   "cell_type": "code",
   "execution_count": 137,
   "id": "db2c4ca1",
   "metadata": {},
   "outputs": [
    {
     "name": "stdout",
     "output_type": "stream",
     "text": [
      "<class 'pandas.core.frame.DataFrame'>\n",
      "Int64Index: 2051 entries, 109 to 10\n",
      "Data columns (total 80 columns):\n",
      " #   Column           Non-Null Count  Dtype  \n",
      "---  ------           --------------  -----  \n",
      " 0   PID              2051 non-null   int64  \n",
      " 1   MS SubClass      2051 non-null   int64  \n",
      " 2   MS Zoning        2051 non-null   object \n",
      " 3   Lot Frontage     1721 non-null   float64\n",
      " 4   Lot Area         2051 non-null   int64  \n",
      " 5   Street           2051 non-null   object \n",
      " 6   Alley            140 non-null    object \n",
      " 7   Lot Shape        2051 non-null   object \n",
      " 8   Land Contour     2051 non-null   object \n",
      " 9   Utilities        2051 non-null   object \n",
      " 10  Lot Config       2051 non-null   object \n",
      " 11  Land Slope       2051 non-null   object \n",
      " 12  Neighborhood     2051 non-null   object \n",
      " 13  Condition 1      2051 non-null   object \n",
      " 14  Condition 2      2051 non-null   object \n",
      " 15  Bldg Type        2051 non-null   object \n",
      " 16  House Style      2051 non-null   object \n",
      " 17  Overall Qual     2051 non-null   int64  \n",
      " 18  Overall Cond     2051 non-null   int64  \n",
      " 19  Year Built       2051 non-null   int64  \n",
      " 20  Year Remod/Add   2051 non-null   int64  \n",
      " 21  Roof Style       2051 non-null   object \n",
      " 22  Roof Matl        2051 non-null   object \n",
      " 23  Exterior 1st     2051 non-null   object \n",
      " 24  Exterior 2nd     2051 non-null   object \n",
      " 25  Mas Vnr Type     2029 non-null   object \n",
      " 26  Mas Vnr Area     2029 non-null   float64\n",
      " 27  Exter Qual       2051 non-null   object \n",
      " 28  Exter Cond       2051 non-null   object \n",
      " 29  Foundation       2051 non-null   object \n",
      " 30  Bsmt Qual        1996 non-null   object \n",
      " 31  Bsmt Cond        1996 non-null   object \n",
      " 32  Bsmt Exposure    1993 non-null   object \n",
      " 33  BsmtFin Type 1   1996 non-null   object \n",
      " 34  BsmtFin SF 1     2050 non-null   float64\n",
      " 35  BsmtFin Type 2   1995 non-null   object \n",
      " 36  BsmtFin SF 2     2050 non-null   float64\n",
      " 37  Bsmt Unf SF      2050 non-null   float64\n",
      " 38  Total Bsmt SF    2050 non-null   float64\n",
      " 39  Heating          2051 non-null   object \n",
      " 40  Heating QC       2051 non-null   object \n",
      " 41  Central Air      2051 non-null   object \n",
      " 42  Electrical       2051 non-null   object \n",
      " 43  1st Flr SF       2051 non-null   int64  \n",
      " 44  2nd Flr SF       2051 non-null   int64  \n",
      " 45  Low Qual Fin SF  2051 non-null   int64  \n",
      " 46  Gr Liv Area      2051 non-null   int64  \n",
      " 47  Bsmt Full Bath   2049 non-null   float64\n",
      " 48  Bsmt Half Bath   2049 non-null   float64\n",
      " 49  Full Bath        2051 non-null   int64  \n",
      " 50  Half Bath        2051 non-null   int64  \n",
      " 51  Bedroom AbvGr    2051 non-null   int64  \n",
      " 52  Kitchen AbvGr    2051 non-null   int64  \n",
      " 53  Kitchen Qual     2051 non-null   object \n",
      " 54  TotRms AbvGrd    2051 non-null   int64  \n",
      " 55  Functional       2051 non-null   object \n",
      " 56  Fireplaces       2051 non-null   int64  \n",
      " 57  Fireplace Qu     1051 non-null   object \n",
      " 58  Garage Type      1938 non-null   object \n",
      " 59  Garage Yr Blt    1937 non-null   float64\n",
      " 60  Garage Finish    1937 non-null   object \n",
      " 61  Garage Cars      2050 non-null   float64\n",
      " 62  Garage Area      2050 non-null   float64\n",
      " 63  Garage Qual      1937 non-null   object \n",
      " 64  Garage Cond      1937 non-null   object \n",
      " 65  Paved Drive      2051 non-null   object \n",
      " 66  Wood Deck SF     2051 non-null   int64  \n",
      " 67  Open Porch SF    2051 non-null   int64  \n",
      " 68  Enclosed Porch   2051 non-null   int64  \n",
      " 69  3Ssn Porch       2051 non-null   int64  \n",
      " 70  Screen Porch     2051 non-null   int64  \n",
      " 71  Pool Area        2051 non-null   int64  \n",
      " 72  Pool QC          9 non-null      object \n",
      " 73  Fence            400 non-null    object \n",
      " 74  Misc Feature     65 non-null     object \n",
      " 75  Misc Val         2051 non-null   int64  \n",
      " 76  Mo Sold          2051 non-null   int64  \n",
      " 77  Yr Sold          2051 non-null   int64  \n",
      " 78  Sale Type        2051 non-null   object \n",
      " 79  SalePrice        2051 non-null   int64  \n",
      "dtypes: float64(11), int64(27), object(42)\n",
      "memory usage: 1.3+ MB\n"
     ]
    }
   ],
   "source": [
    "# View of data structure \n",
    "df.info()"
   ]
  },
  {
   "cell_type": "code",
   "execution_count": 138,
   "id": "31bf2c17",
   "metadata": {},
   "outputs": [
    {
     "data": {
      "text/html": [
       "<div>\n",
       "<style scoped>\n",
       "    .dataframe tbody tr th:only-of-type {\n",
       "        vertical-align: middle;\n",
       "    }\n",
       "\n",
       "    .dataframe tbody tr th {\n",
       "        vertical-align: top;\n",
       "    }\n",
       "\n",
       "    .dataframe thead th {\n",
       "        text-align: right;\n",
       "    }\n",
       "</style>\n",
       "<table border=\"1\" class=\"dataframe\">\n",
       "  <thead>\n",
       "    <tr style=\"text-align: right;\">\n",
       "      <th></th>\n",
       "      <th>PID</th>\n",
       "      <th>MS SubClass</th>\n",
       "      <th>MS Zoning</th>\n",
       "      <th>Lot Frontage</th>\n",
       "      <th>Lot Area</th>\n",
       "      <th>Street</th>\n",
       "      <th>Alley</th>\n",
       "      <th>Lot Shape</th>\n",
       "      <th>Land Contour</th>\n",
       "      <th>Utilities</th>\n",
       "      <th>...</th>\n",
       "      <th>Screen Porch</th>\n",
       "      <th>Pool Area</th>\n",
       "      <th>Pool QC</th>\n",
       "      <th>Fence</th>\n",
       "      <th>Misc Feature</th>\n",
       "      <th>Misc Val</th>\n",
       "      <th>Mo Sold</th>\n",
       "      <th>Yr Sold</th>\n",
       "      <th>Sale Type</th>\n",
       "      <th>SalePrice</th>\n",
       "    </tr>\n",
       "    <tr>\n",
       "      <th>Id</th>\n",
       "      <th></th>\n",
       "      <th></th>\n",
       "      <th></th>\n",
       "      <th></th>\n",
       "      <th></th>\n",
       "      <th></th>\n",
       "      <th></th>\n",
       "      <th></th>\n",
       "      <th></th>\n",
       "      <th></th>\n",
       "      <th></th>\n",
       "      <th></th>\n",
       "      <th></th>\n",
       "      <th></th>\n",
       "      <th></th>\n",
       "      <th></th>\n",
       "      <th></th>\n",
       "      <th></th>\n",
       "      <th></th>\n",
       "      <th></th>\n",
       "      <th></th>\n",
       "    </tr>\n",
       "  </thead>\n",
       "  <tbody>\n",
       "    <tr>\n",
       "      <th>109</th>\n",
       "      <td>533352170</td>\n",
       "      <td>60</td>\n",
       "      <td>RL</td>\n",
       "      <td>NaN</td>\n",
       "      <td>13517</td>\n",
       "      <td>Pave</td>\n",
       "      <td>NaN</td>\n",
       "      <td>IR1</td>\n",
       "      <td>Lvl</td>\n",
       "      <td>AllPub</td>\n",
       "      <td>...</td>\n",
       "      <td>0</td>\n",
       "      <td>0</td>\n",
       "      <td>NaN</td>\n",
       "      <td>NaN</td>\n",
       "      <td>NaN</td>\n",
       "      <td>0</td>\n",
       "      <td>3</td>\n",
       "      <td>2010</td>\n",
       "      <td>WD</td>\n",
       "      <td>130500</td>\n",
       "    </tr>\n",
       "    <tr>\n",
       "      <th>544</th>\n",
       "      <td>531379050</td>\n",
       "      <td>60</td>\n",
       "      <td>RL</td>\n",
       "      <td>43.0</td>\n",
       "      <td>11492</td>\n",
       "      <td>Pave</td>\n",
       "      <td>NaN</td>\n",
       "      <td>IR1</td>\n",
       "      <td>Lvl</td>\n",
       "      <td>AllPub</td>\n",
       "      <td>...</td>\n",
       "      <td>0</td>\n",
       "      <td>0</td>\n",
       "      <td>NaN</td>\n",
       "      <td>NaN</td>\n",
       "      <td>NaN</td>\n",
       "      <td>0</td>\n",
       "      <td>4</td>\n",
       "      <td>2009</td>\n",
       "      <td>WD</td>\n",
       "      <td>220000</td>\n",
       "    </tr>\n",
       "    <tr>\n",
       "      <th>153</th>\n",
       "      <td>535304180</td>\n",
       "      <td>20</td>\n",
       "      <td>RL</td>\n",
       "      <td>68.0</td>\n",
       "      <td>7922</td>\n",
       "      <td>Pave</td>\n",
       "      <td>NaN</td>\n",
       "      <td>Reg</td>\n",
       "      <td>Lvl</td>\n",
       "      <td>AllPub</td>\n",
       "      <td>...</td>\n",
       "      <td>0</td>\n",
       "      <td>0</td>\n",
       "      <td>NaN</td>\n",
       "      <td>NaN</td>\n",
       "      <td>NaN</td>\n",
       "      <td>0</td>\n",
       "      <td>1</td>\n",
       "      <td>2010</td>\n",
       "      <td>WD</td>\n",
       "      <td>109000</td>\n",
       "    </tr>\n",
       "    <tr>\n",
       "      <th>318</th>\n",
       "      <td>916386060</td>\n",
       "      <td>60</td>\n",
       "      <td>RL</td>\n",
       "      <td>73.0</td>\n",
       "      <td>9802</td>\n",
       "      <td>Pave</td>\n",
       "      <td>NaN</td>\n",
       "      <td>Reg</td>\n",
       "      <td>Lvl</td>\n",
       "      <td>AllPub</td>\n",
       "      <td>...</td>\n",
       "      <td>0</td>\n",
       "      <td>0</td>\n",
       "      <td>NaN</td>\n",
       "      <td>NaN</td>\n",
       "      <td>NaN</td>\n",
       "      <td>0</td>\n",
       "      <td>4</td>\n",
       "      <td>2010</td>\n",
       "      <td>WD</td>\n",
       "      <td>174000</td>\n",
       "    </tr>\n",
       "    <tr>\n",
       "      <th>255</th>\n",
       "      <td>906425045</td>\n",
       "      <td>50</td>\n",
       "      <td>RL</td>\n",
       "      <td>82.0</td>\n",
       "      <td>14235</td>\n",
       "      <td>Pave</td>\n",
       "      <td>NaN</td>\n",
       "      <td>IR1</td>\n",
       "      <td>Lvl</td>\n",
       "      <td>AllPub</td>\n",
       "      <td>...</td>\n",
       "      <td>0</td>\n",
       "      <td>0</td>\n",
       "      <td>NaN</td>\n",
       "      <td>NaN</td>\n",
       "      <td>NaN</td>\n",
       "      <td>0</td>\n",
       "      <td>3</td>\n",
       "      <td>2010</td>\n",
       "      <td>WD</td>\n",
       "      <td>138500</td>\n",
       "    </tr>\n",
       "  </tbody>\n",
       "</table>\n",
       "<p>5 rows × 80 columns</p>\n",
       "</div>"
      ],
      "text/plain": [
       "           PID  MS SubClass MS Zoning  Lot Frontage  Lot Area Street Alley  \\\n",
       "Id                                                                           \n",
       "109  533352170           60        RL           NaN     13517   Pave   NaN   \n",
       "544  531379050           60        RL          43.0     11492   Pave   NaN   \n",
       "153  535304180           20        RL          68.0      7922   Pave   NaN   \n",
       "318  916386060           60        RL          73.0      9802   Pave   NaN   \n",
       "255  906425045           50        RL          82.0     14235   Pave   NaN   \n",
       "\n",
       "    Lot Shape Land Contour Utilities  ... Screen Porch Pool Area Pool QC  \\\n",
       "Id                                    ...                                  \n",
       "109       IR1          Lvl    AllPub  ...            0         0     NaN   \n",
       "544       IR1          Lvl    AllPub  ...            0         0     NaN   \n",
       "153       Reg          Lvl    AllPub  ...            0         0     NaN   \n",
       "318       Reg          Lvl    AllPub  ...            0         0     NaN   \n",
       "255       IR1          Lvl    AllPub  ...            0         0     NaN   \n",
       "\n",
       "    Fence Misc Feature Misc Val Mo Sold  Yr Sold  Sale Type  SalePrice  \n",
       "Id                                                                      \n",
       "109   NaN          NaN        0       3     2010        WD      130500  \n",
       "544   NaN          NaN        0       4     2009        WD      220000  \n",
       "153   NaN          NaN        0       1     2010        WD      109000  \n",
       "318   NaN          NaN        0       4     2010        WD      174000  \n",
       "255   NaN          NaN        0       3     2010        WD      138500  \n",
       "\n",
       "[5 rows x 80 columns]"
      ]
     },
     "execution_count": 138,
     "metadata": {},
     "output_type": "execute_result"
    }
   ],
   "source": [
    "df.head()"
   ]
  },
  {
   "cell_type": "code",
   "execution_count": 139,
   "id": "dc2a8d5e",
   "metadata": {},
   "outputs": [
    {
     "data": {
      "text/plain": [
       "(2051, 80)"
      ]
     },
     "execution_count": 139,
     "metadata": {},
     "output_type": "execute_result"
    }
   ],
   "source": [
    "df.shape"
   ]
  },
  {
   "cell_type": "markdown",
   "id": "66f67926",
   "metadata": {},
   "source": [
    "### Drop data that are significantly incomplete by >60%\n"
   ]
  },
  {
   "cell_type": "code",
   "execution_count": 140,
   "id": "28b1a5df",
   "metadata": {},
   "outputs": [],
   "source": [
    "df = df.drop('Alley', axis = 1)"
   ]
  },
  {
   "cell_type": "code",
   "execution_count": 141,
   "id": "95148a1a",
   "metadata": {},
   "outputs": [],
   "source": [
    "df = df.drop('Pool QC', axis = 1)"
   ]
  },
  {
   "cell_type": "code",
   "execution_count": 142,
   "id": "5abe7568",
   "metadata": {},
   "outputs": [],
   "source": [
    "df = df.drop(\"Fence\", axis = 1)"
   ]
  },
  {
   "cell_type": "code",
   "execution_count": 143,
   "id": "dc37348f",
   "metadata": {},
   "outputs": [],
   "source": [
    "df = df.drop(\"Misc Feature\", axis = 1)"
   ]
  },
  {
   "cell_type": "code",
   "execution_count": 144,
   "id": "bbea972a",
   "metadata": {},
   "outputs": [],
   "source": [
    "df = df.drop(\"Fireplace Qu\", axis = 1)"
   ]
  },
  {
   "cell_type": "code",
   "execution_count": 145,
   "id": "7bb01856",
   "metadata": {},
   "outputs": [],
   "source": [
    "df = df.drop(\"PID\", axis = 1)"
   ]
  },
  {
   "cell_type": "code",
   "execution_count": 146,
   "id": "f1aa0e10",
   "metadata": {},
   "outputs": [
    {
     "data": {
      "text/html": [
       "<div>\n",
       "<style scoped>\n",
       "    .dataframe tbody tr th:only-of-type {\n",
       "        vertical-align: middle;\n",
       "    }\n",
       "\n",
       "    .dataframe tbody tr th {\n",
       "        vertical-align: top;\n",
       "    }\n",
       "\n",
       "    .dataframe thead th {\n",
       "        text-align: right;\n",
       "    }\n",
       "</style>\n",
       "<table border=\"1\" class=\"dataframe\">\n",
       "  <thead>\n",
       "    <tr style=\"text-align: right;\">\n",
       "      <th></th>\n",
       "      <th>MS SubClass</th>\n",
       "      <th>MS Zoning</th>\n",
       "      <th>Lot Frontage</th>\n",
       "      <th>Lot Area</th>\n",
       "      <th>Street</th>\n",
       "      <th>Lot Shape</th>\n",
       "      <th>Land Contour</th>\n",
       "      <th>Utilities</th>\n",
       "      <th>Lot Config</th>\n",
       "      <th>Land Slope</th>\n",
       "      <th>...</th>\n",
       "      <th>Open Porch SF</th>\n",
       "      <th>Enclosed Porch</th>\n",
       "      <th>3Ssn Porch</th>\n",
       "      <th>Screen Porch</th>\n",
       "      <th>Pool Area</th>\n",
       "      <th>Misc Val</th>\n",
       "      <th>Mo Sold</th>\n",
       "      <th>Yr Sold</th>\n",
       "      <th>Sale Type</th>\n",
       "      <th>SalePrice</th>\n",
       "    </tr>\n",
       "    <tr>\n",
       "      <th>Id</th>\n",
       "      <th></th>\n",
       "      <th></th>\n",
       "      <th></th>\n",
       "      <th></th>\n",
       "      <th></th>\n",
       "      <th></th>\n",
       "      <th></th>\n",
       "      <th></th>\n",
       "      <th></th>\n",
       "      <th></th>\n",
       "      <th></th>\n",
       "      <th></th>\n",
       "      <th></th>\n",
       "      <th></th>\n",
       "      <th></th>\n",
       "      <th></th>\n",
       "      <th></th>\n",
       "      <th></th>\n",
       "      <th></th>\n",
       "      <th></th>\n",
       "      <th></th>\n",
       "    </tr>\n",
       "  </thead>\n",
       "  <tbody>\n",
       "    <tr>\n",
       "      <th>109</th>\n",
       "      <td>60</td>\n",
       "      <td>RL</td>\n",
       "      <td>NaN</td>\n",
       "      <td>13517</td>\n",
       "      <td>Pave</td>\n",
       "      <td>IR1</td>\n",
       "      <td>Lvl</td>\n",
       "      <td>AllPub</td>\n",
       "      <td>CulDSac</td>\n",
       "      <td>Gtl</td>\n",
       "      <td>...</td>\n",
       "      <td>44</td>\n",
       "      <td>0</td>\n",
       "      <td>0</td>\n",
       "      <td>0</td>\n",
       "      <td>0</td>\n",
       "      <td>0</td>\n",
       "      <td>3</td>\n",
       "      <td>2010</td>\n",
       "      <td>WD</td>\n",
       "      <td>130500</td>\n",
       "    </tr>\n",
       "    <tr>\n",
       "      <th>544</th>\n",
       "      <td>60</td>\n",
       "      <td>RL</td>\n",
       "      <td>43.0</td>\n",
       "      <td>11492</td>\n",
       "      <td>Pave</td>\n",
       "      <td>IR1</td>\n",
       "      <td>Lvl</td>\n",
       "      <td>AllPub</td>\n",
       "      <td>CulDSac</td>\n",
       "      <td>Gtl</td>\n",
       "      <td>...</td>\n",
       "      <td>74</td>\n",
       "      <td>0</td>\n",
       "      <td>0</td>\n",
       "      <td>0</td>\n",
       "      <td>0</td>\n",
       "      <td>0</td>\n",
       "      <td>4</td>\n",
       "      <td>2009</td>\n",
       "      <td>WD</td>\n",
       "      <td>220000</td>\n",
       "    </tr>\n",
       "    <tr>\n",
       "      <th>153</th>\n",
       "      <td>20</td>\n",
       "      <td>RL</td>\n",
       "      <td>68.0</td>\n",
       "      <td>7922</td>\n",
       "      <td>Pave</td>\n",
       "      <td>Reg</td>\n",
       "      <td>Lvl</td>\n",
       "      <td>AllPub</td>\n",
       "      <td>Inside</td>\n",
       "      <td>Gtl</td>\n",
       "      <td>...</td>\n",
       "      <td>52</td>\n",
       "      <td>0</td>\n",
       "      <td>0</td>\n",
       "      <td>0</td>\n",
       "      <td>0</td>\n",
       "      <td>0</td>\n",
       "      <td>1</td>\n",
       "      <td>2010</td>\n",
       "      <td>WD</td>\n",
       "      <td>109000</td>\n",
       "    </tr>\n",
       "    <tr>\n",
       "      <th>318</th>\n",
       "      <td>60</td>\n",
       "      <td>RL</td>\n",
       "      <td>73.0</td>\n",
       "      <td>9802</td>\n",
       "      <td>Pave</td>\n",
       "      <td>Reg</td>\n",
       "      <td>Lvl</td>\n",
       "      <td>AllPub</td>\n",
       "      <td>Inside</td>\n",
       "      <td>Gtl</td>\n",
       "      <td>...</td>\n",
       "      <td>0</td>\n",
       "      <td>0</td>\n",
       "      <td>0</td>\n",
       "      <td>0</td>\n",
       "      <td>0</td>\n",
       "      <td>0</td>\n",
       "      <td>4</td>\n",
       "      <td>2010</td>\n",
       "      <td>WD</td>\n",
       "      <td>174000</td>\n",
       "    </tr>\n",
       "    <tr>\n",
       "      <th>255</th>\n",
       "      <td>50</td>\n",
       "      <td>RL</td>\n",
       "      <td>82.0</td>\n",
       "      <td>14235</td>\n",
       "      <td>Pave</td>\n",
       "      <td>IR1</td>\n",
       "      <td>Lvl</td>\n",
       "      <td>AllPub</td>\n",
       "      <td>Inside</td>\n",
       "      <td>Gtl</td>\n",
       "      <td>...</td>\n",
       "      <td>59</td>\n",
       "      <td>0</td>\n",
       "      <td>0</td>\n",
       "      <td>0</td>\n",
       "      <td>0</td>\n",
       "      <td>0</td>\n",
       "      <td>3</td>\n",
       "      <td>2010</td>\n",
       "      <td>WD</td>\n",
       "      <td>138500</td>\n",
       "    </tr>\n",
       "  </tbody>\n",
       "</table>\n",
       "<p>5 rows × 74 columns</p>\n",
       "</div>"
      ],
      "text/plain": [
       "     MS SubClass MS Zoning  Lot Frontage  Lot Area Street Lot Shape  \\\n",
       "Id                                                                    \n",
       "109           60        RL           NaN     13517   Pave       IR1   \n",
       "544           60        RL          43.0     11492   Pave       IR1   \n",
       "153           20        RL          68.0      7922   Pave       Reg   \n",
       "318           60        RL          73.0      9802   Pave       Reg   \n",
       "255           50        RL          82.0     14235   Pave       IR1   \n",
       "\n",
       "    Land Contour Utilities Lot Config Land Slope  ... Open Porch SF  \\\n",
       "Id                                                ...                 \n",
       "109          Lvl    AllPub    CulDSac        Gtl  ...            44   \n",
       "544          Lvl    AllPub    CulDSac        Gtl  ...            74   \n",
       "153          Lvl    AllPub     Inside        Gtl  ...            52   \n",
       "318          Lvl    AllPub     Inside        Gtl  ...             0   \n",
       "255          Lvl    AllPub     Inside        Gtl  ...            59   \n",
       "\n",
       "    Enclosed Porch 3Ssn Porch Screen Porch Pool Area  Misc Val  Mo Sold  \\\n",
       "Id                                                                        \n",
       "109              0          0            0         0         0        3   \n",
       "544              0          0            0         0         0        4   \n",
       "153              0          0            0         0         0        1   \n",
       "318              0          0            0         0         0        4   \n",
       "255              0          0            0         0         0        3   \n",
       "\n",
       "     Yr Sold  Sale Type SalePrice  \n",
       "Id                                 \n",
       "109     2010        WD     130500  \n",
       "544     2009        WD     220000  \n",
       "153     2010        WD     109000  \n",
       "318     2010        WD     174000  \n",
       "255     2010        WD     138500  \n",
       "\n",
       "[5 rows x 74 columns]"
      ]
     },
     "execution_count": 146,
     "metadata": {},
     "output_type": "execute_result"
    }
   ],
   "source": [
    "df.head()"
   ]
  },
  {
   "cell_type": "code",
   "execution_count": 147,
   "id": "df012809",
   "metadata": {},
   "outputs": [
    {
     "name": "stdout",
     "output_type": "stream",
     "text": [
      "Skewness: 1.557551\n",
      "Kurtosis: 3.579003\n"
     ]
    }
   ],
   "source": [
    "sns.displot(df['SalePrice']);\n",
    "print('Skewness: %f' %  df['SalePrice'].skew())\n",
    "print('Kurtosis: %f' %  df['SalePrice'].kurtosis())\n",
    "\n",
    "# The distribution of the sale price is skewed to the right."
   ]
  },
  {
   "cell_type": "markdown",
   "id": "a6ff9393",
   "metadata": {},
   "source": [
    "### Check what are the data and its columns available from the dataset."
   ]
  },
  {
   "cell_type": "code",
   "execution_count": 148,
   "id": "90f283f9",
   "metadata": {},
   "outputs": [
    {
     "name": "stdout",
     "output_type": "stream",
     "text": [
      "MS SubClass : [ 60  20  50 180 160  70 120 190  85  30  90  80  75  45  40 150]\n",
      "MS Zoning : ['RL' 'RM' 'FV' 'C (all)' 'A (agr)' 'RH' 'I (all)']\n",
      "Lot Frontage : [ nan  43.  68.  73.  82. 137.  35.  70.  21.  64. 120.  24.  74.  93.\n",
      "  34.  80.  71.  72. 109.  40. 103. 100.  92.  65.  75.  60.  30.  79.\n",
      "  41. 105. 107.  81.  36.  63.  32.  94.  44.  50.  48.  67.  88.  83.\n",
      "  53.  58.  57.  52.  87. 134.  56.  54. 140.  78.  85.  90.  96.  62.\n",
      "  49.  59. 155.  91.  61.  86. 128.  77.  42.  89.  51.  69.  55. 112.\n",
      "  76. 125.  98. 113. 102.  22. 122.  84. 119. 118.  66.  95. 108. 195.\n",
      " 106.  39. 110. 130.  97.  45.  37. 123.  38. 129. 115.  47. 114. 104.\n",
      "  46. 121. 124. 313. 141. 101.  99. 160. 174.  26. 144. 138. 111.  25.\n",
      "  33. 200. 150. 117. 153. 116. 135.]\n",
      "Lot Area : [13517 11492  7922 ... 12444 11449  7558]\n",
      "Street : ['Pave' 'Grvl']\n",
      "Lot Shape : ['IR1' 'Reg' 'IR2' 'IR3']\n",
      "Land Contour : ['Lvl' 'HLS' 'Bnk' 'Low']\n",
      "Utilities : ['AllPub' 'NoSeWa' 'NoSewr']\n",
      "Lot Config : ['CulDSac' 'Inside' 'Corner' 'FR2' 'FR3']\n",
      "Land Slope : ['Gtl' 'Sev' 'Mod']\n",
      "Neighborhood : ['Sawyer' 'SawyerW' 'NAmes' 'Timber' 'Edwards' 'OldTown' 'BrDale'\n",
      " 'CollgCr' 'Somerst' 'Mitchel' 'StoneBr' 'NridgHt' 'Gilbert' 'Crawfor'\n",
      " 'IDOTRR' 'NWAmes' 'Veenker' 'MeadowV' 'SWISU' 'NoRidge' 'ClearCr'\n",
      " 'Blmngtn' 'BrkSide' 'NPkVill' 'Blueste' 'GrnHill' 'Greens' 'Landmrk']\n",
      "Condition 1 : ['RRAe' 'Norm' 'PosA' 'Artery' 'Feedr' 'PosN' 'RRAn' 'RRNe' 'RRNn']\n",
      "Condition 2 : ['Norm' 'RRNn' 'Feedr' 'Artery' 'PosA' 'PosN' 'RRAe' 'RRAn']\n",
      "Bldg Type : ['1Fam' 'TwnhsE' 'Twnhs' '2fmCon' 'Duplex']\n",
      "House Style : ['2Story' '1Story' '1.5Fin' 'SFoyer' 'SLvl' '2.5Unf' '2.5Fin' '1.5Unf']\n",
      "Overall Qual : [ 6  7  5  8 10  4  9  3  2  1]\n",
      "Overall Cond : [8 5 7 6 3 9 2 4 1]\n",
      "Year Built : [1976 1996 1953 2006 1900 1966 2005 1959 1952 1969 1971 1880 1999 2007\n",
      " 2004 1916 1963 1977 2009 1968 2000 1992 1955 1961 1965 1937 1895 1949\n",
      " 1981 1929 1995 1958 1973 1994 1978 1954 1935 1941 1931 2003 1928 1970\n",
      " 1951 1920 1930 1924 1927 1960 1925 1910 2008 1915 1997 1956 1979 1964\n",
      " 2001 1972 1957 1939 1962 1947 1940 1932 1967 1993 1875 1912 2010 1987\n",
      " 1918 1988 1922 1926 1984 1942 1890 2002 1975 1998 1936 1938 1985 1923\n",
      " 1948 1950 1980 1991 1917 1986 1946 1885 1914 1896 1983 1921 1945 1901\n",
      " 1990 1974 1913 1905 1982 1919 1872 1892 1934 1879 1893 1898 1911 1908\n",
      " 1989]\n",
      "Year Remod/Add : [2005 1997 2007 1993 2002 2006 1959 1952 1969 1971 2000 1950 1963 1977\n",
      " 2009 1968 1955 1961 1995 1981 1996 2008 1958 1973 1994 1965 1978 1954\n",
      " 1960 2004 1970 1951 1975 1953 2001 2010 2003 1979 1964 1956 1972 1957\n",
      " 1992 1962 1998 1990 1967 1985 1987 1988 1976 1984 1999 1966 1980 1989\n",
      " 1991 1986 1982 1983 1974]\n",
      "Roof Style : ['Gable' 'Hip' 'Flat' 'Mansard' 'Shed' 'Gambrel']\n",
      "Roof Matl : ['CompShg' 'WdShngl' 'Tar&Grv' 'WdShake' 'Membran' 'ClyTile']\n",
      "Exterior 1st : ['HdBoard' 'VinylSd' 'Wd Sdng' 'BrkFace' 'Plywood' 'MetalSd' 'AsbShng'\n",
      " 'CemntBd' 'WdShing' 'Stucco' 'BrkComm' 'Stone' 'CBlock' 'ImStucc'\n",
      " 'AsphShn']\n",
      "Exterior 2nd : ['Plywood' 'VinylSd' 'Wd Sdng' 'HdBoard' 'MetalSd' 'AsbShng' 'CmentBd'\n",
      " 'Wd Shng' 'BrkFace' 'Stucco' 'Brk Cmn' 'ImStucc' 'Stone' 'CBlock'\n",
      " 'AsphShn']\n",
      "Mas Vnr Type : ['BrkFace' 'None' nan 'Stone' 'BrkCmn']\n",
      "Mas Vnr Area : [2.890e+02 1.320e+02 0.000e+00 8.200e+01 1.800e+02 1.920e+02 2.320e+02\n",
      " 4.560e+02 1.480e+02       nan 3.000e+00 3.360e+02 4.800e+02 3.200e+02\n",
      " 1.040e+02 3.350e+02 4.000e+01 1.100e+02 1.060e+02 5.130e+02 1.840e+02\n",
      " 5.220e+02 1.430e+02 3.480e+02 1.170e+02 5.100e+02 1.450e+02 9.600e+01\n",
      " 6.680e+02 5.000e+01 2.280e+02 6.500e+01 3.610e+02 7.480e+02 1.970e+02\n",
      " 5.720e+02 1.280e+02 1.200e+02 2.540e+02 8.600e+01 3.000e+01 5.400e+01\n",
      " 2.460e+02 3.970e+02 2.960e+02 1.440e+02 9.020e+02 2.610e+02 2.600e+02\n",
      " 2.750e+02 5.700e+01 1.050e+03 3.590e+02 1.080e+02 6.620e+02 5.000e+02\n",
      " 2.100e+02 1.650e+02 2.080e+02 3.600e+02 1.600e+02 6.400e+01 2.240e+02\n",
      " 2.060e+02 1.160e+02 6.510e+02 5.040e+02 2.520e+02 3.370e+02 8.400e+01\n",
      " 3.090e+02 4.660e+02 6.000e+02 1.890e+02 3.680e+02 1.980e+02 1.400e+02\n",
      " 9.220e+02 1.600e+01 1.800e+01 9.000e+01 4.250e+02 2.450e+02 2.340e+02\n",
      " 7.660e+02 2.190e+02 1.820e+02 1.360e+02 5.760e+02 2.700e+02 1.500e+02\n",
      " 2.560e+02 1.760e+02 4.790e+02 6.470e+02 1.150e+02 2.210e+02 2.720e+02\n",
      " 7.140e+02 9.500e+01 1.700e+02 1.720e+02 2.000e+02 2.050e+02 1.620e+02\n",
      " 2.400e+02 1.000e+02 4.120e+02 5.640e+02 7.400e+01 4.680e+02 2.980e+02\n",
      " 1.490e+02 6.040e+02 1.050e+02 4.280e+02 3.320e+02 4.520e+02 1.640e+02\n",
      " 6.600e+02 3.650e+02 1.115e+03 1.570e+02 5.250e+02 4.100e+01 3.240e+02\n",
      " 2.160e+02 2.360e+02 1.740e+02 3.400e+02 2.740e+02 3.900e+01 2.220e+02\n",
      " 5.200e+01 1.380e+02 5.710e+02 2.270e+02 2.300e+01 2.390e+02 4.220e+02\n",
      " 9.400e+01 4.720e+02 6.400e+02 6.300e+02 3.760e+02 9.450e+02 5.620e+02\n",
      " 1.110e+03 5.540e+02 2.030e+02 3.020e+02 7.200e+01 1.670e+02 1.780e+02\n",
      " 2.680e+02 2.400e+01 1.250e+02 2.420e+02 5.680e+02 1.830e+02 4.200e+02\n",
      " 1.350e+02 1.790e+02 1.690e+02 5.410e+02 9.700e+01 1.680e+02 2.800e+02\n",
      " 5.800e+01 3.270e+02 2.120e+02 2.880e+02 8.500e+01 3.600e+01 2.830e+02\n",
      " 6.000e+01 1.710e+02 5.600e+01 2.530e+02 2.020e+02 9.900e+01 1.130e+02\n",
      " 3.500e+02 3.510e+02 5.100e+01 2.380e+02 2.300e+02 7.300e+02 6.320e+02\n",
      " 3.830e+02 3.120e+02 1.400e+01 1.460e+02 2.640e+02 4.400e+01 1.340e+02\n",
      " 3.040e+02 8.160e+02 1.860e+02 4.420e+02 2.550e+02 3.620e+02 1.120e+02\n",
      " 6.800e+01 1.260e+02 1.420e+02 2.150e+02 2.350e+02 1.300e+02 4.200e+01\n",
      " 2.200e+01 1.220e+02 2.330e+02 3.100e+02 1.000e+00 3.000e+02 5.180e+02\n",
      " 3.380e+02 5.670e+02 9.700e+02 1.240e+02 8.000e+01 2.040e+02 1.960e+02\n",
      " 6.030e+02 1.140e+02 8.860e+02 6.900e+01 4.920e+02 5.060e+02 3.660e+02\n",
      " 2.590e+02 2.440e+02 1.990e+02 2.940e+02 2.840e+02 8.900e+01 2.760e+02\n",
      " 2.900e+02 3.850e+02 2.990e+02 3.780e+02 2.580e+02 6.160e+02 9.200e+01\n",
      " 9.800e+01 2.500e+02 3.910e+02 4.300e+02 1.900e+02 3.330e+02 1.770e+02\n",
      " 7.960e+02 7.600e+01 4.000e+02 8.940e+02 6.700e+01 3.820e+02 6.200e+01\n",
      " 4.430e+02 3.200e+01 2.480e+02 1.010e+02 4.730e+02 2.180e+02 2.260e+02\n",
      " 4.500e+01 1.020e+02 2.140e+02 1.090e+02 3.640e+02 8.700e+01 7.050e+02\n",
      " 2.370e+02 3.530e+02 1.129e+03 1.031e+03 3.050e+02 2.000e+01 8.800e+01\n",
      " 4.060e+02 2.950e+02 1.230e+02 1.940e+02 3.560e+02 1.095e+03 1.540e+02\n",
      " 6.740e+02 2.910e+02 1.660e+02 3.800e+02 5.730e+02 1.630e+02 2.430e+02\n",
      " 4.510e+02 1.270e+02 5.190e+02 2.200e+02 5.020e+02 2.570e+02 1.610e+02\n",
      " 3.280e+02 4.910e+02 5.790e+02 4.240e+02 3.870e+02 1.600e+03 4.180e+02\n",
      " 1.047e+03 6.520e+02 4.600e+01 3.220e+02 3.100e+01 2.510e+02 3.550e+02\n",
      " 1.880e+02 3.060e+02 3.790e+02 5.280e+02 2.780e+02 5.260e+02 2.700e+01\n",
      " 6.730e+02 4.020e+02 2.800e+01 2.790e+02 7.340e+02 4.500e+02 6.500e+02\n",
      " 3.800e+01 3.700e+02 7.500e+01 3.150e+02 4.100e+02 4.340e+02 6.300e+01\n",
      " 7.240e+02 4.700e+01 7.600e+02 3.440e+02 1.580e+02 7.380e+02 8.600e+02\n",
      " 6.920e+02 4.320e+02 1.190e+02 3.750e+02 5.140e+02 2.920e+02 3.180e+02\n",
      " 1.180e+02 3.810e+02 7.720e+02 7.000e+01 3.940e+02 1.224e+03 5.300e+02\n",
      " 1.530e+02 3.720e+02 6.600e+01 1.560e+02 4.700e+02 2.810e+02 3.230e+02\n",
      " 2.620e+02 2.250e+02 7.100e+02 4.230e+02 7.310e+02 4.360e+02 3.420e+02\n",
      " 1.210e+02 6.640e+02 4.260e+02]\n",
      "Exter Qual : ['Gd' 'TA' 'Ex' 'Fa']\n",
      "Exter Cond : ['TA' 'Gd' 'Fa' 'Ex' 'Po']\n",
      "Foundation : ['CBlock' 'PConc' 'BrkTil' 'Slab' 'Stone' 'Wood']\n",
      "Bsmt Qual : ['TA' 'Gd' 'Fa' nan 'Ex' 'Po']\n",
      "Bsmt Cond : ['TA' 'Gd' nan 'Fa' 'Po' 'Ex']\n",
      "Bsmt Exposure : ['No' 'Gd' 'Av' nan 'Mn']\n",
      "BsmtFin Type 1 : ['GLQ' 'Unf' 'ALQ' 'Rec' nan 'BLQ' 'LwQ']\n",
      "BsmtFin SF 1 : [5.330e+02 6.370e+02 7.310e+02 0.000e+00 2.470e+02 5.470e+02 1.000e+03\n",
      " 2.920e+02 6.500e+02 3.870e+02 3.930e+02 8.130e+02 2.400e+01 6.510e+02\n",
      " 4.920e+02 1.158e+03 9.350e+02 1.056e+03 1.312e+03 5.530e+02 6.060e+02\n",
      " 1.104e+03 4.370e+02 4.410e+02 1.288e+03 5.480e+02 7.050e+02 9.160e+02\n",
      " 4.200e+02 8.300e+02 1.386e+03 1.097e+03 9.060e+02 2.100e+02 4.080e+02\n",
      " 3.540e+02 3.530e+02 6.220e+02 7.900e+02 1.760e+02 3.710e+02 3.680e+02\n",
      " 4.860e+02 8.500e+01 1.380e+02 5.240e+02 6.400e+01 1.092e+03 3.600e+02\n",
      " 1.720e+02 2.060e+02 2.460e+02 1.600e+01 1.346e+03 7.000e+02 6.550e+02\n",
      " 4.430e+02 1.680e+02 1.904e+03 2.400e+02 8.640e+02 4.150e+02 8.330e+02\n",
      " 3.770e+02 2.800e+02 8.280e+02 7.620e+02 3.600e+01 1.014e+03 6.000e+01\n",
      " 5.880e+02 4.380e+02 1.153e+03 5.270e+02 1.337e+03 3.480e+02 1.044e+03\n",
      " 6.900e+02 9.620e+02 6.410e+02 1.110e+03 4.210e+02 8.320e+02 1.027e+03\n",
      " 9.880e+02 8.210e+02 2.900e+02 4.350e+02 8.270e+02 3.120e+02 4.100e+02\n",
      " 2.570e+02 3.780e+02 3.890e+02 1.619e+03 4.680e+02 4.580e+02 1.200e+02\n",
      " 7.320e+02 6.590e+02 9.540e+02 1.032e+03 4.250e+02 8.410e+02 6.440e+02\n",
      " 1.890e+02 6.850e+02 1.110e+02 9.180e+02 6.740e+02 7.890e+02 6.080e+02\n",
      " 5.730e+02 7.080e+02 1.290e+02 3.110e+02 1.040e+02 3.860e+02 7.040e+02\n",
      " 4.570e+02 1.700e+02 1.173e+03 1.560e+02 6.000e+02 7.880e+02 5.500e+02\n",
      " 9.290e+02 4.450e+02 1.218e+03 5.100e+01 1.567e+03 5.000e+02 1.122e+03\n",
      " 5.600e+01 5.030e+02 7.650e+02 3.640e+02 2.760e+02 1.128e+03 4.200e+01\n",
      " 5.780e+02 6.340e+02 1.070e+03 9.310e+02 1.024e+03 9.150e+02 4.290e+02\n",
      " 8.360e+02 8.830e+02 3.750e+02 1.540e+03 7.830e+02 2.160e+02 2.150e+02\n",
      " 4.480e+02 7.870e+02 5.260e+02 4.000e+01 2.000e+01 9.020e+02 9.600e+02\n",
      " 7.760e+02 4.950e+02 8.240e+02 2.880e+02 1.059e+03 1.358e+03 9.960e+02\n",
      " 5.440e+02 4.400e+02 3.000e+02 7.850e+02 7.670e+02 4.300e+02 7.730e+02\n",
      " 5.130e+02 7.380e+02 2.070e+02 3.980e+02 6.780e+02 4.750e+02 8.100e+01\n",
      " 6.450e+02 1.204e+03 5.140e+02 2.990e+02 1.758e+03 5.500e+01 1.309e+03\n",
      " 1.490e+02 6.620e+02 1.003e+03 4.620e+02 5.600e+02 3.300e+02 2.750e+02\n",
      " 9.230e+02 3.190e+02 1.036e+03 1.538e+03 4.160e+02 8.120e+02 4.560e+02\n",
      " 2.050e+02 2.280e+02 5.160e+02 7.580e+02 3.050e+02 1.231e+03 1.082e+03\n",
      " 7.720e+02 1.159e+03 7.450e+02 3.690e+02 3.580e+02 6.480e+02 2.640e+02\n",
      " 4.800e+01 1.696e+03 3.730e+02 1.820e+02 1.220e+03 5.070e+02 7.340e+02\n",
      " 3.840e+02 9.390e+02 1.810e+02 6.240e+02 7.480e+02 1.880e+03 6.250e+02\n",
      " 5.700e+02 5.390e+02 3.380e+02 4.220e+02 6.970e+02 1.086e+03 5.510e+02\n",
      " 6.830e+02 7.510e+02 4.030e+02 1.234e+03 3.010e+02 4.500e+02 4.760e+02\n",
      " 9.410e+02 5.690e+02 9.010e+02 3.900e+02 5.280e+02 9.130e+02 7.330e+02\n",
      " 2.390e+02 8.040e+02 7.800e+02 1.387e+03 1.047e+03 5.340e+02 6.260e+02\n",
      " 9.530e+02 7.960e+02 1.930e+02 7.440e+02 6.660e+02 7.810e+02 2.440e+02\n",
      " 7.280e+02 1.180e+03 9.300e+02 1.000e+02 1.102e+03 9.600e+01 6.720e+02\n",
      " 8.140e+02 7.740e+02 7.660e+02 3.400e+02 2.300e+02 1.274e+03 4.710e+02\n",
      " 8.000e+01 1.558e+03 6.020e+02 5.680e+02 1.246e+03 4.740e+02 1.075e+03\n",
      " 9.200e+02 1.314e+03 7.600e+02 4.000e+02 1.084e+03 1.013e+03 4.960e+02\n",
      " 1.330e+03 4.240e+02 1.087e+03 3.170e+02 1.002e+03 7.500e+02 5.220e+02\n",
      " 1.280e+02 7.550e+02 5.570e+02 1.505e+03 6.200e+02 1.338e+03 1.005e+03\n",
      " 8.380e+02 1.332e+03 3.080e+02 6.840e+02 1.004e+03 3.510e+02 6.030e+02\n",
      " 4.420e+02 7.690e+02 8.560e+02 8.310e+02 2.660e+02 3.280e+02 2.000e+00\n",
      " 1.001e+03 5.870e+02 7.910e+02 5.380e+02 1.196e+03 8.760e+02 8.970e+02\n",
      " 5.100e+02 7.180e+02 8.950e+02 1.106e+03 6.860e+02 5.940e+02 1.078e+03\n",
      " 4.320e+02 1.238e+03 1.190e+02 8.720e+02 3.360e+02 6.120e+02 9.030e+02\n",
      " 6.540e+02 1.085e+03 8.100e+02 2.960e+02 9.670e+02 8.600e+02 7.860e+02\n",
      " 1.531e+03 1.249e+03 1.172e+03 2.146e+03 2.700e+01 2.030e+02 2.220e+02\n",
      " 5.370e+02 1.206e+03 1.040e+03 8.160e+02 1.121e+03 2.840e+02 3.410e+02\n",
      " 4.530e+02 9.860e+02 1.071e+03 3.650e+02 8.940e+02 1.148e+03 1.194e+03\n",
      " 8.420e+02 1.456e+03 7.100e+02 7.160e+02 1.277e+03 3.500e+02 7.400e+02\n",
      " 1.636e+03 2.850e+02 2.158e+03 9.690e+02 4.850e+02 2.740e+02 1.219e+03\n",
      " 8.800e+01 1.053e+03 6.310e+02 2.230e+02 3.800e+02 1.398e+03 9.910e+02\n",
      " 5.210e+02 3.200e+01 9.050e+02 1.039e+03 1.369e+03 1.098e+03 7.420e+02\n",
      " 2.520e+02 5.790e+02 1.136e+03 1.198e+03 1.223e+03 9.040e+02 1.034e+03\n",
      " 1.100e+02 6.110e+02 1.023e+03 2.980e+02 4.980e+02 2.800e+01 2.340e+02\n",
      " 3.610e+02 3.740e+02 1.513e+03 3.140e+02 3.700e+02 1.632e+03 3.430e+02\n",
      " 1.200e+03 3.790e+02 1.440e+02 1.684e+03 7.220e+02 5.200e+02 7.800e+01\n",
      " 5.050e+02 1.018e+03 4.100e+01 5.360e+02 1.130e+02 1.412e+03 7.470e+02\n",
      " 4.810e+02 3.150e+02 1.416e+03 1.572e+03 7.410e+02 1.037e+03 1.329e+03\n",
      " 2.260e+02 3.720e+02 1.474e+03 6.170e+02 5.060e+02 1.188e+03 9.760e+02\n",
      " 2.010e+02 7.130e+02 6.790e+02 5.460e+02 2.560e+02 1.400e+03 8.030e+02\n",
      " 1.406e+03 1.319e+03 1.140e+02 8.670e+02 1.440e+03 6.380e+02 5.400e+01\n",
      " 3.100e+02 1.290e+03 6.040e+02 3.920e+02 4.900e+02 1.300e+02 5.000e+01\n",
      " 7.840e+02 1.261e+03 4.640e+02 1.620e+02 5.650e+02 1.478e+03 1.088e+03\n",
      " 1.340e+02 7.170e+02 5.860e+02 5.040e+02 1.152e+03 3.420e+02 3.810e+02\n",
      " 1.232e+03 7.790e+02 1.433e+03 1.441e+03 7.190e+02 2.590e+02 6.680e+02\n",
      " 5.644e+03 6.190e+02 9.140e+02 2.940e+02 9.780e+02 3.850e+02 9.640e+02\n",
      " 4.880e+02 4.930e+02 3.180e+02 1.682e+03 3.500e+01 1.430e+03 9.560e+02\n",
      " 1.328e+03 6.640e+02 1.455e+03 5.090e+02 4.050e+02 1.259e+03 4.820e+02\n",
      " 5.430e+02 2.810e+02 1.201e+03 1.390e+03 9.520e+02 5.120e+02 9.360e+02\n",
      " 1.243e+03 2.730e+02 1.470e+03 1.960e+02 3.290e+02 6.430e+02 1.800e+02\n",
      " 9.440e+02 7.750e+02 1.573e+03 5.490e+02 2.410e+02 6.300e+02 1.116e+03\n",
      " 4.280e+02 9.380e+02 1.728e+03 1.021e+03 6.990e+02 5.740e+02 2.830e+02\n",
      " 8.510e+02 1.330e+02 4.230e+02 5.200e+01 6.390e+02 1.280e+03 6.070e+02\n",
      " 1.375e+03 1.285e+03 1.670e+02 6.160e+02 2.090e+02 7.120e+02 8.070e+02\n",
      " 2.420e+02 2.480e+02 1.282e+03 6.320e+02 9.830e+02 4.830e+02 6.810e+02\n",
      " 6.630e+02 8.370e+02 3.940e+02 9.550e+02 9.450e+02 4.170e+02 1.733e+03\n",
      " 1.260e+02 1.124e+03 4.190e+02 2.085e+03 1.392e+03 6.460e+02 1.767e+03\n",
      " 6.600e+02 2.610e+02 3.060e+02 1.210e+02 5.700e+01 1.320e+02 9.250e+02\n",
      " 1.115e+03 2.000e+02 2.500e+02 9.800e+02 8.740e+02 4.770e+02 1.300e+03\n",
      " 9.870e+02 1.860e+02 2.210e+02 7.780e+02 7.270e+02 1.038e+03 1.373e+03\n",
      " 9.260e+02 4.970e+02 8.460e+02 1.165e+03 1.410e+02 5.320e+02 1.571e+03\n",
      " 6.230e+02 6.890e+02 9.320e+02 7.250e+02 1.247e+03 6.610e+02 2.820e+02\n",
      " 7.390e+02 7.360e+02 6.730e+02 3.210e+02 7.700e+02 1.410e+03 2.190e+02\n",
      " 3.260e+02 5.560e+02 1.341e+03       nan 1.030e+03 8.470e+02 1.980e+02\n",
      " 1.270e+03 2.080e+02 6.690e+02 5.760e+02 1.900e+02 5.670e+02 4.670e+02\n",
      " 1.051e+03 1.052e+03 3.630e+02 4.600e+02 1.333e+03 1.048e+03 7.060e+02\n",
      " 5.520e+02 5.750e+02 8.960e+02 5.990e+02 9.840e+02 6.910e+02 6.560e+02\n",
      " 5.310e+02 6.490e+02 9.980e+02 1.262e+03 8.700e+02 1.518e+03 4.340e+02\n",
      " 3.820e+02 5.230e+02 5.660e+02 2.360e+02 3.490e+02 6.960e+02 7.200e+02\n",
      " 5.540e+02 7.970e+02 8.190e+02 1.593e+03 2.790e+02 9.400e+01 7.350e+02\n",
      " 6.800e+01 3.760e+02 3.990e+02 2.600e+02 8.260e+02 9.510e+02 4.440e+02\n",
      " 1.320e+03 1.350e+03 1.016e+03 9.370e+02 3.970e+02 1.271e+03 6.470e+02\n",
      " 5.950e+02 1.154e+03 4.360e+02 1.500e+02 8.000e+02 7.940e+02 1.012e+03\n",
      " 5.800e+02 1.361e+03 4.720e+02 1.225e+03 2.540e+02 1.157e+03 6.330e+02\n",
      " 1.520e+02 8.200e+02 1.015e+03 1.810e+03 4.540e+02 4.940e+02 1.033e+03\n",
      " 4.650e+02 1.163e+03 8.930e+02 1.400e+02 1.160e+02 1.940e+02 2.700e+02\n",
      " 1.476e+03 6.360e+02 8.630e+02 6.800e+02 7.370e+02 8.060e+02 1.972e+03\n",
      " 8.880e+02 6.210e+02 7.560e+02 7.640e+02 6.950e+02 9.240e+02 2.188e+03\n",
      " 2.630e+02 2.580e+02 6.090e+02 8.090e+02 7.920e+02 1.170e+03 9.900e+02\n",
      " 1.870e+02 5.830e+02 6.880e+02 1.149e+03 1.310e+02 6.580e+02 7.020e+02\n",
      " 6.820e+02 1.790e+02 3.440e+02 9.090e+02 3.200e+02 1.237e+03 1.118e+03\n",
      " 7.200e+01 5.400e+02 1.430e+02 2.860e+02 1.480e+03 4.140e+02 2.240e+02\n",
      " 6.150e+02 4.060e+02 7.000e+01 1.910e+02 1.302e+03 1.564e+03 2.310e+02\n",
      " 6.520e+02 8.660e+02 1.090e+03 1.162e+03 9.940e+02 3.310e+02 1.562e+03\n",
      " 1.065e+03 3.880e+02 1.298e+03 2.130e+02 1.178e+03 6.940e+02 4.330e+02\n",
      " 1.080e+02 9.850e+02 5.850e+02 7.590e+02 3.350e+02 8.400e+02 1.730e+02\n",
      " 9.190e+02 2.490e+02 8.480e+02 1.606e+03 5.350e+02 4.010e+03 6.980e+02\n",
      " 7.630e+02 6.500e+01 1.080e+03 2.500e+01 8.500e+02 9.000e+02 9.100e+02\n",
      " 2.970e+02 1.383e+03 4.520e+02 8.080e+02 1.447e+03 8.650e+02 1.557e+03\n",
      " 1.213e+03 9.500e+02 7.290e+02 4.690e+02 5.010e+02 1.920e+02 1.101e+03\n",
      " 1.010e+03 1.074e+03 6.300e+01 6.920e+02 9.680e+02 3.550e+02 1.137e+03\n",
      " 8.810e+02 1.239e+03 4.800e+02 1.640e+03 7.600e+01 3.620e+02 1.336e+03\n",
      " 1.011e+03 2.620e+02 1.550e+02]\n",
      "BsmtFin Type 2 : ['Unf' 'Rec' nan 'BLQ' 'GLQ' 'LwQ' 'ALQ']\n",
      "BsmtFin SF 2 : [   0.  713.  117. 1057.  173.  290.  420.  469.   42.  955.  483.  147.\n",
      "  596.  206.  382.  546.  202.  228.  661.  279.  106.  321.  232.  956.\n",
      "  670.  915.  116. 1080.   80.  215.  144.  590.  149.  281.  297.  612.\n",
      "  468.  891.  622.  507.  432.  852.  108.  128.  294. 1061.  127.  712.\n",
      "  125.  324.  252.  247.   72.  150.  906.  555.   38.  180.   64.  288.\n",
      "  311.  227.  842.  620.  181.  162.  354.  539.  551.  110.  219.  547.\n",
      "  186.  774.  123.  613.  167.  230.  495.  208.  308.  604.  154.  334.\n",
      "  417.  624.  442.  497.  211. 1474.  532.  132.  829. 1127.  435.  174.\n",
      "  105.  375.  608. 1039. 1063.  264.  270.  259.  531.  488.  500.   41.\n",
      "  177.  169.  344.  869.  182.  768.  119.  619.  345.  645.  278.  113.\n",
      "  466.  522.    6.  377.   92.  859.  479.  239. 1083. 1085.  441.  841.\n",
      "   40.   60.   68.  102.  156.  692.  400.  823. 1037.   81.   96.  465.\n",
      "  600. 1120.  284.   nan   66.  811.   28.  286.  168.  374. 1073.  175.\n",
      "  387.  380.  850.   76.  722.  306.  748.  159.  120.  419.  373.  351.\n",
      "  196.  688.   93.  982.  580.  121.  262.   52.  474.   35.  210. 1393.\n",
      "  723.  499.  263.  506.  138.  258.  276.  273.  450.  526.  364.   95.\n",
      "  486.  761.  201.  240.  875.  872.  163.  557.   12.  404.  529.  411.\n",
      "  492.  750.]\n",
      "Bsmt Unf SF : [ 192.  276.  326.  384.  676.  557.    0.  188.  632.  390.   96.  815.\n",
      "  147. 1327. 1430.  624.  470.  660.  732.  402.  343. 1209.  233.  141.\n",
      "  224.  336.  957.  672. 1420.  792.  507.  417.  160.   36. 1139.  570.\n",
      "  136.  690. 1050.  134.  398.  156.  776.  412.  764.  403.  500.  133.\n",
      "  370.  216.  292.  190.  450.  778.  628. 1120.  328.  576.  727.  914.\n",
      "  285.  976. 1802. 1346.  162. 1140.  970. 1616.  768.  872.  520.  662.\n",
      "  936.  448.  312.  876.  325. 1251.  551.  588.  320.  599.   98.  122.\n",
      "  138. 1081.  550.  250.  408.  547.  180.  245.  114.  191.   32.  595.\n",
      "  269.  978. 1078. 1116.  308. 1290.  587.  107.  706.  565.  161. 1008.\n",
      "  584.  707.  637.  113.  367.  677.  466.  100.  396.   25.  780. 1530.\n",
      " 1528.  744.  381.  218.  610.  459.  606.  144.  888.  220. 1752.  522.\n",
      " 1191.  171.  710.  816. 1040.  108.  175.  572.  544.  324. 1218.  342.\n",
      "  567. 1313.  252.  327. 1121.  268.  334. 1257.  983.  556.  479. 1234.\n",
      " 1090.  748. 1450.  832.  728. 2336.   27. 1066.  554.  242. 1026. 1374.\n",
      "  426. 1162. 1436.  126. 1232.  481.  920.  750.  135. 2062.   93.  278.\n",
      "  341. 1122.  195.  366.  678.  540.  201.  504.  206.  305.  496. 1404.\n",
      " 1342.  316.  164.  849.  354.  226.  619. 1242.  150.  228.  223.  340.\n",
      "  801.  438.  538.  480.  140. 1145.  286.  348.  319.  600. 1765.  317.\n",
      " 1362.   99.  142. 1357.   23.  270.  596.  831.  432. 1527.  891.   35.\n",
      " 1503.  186.  288.  248.  864.  821.  429.  416.  406.  102.  721.  784.\n",
      "  184.  240.  409.  951.  280. 1296.  889. 1800.  360.  847. 1402.  293.\n",
      " 1656.  958. 1969.  661.  585.  844.  686.  901.   90.  210. 1074.  671.\n",
      "  602.  125.   75.   78.  163. 1795.  166.  560.  912. 1774. 1013.  698.\n",
      " 1057.  413.  462. 1704.  798.  611.  322.  440.  344.  774.  307.  930.\n",
      "  232. 1114.  530.  960.  932.  755. 1558.  427. 1721.  473.  702.  777.\n",
      "  207. 1590.  571.  121.  378. 1093.  111.  811.  649.  684.  756.  392.\n",
      "  212.  464.  717.  239.  738.  898.  476.  217. 1638.   34.  490.  264.\n",
      "  604. 1129. 1168.   26. 1689.   53.  282. 1228.   72. 1442. 1406.  258.\n",
      "  545.   89.  794.   83.  112.  736.  415.  128.  613. 1302. 1077.  104.\n",
      "  356.  747.  569. 1566.  741.  526.  294.  200.  945.  284.  437.  742.\n",
      "  680.  225.  404.  808.   38.  583.  969. 1064. 1736.  630.  840.  799.\n",
      "  306. 1468.  300. 1824.  198.  716.  484.  238.  235.  785.  363.  622.\n",
      " 1678.  262.  749.   94.  620.  879.  510.  866.  485.  515. 1075.  723.\n",
      "  928.  896.  862.  769.  858. 1324. 1276. 1104. 1515.  486.  712.  137.\n",
      " 1097.  298. 1768.  474.  967. 1836.  197.  664.  331.  488.  460. 1602.\n",
      "  382. 1630.  726.  230. 1063.  106. 1020.   86. 1314.  689.  992.  251.\n",
      "  673.  528.  346.  910.  880.  918.  295.  656.  124.  836.  645.  457.\n",
      "  767.  405.  222. 1434.  917.  132. 1095.  574.  752.   70. 1195.  168.\n",
      "  383. 1246.  386.  495.  274.  546.  725.  442.  666. 1204. 1141.  148.\n",
      "  187.  362. 1580.  424.  103.  256.   82.  410.  828. 1694.  397.  549.\n",
      "   50. 1604. 1164. 1041.  796.  431. 1594.  357.  208.  369.  350.  130.\n",
      " 1632. 1092. 1118.  129. 1098.   60. 1560.  793.   42.  399.  443.  988.\n",
      " 1491.  117.  323.   80.  577.  846.  533.  652.  797.  423.  176.  739.\n",
      "   56.  663.  779.  720. 1043.  379.  213.  715.  636.  848.  395. 1526.\n",
      " 1258.  814.  380.  823.  169.  249.  261.  189.  420.  234. 1143. 1046.\n",
      "  172. 1180.  467.  593. 1144. 1486. 1007. 1550.  120. 1211. 1323.  724.\n",
      "  868. 1184.  411.  303. 1480. 1614. 1498.  414.  297.   77.  215. 1100.\n",
      " 1087.  935.  433.  499. 1453.  789.  482.   79.  927.  321.  952. 1022.\n",
      " 1390. 1496.  938. 1117.  131.  590.  425.  646.  953. 1428.  536.   55.\n",
      "  279.  939.  516. 1489.  149.  318.  153.  517. 1017.  296. 1598. 1158.\n",
      " 1794.  905.  765.  174.  616. 1728.  564.  253.  525.  972.  740.  971.\n",
      " 1280.  214.   45.  679.  203.  975. 1316.  760.  477.  445.  924.  281.\n",
      " 1107.   30. 1330.  332.  534.  638.  884. 1958.  903.  455.  527. 1307.\n",
      "  422.  833.  758.  809.  441.  506.  575.  916. 1152. 1032.  860.  830.\n",
      "  697.  580.  463. 1240.  761.  419. 1508. 1510.  850. 1351.  692.  428.\n",
      "  177. 1319.  143.  105. 1626.  586.  819.  339. 1237. 1603.  456. 1413.\n",
      "  310.  675.  961.   17.  468.  237.  788. 1488.  783. 1410.  372. 1373.\n",
      "  647.  115.  265.  349.  247.   92.  996.  704. 1293.  791.  852.  713.\n",
      "  271. 1349. 1424. 1573.  330. 1473.  400.  221.  513. 1753. 1272. 1214.\n",
      "  219.  548.  393. 1270.  746.  781.  773.  618.  782.  263.  254.  333.\n",
      " 1405.  231.  834.   57. 1082.  246.  181.  498.  709. 1335.  771.  542.\n",
      "  683. 1273. 1042.  718.   58. 1482.  594.   54.   nan 1018. 1094.  579.\n",
      " 1194. 1706.  552. 1664.  389.  730.  700.  444. 1649.   15.  940. 1905.\n",
      "  299. 1568. 1217.  487.  434.  598.  925.  505.  352.  167.  359. 1262.\n",
      "  170.  851. 1010. 1584.  301.  813.  931. 1200.  559.   88.  165.  635.\n",
      "  109.  655.   46.  475. 1326.  185.  291.  705.  430.  461.  810. 1368.\n",
      "  641.   61.  605.  375.   76.  626. 1212.  640.  532.  882.  948.   33.\n",
      "  541.  581. 1494.  503. 1088. 1595. 1680. 1198.  229.  304.  335.  329.\n",
      " 1670. 2140.  977.  345.  314.  501. 1422.  266.  521.  447.  435.  763.\n",
      "  644.  182.  508. 1073. 1461.  388. 1504.  193. 1254.  452. 1012.  118.\n",
      "  255.  735. 1474.  802. 1249.  277. 1495. 1574. 2121. 1588. 1851.   81.\n",
      "  364. 1055. 1380.  806.  835. 1099.  483.  236. 1054.  309.   48.  568.\n",
      "  963. 1926.  454.  502.  311. 1048.  722.  465. 1582.  631.  908.  825.\n",
      "  733.  892.  204.  817.  275.  877.  608. 1710.  374. 1332. 1250. 1935.\n",
      " 1266.  612. 1497.  674.  173. 1734. 1179.  539.  818.  127.  625.  658.\n",
      "  894. 1400.  995.  436. 1030. 2153. 1660.  561.  874.  592.  770. 1286.\n",
      " 1348.  878. 1451.  861.  974. 1519.  729.  449. 1125. 1375.  155. 1085.\n",
      " 1304.  289.  110.  361. 1411.  621. 1393.  158.  494.  589.  762. 1221.\n",
      " 1341.  643. 1777.   84. 1470.  365. 1146. 1907. 1685.  693.  745.  772.\n",
      " 1065. 1559. 1153.   20.  845.  667.  179. 1252. 1298.  926.  734. 1347.\n",
      " 1556. 1203.  338.  859. 1115.  701.  873.  994.]\n",
      "Total Bsmt SF : [ 725.  913. 1057.  384.  676. 1517.  547. 1188.  924. 1040.  483. 1208.\n",
      "    0.  960. 1351. 1430.  624. 1121.  660.  756.  894. 1501. 1209. 1168.\n",
      " 1056. 1453.  942.  957.  672. 2524.  792. 1494.  948. 1705.  160.  757.\n",
      " 1844. 1242.  990. 1256. 2076. 1097. 1050.  608.  984.  776.  764. 1122.\n",
      " 1392.  546.  216.  663.  600.  936.  916. 1152. 1184. 1420. 1382. 1120.\n",
      "  531.  976. 1802. 1362. 1508. 1840.  655.  970. 1616.  768.  872.  520.\n",
      " 1105.  616. 2216.  876.  864. 1189. 1666. 1176.  928. 1288. 1427.  860.\n",
      "  754. 1141. 1138. 1561. 1342. 1884.  528. 1426.  245.  804. 1153.  673.\n",
      "  714.  690.  978. 1078. 1116. 1140. 1466. 1614.  988.  996. 1202. 1008.\n",
      "  720.  994.  707.  637.  813. 1055.  855. 1719.  780. 1554. 1528.  982.\n",
      " 1172. 1642.  884. 1422.  985.  888. 1992. 1478.  930.  912. 1326. 1191.\n",
      " 1070.  816.  929.  536.  572. 1060.  381. 1218.  728. 1271. 1313.  783.\n",
      " 1092. 1311. 1257. 1683. 1485. 1234. 1398.  966. 1567. 1090. 1248. 1570.\n",
      " 1450.  832. 2392.  530. 1017. 1066.  918. 1370. 1068. 1374. 1004. 1162.\n",
      " 1436. 1196. 1031.  448. 1505.  920.  750. 2062. 1602. 1114. 1224.  741.\n",
      " 1702. 1461. 1265.  856.  504. 1592.  896. 1022. 1444. 1124. 1625. 1064.\n",
      "  907.  348. 1581. 1336.  801. 1113.  911.  420. 1575. 1059. 1005. 1765.\n",
      "  833. 1058.  914. 1373.  716.  882.  915. 1800.  831. 1190. 2190. 1582.\n",
      "  891. 1344. 1652.  570.  848. 1291.  462. 1067. 1230. 1151.  704.  416.\n",
      " 1329.  721.  784.  735. 1220. 1778.  825.  951. 1752. 1094. 1080.  847.\n",
      " 1402. 1051.  755. 1656. 3200.  661.  585. 1620.  844.  686.  992.  901.\n",
      " 1249.  955. 1074.  602.  588.  836.  648.  713. 1795.  560.  972. 1822.\n",
      " 1013.  698. 2109.  943. 1704.  798.  793. 1542.  910.  824.  774. 1246.\n",
      "  800.  925. 1144. 2223.  932. 1686. 1721. 1012. 1029.  777. 1590. 1268.\n",
      " 1086. 1671.  794.  811.  649.  684. 1143.  740.  778. 1698.  738. 1348.\n",
      "  952. 1158. 1638.  731. 1187.  880. 1177. 1337.  551. 1128.  290.  456.\n",
      " 1129. 1562.  650. 1689. 1100. 1228. 1025. 1442. 1406. 1054. 1460.  840.\n",
      "  736. 1595. 1302. 1502.  192. 1408. 1077. 1028.  799. 1566.  765.  835.\n",
      "  945. 2220.  886. 1462.  949.  742.  680. 1792. 1479.  808. 1986.  583.\n",
      "  969. 1736.  630. 1452. 1393. 1468. 1204. 1824.  484. 1868.  622. 1240.\n",
      " 1722. 1678. 1267. 1587. 1728.  879.  866.  485. 1199. 1310.  644. 1095.\n",
      " 1075. 1216.  747.  862. 1538.  858.  319. 1324. 1276. 1104.  819. 1405.\n",
      " 1127. 1164. 1001. 1073. 1768. 1350.  967.  828.  576. 1836. 1241.  908.\n",
      " 1254. 1630. 1165. 1259. 1174. 1475. 1536. 1063. 1020.  946.  995. 1338.\n",
      "  689. 1260. 1782. 1922. 1700. 2492.  991. 2048. 1766.  405.  677. 1149.\n",
      " 1512. 1454.  812.  917. 1037. 1389.  440. 1096. 1032. 1148. 1357. 1195.\n",
      " 1624. 1484. 1170. 1154. 2078. 1455. 2458.  732. 1117.  636. 1580. 1643.\n",
      " 1309.  868. 1041.  481. 1694.  432. 1193. 1606. 1604.  981.  450.  796.\n",
      " 1463. 1594. 1262. 1175. 1247. 1738. 1568. 1377.  752. 1142. 1381. 1626.\n",
      " 1198. 1560. 1047. 1491. 1645.  631. 1710. 1253. 1748.  870.  533. 1361.\n",
      "  797.  973.  900. 1269. 1039. 1156.  845. 2461.  423. 1200. 1650.  525.\n",
      "  715. 2320.  941.  611. 1546.  940. 1504.  822.  651. 1673. 1046.  935.\n",
      " 1180.  815. 1486. 1286. 1385. 1858. 1007. 1550. 1235. 1052. 1829. 1480.\n",
      " 1490. 1150. 1440. 1525. 1106. 1500.  826. 1902. 1498.  297. 1319. 1081.\n",
      " 1024.  944.  853.  770.  729. 1160. 1425.  662. 1489. 1833.  789. 1518.\n",
      " 1391. 1251. 2035. 1578. 1684. 1088. 1414. 1496. 1072. 1048.  931. 1742.\n",
      "  953. 1428.  610. 1433. 1019. 2158.  264.  279.  939. 6110.  612.  782.\n",
      " 1244.  666. 1510.  550. 1978. 1598. 1809. 1065. 1002. 1282. 1994. 1522.\n",
      " 1529. 1680. 1838.  675. 1617. 1145. 1431.  923. 1237. 1390. 1093.  922.\n",
      " 1126. 1280.  771. 1524. 1516. 1316.  760.  806.  727. 1107. 1573. 1221.\n",
      "  691. 1346.  385. 1364. 1317. 2418. 1386. 1555. 1541. 1958.  903.  938.\n",
      " 1378. 1010. 1181.  861. 1682. 1950. 1845. 1416.  830. 1473. 1226. 1564.\n",
      "  482.  396. 1166.  850. 2633. 1061. 1290. 1675. 1300.  980. 1419. 2014.\n",
      " 1203. 3206. 1552. 1413. 1488. 2271.  961. 1409. 3094. 1232. 1410. 1099.\n",
      "  892. 1763.  190. 1314. 1278. 1274. 1641.  540. 1027. 1112. 1380. 1084.\n",
      " 1347.  392. 1293.  791. 1334. 1069. 1349. 1424. 1368. 1312. 2846.  628.\n",
      "  803.  926.  779. 1753. 1272. 1214. 1565. 2217.  697. 1964. 1270. 1179.\n",
      "  746.  781. 1898. 1531.  494. 1134.  979. 1258. 1082. 1328.  854.  498.\n",
      " 1712. 1335. 1223. 1952. 1556. 1593. 1273. 1042.  773.  718. 1482. 1679.\n",
      "   nan 1044.  712. 1194.  895. 1706. 1664. 1621. 1734.  849.  950.  874.\n",
      " 1649.  683.  270. 1905. 2033.  964. 1330. 1264.  954. 1036.  975. 1760.\n",
      " 2108. 1696. 1034.  851. 1584. 1632.  702.  506. 1358. 1281.  744.  409.\n",
      " 1306.  372. 1000.  516. 1612. 1003. 1045. 1487. 1746. 1976. 1212.  561.\n",
      " 1352.  430.  480. 1803. 1520.  814. 1083. 1629. 1026. 1318. 1325. 1569.\n",
      " 1437. 1670. 2140. 1219. 1739. 1842. 1015. 1252. 1236. 1610. 1277. 1062.\n",
      " 1850.  552.  817.  408. 1596. 1053. 1178. 2020. 1438.  678. 1495. 1574.\n",
      "  837. 2121. 1588.  492. 1851. 2452.  763. 2136. 1076.  739. 2330.  873.\n",
      " 1299. 1733. 1021. 1296. 1926. 1603. 1395.  502. 1860.  859. 1476. 1401.\n",
      " 1331. 1365. 1657.  788. 1470.  956. 1600. 1332. 1250. 1935. 1049. 1266.\n",
      " 1341.  173. 1103.  998.  818.  625.  658. 1157. 1751. 1400.  656. 1030.\n",
      " 2153. 1660.  458.  592. 1215.  983.  839. 1372. 1533. 1511. 1089. 1720.\n",
      " 1519.  842. 1577.  989. 1125. 5095. 1304.  626.  810.  699.  963.  795.\n",
      " 1173. 1559. 1980. 2200. 1777. 1297. 1146. 1907. 1685.  693.  745. 1713.\n",
      "  526. 2660. 2171. 1396. 1284. 1623.  352.  596.  617. 1298.  959. 1367.\n",
      "  539. 1243.  700. 1572. 1932.]\n",
      "Heating : ['GasA' 'GasW' 'Grav' 'Wall' 'OthW']\n",
      "Heating QC : ['Ex' 'TA' 'Gd' 'Fa' 'Po']\n",
      "Central Air : ['Y' 'N']\n",
      "Electrical : ['SBrkr' 'FuseF' 'FuseA' 'FuseP' 'Mix']\n",
      "1st Flr SF : [ 725  913 1057  744  831 1888 1072 1188  924 1040  483 1208 1288  962\n",
      " 1361 1430  624 1121 1285  764  894 1659 1209 1187 1056 1453 1265 1034\n",
      "  672 2524  792 1494  948 1718 1142  925 1844 1242  990 1256 2076 1110\n",
      " 1050  983  984  851 1063  768 1328 1392  546 1575  663  600  936  916\n",
      " 1164 1184 1483  960 1382 1120  567  976 1802 1506 1508 2032 1194  970\n",
      " 1616  872  520 1105  616 2234  876  864 1189 1666 1200  928 1336 1427\n",
      " 1212  754 1535 1152 1151 1138 1074 1561 1358 1884  605 1671  797  804\n",
      " 1193  673 1664 1390  868 1422 1128 1116  660 1707 1466 1638 1721  996\n",
      " 1202  988 1028  720 1599  707  959  813 1092 1055  676  855 1719  780\n",
      " 1554 1528 1008 1172 1418  495  985  888 1992 1478  950  912 1326 1204\n",
      "  798 1236 1416  946 1088  816  536  572 1126  992  752 1218 1601 1313\n",
      "  807 1325  733  884 1266 2129 1464 1216 1264 1414 1743 1567 1370 1338\n",
      " 1590 1450  846  728 2392  530 1026 1108  918  548 1557 1287 1004 1162\n",
      " 1436 1196 1269 1031  448 1505  954  750 2079 1252  774 1114 1224 1134\n",
      "  760 1497 1702 1509  961 1240 1166 1652 1182 1122 1488 1624 1362 1068\n",
      " 1625 1064  907  640 1251  453 1095 1124 1014 1306 1160  930  708 1059\n",
      " 1005 1804  833 1586  914 1555  716  882 1167 1800  812 1522 2036 1595\n",
      "  891 1344  832 1222  848 1291  526  986 1239  860 1329  879  841  900\n",
      " 1360 1786 1097 1112 1696 1752 1102  854  847 1402  887 1051  755 1656\n",
      "  958 3228  661 1140 1632 1445 1022  861 1622  955  844  811 1795  704\n",
      "  972 1828 1013  786 2113 1387 1722  840 1542  910  824 1246 1144 2223\n",
      "  581  932  929 1686 1614 1740 1318 1117 1627  697  769 1687  819  649\n",
      "  773  952 1113  778  944 1698 1262  902  738 1384 1158 1646  981 1565\n",
      "  880 1060 1096 1223 1337  551  438 1033 1129 1689 1424 1025 1442 1454\n",
      " 1070  898 1460 1174  751 1058 1302 1502 1133 1146 1444  799 1600 1230\n",
      "  765  835  945  886 1513 1107  827  742 1792 1515  808 1181 1987  647\n",
      "  969 1736  800 1589 1479  784 1476  743 1576  943 1377 1062 1824 1469\n",
      " 1007  825 1342 1868  741 1728 1678 1296 1587 1080  866 1001 1220 1310\n",
      " 1156 1620  896  747 1538 1143 1035 1324  904 1276 1104 1165 1320 1277\n",
      " 1299 1630 1768  810  967  883  874 1836 1241 1334 1429 1566 1316 1709\n",
      " 1254 1211 1353 1532 1536 1811 1071 1073 1020  964 1009 3820  703 1782\n",
      " 1922 2492  991 2064  836 1766 1137 1364  920  717 1512 1434 1090 1037\n",
      " 1389  694 1118 1032 1148 1366 1195  686 1258 1170  714 1154  909 2084\n",
      "  951 2490 1141  732  820  636  576 1580 1558 1339  372 1125  899  828\n",
      " 1694 1065 1523 1651 1041 1604 1500 1594 1175  664  630 1247 1738 1405\n",
      " 1228 1153 1383 1403 1712 1560 1083 1675 1491 1710 1253 1217 2151 1131\n",
      "  830  772 1553  905 1039 1520 1704 1149 1178 2497 1432 1680  869  885\n",
      "  525  715 2290  941  940 1546 1346 1012 1504 1700  756  759 1673 1690\n",
      " 1054  935 1180  815 1486 1734 1531 1363 1866 1077 1550 1248 1245 1052\n",
      " 1829 1480 1501 1440 1525 1190  878 1902 1658 1373 1091 1081  999  853\n",
      "  729  757 1425  908 1150 1850 1537 1391 1433  845 2515 1602 1684 1496\n",
      "  997 1048 1283 2042 1203  953 1428 1093 1378 1357 2196  938 2726  939\n",
      "  789 1489 4692  612 1100 1019 1356  666  901 1584 1978 1606 1822 2259\n",
      "  915 1002 1290 2046 1548 1691 1838 1867 1301  923 1210 1701  922 1280\n",
      " 1368  753 1534  994 1699 1516 1588  829 1518 1778 1221  740  713 1411\n",
      "  875 1663 1375 2464 1569 1541  989 2048  957  793 1053 1742 1232 1950\n",
      " 1872 1168 1207 1644 1484 1226 1169 1564  665 1179 2633 1688 1341 1309\n",
      " 1634  980 1312 1419 1521 2014 1214 1629 1552  770  734 2276 1610 1409\n",
      " 2402 1426 1431  892 1779  788  873 1314 1294 1274 1641  617 1044 1027\n",
      " 1380 2158 1372  684 1295 1468 1069 1349 1578 1511 2696  628 1130 1098\n",
      " 1321 1260  926 1029 1788 1272 2898 2217  689 1964 1270  897  795 1490\n",
      " 1898 1801  494 1229 1082  858  498 1420 1335  966 1271 2000 1592 1593\n",
      " 1456 1042 1482 1404 1803 1079 1030 2069  806  895  849 1061 1621 1075\n",
      " 1225 1661 1024 1905 1101 1733 1568 2053  687 1347 1524 1282 1036  680\n",
      "  975 1760  968 1086 2122 1662 1010  334  796  822  993 1235 1205 1000\n",
      "  529  838 1612 1003 1640  889 1045 1452 1746 1976  561 1352 1626  480\n",
      " 1132 2365 1159  814 1016 1611 1437 1670 2140 1636 1842 1186 1127 1268\n",
      "  730 1458 1278  779 1648  782  735 1498 1293 2020 1900  977 1249 1495\n",
      " 1647  698 2121  492 1851 2452  763 1176 2136 1076 1099 2364  575 1078\n",
      " 1462 1423 1933 1465  662 1966 1395  502  942  790 1582 1650 1365 1657\n",
      "  956  608 1332 1298 1973 1238 1161 1573 1103 1006  871  818 1109  679\n",
      "  625  658 1400 1094 1038 1183 1660  933 1215 1448 1533 1787 1089 1720\n",
      "  949  856 1577  781 2034 5095 1682  626  702  801  963 1398  803 2073\n",
      " 1067 1559 1980 1470 1547 2200 1297 1319 1463 1959 1685  693  745 1713\n",
      " 1472 2338  877 1510 1407 1136  712  834  865  540 1367  867 1556 2156\n",
      "  859 1191 1304 1572 1932]\n",
      "2nd Flr SF : [ 754 1209    0  700  614 1040  504  728  645  720  783 1044  673  957\n",
      "  252  725  550  745  890  620  651  862  756  653 1392  546  689  600\n",
      " 1106 1426  780  531  732  739 1169  665  616  540  786 1368 1157  709\n",
      "  690  445  836  564 1345  707  650  712  676  601  240 1862  881  408\n",
      " 1427  857 1074  876 1045  813  927  576  539  586  624 1182  702 1093\n",
      "  884  743  941 1312 1384 1296  492  462  981 1277 1254  272  750  608\n",
      "  656 1370  595  797  960  549  703 1250  453  561  685  636  872  886\n",
      "  840  829  670  795  505  698  537  864  804  704  412  924  896  376\n",
      "  438 1371 1089  755  589 1158  980 1038  517  925  602  887  741  348\n",
      "  390 1036  672  475  464 1194  530  701  929  584  465  319  563  695\n",
      "  668  582  545 1005  757  585  684  787  888  336  551  903 1198  524\n",
      "  482  869  738  596  727  493 1407  785  779 1340  351  525  861  794\n",
      " 1111  742 1134  245  832  880  772  848 1237  736  144  806  784 1007\n",
      " 1004  587  622  568  444  916  913  634  547 1129  642  448  384  208\n",
      "  371 1128  767  512  677  809  671  628  808  972  486 1101  788  838\n",
      "  312  910  844  648  956  825 1001  817  432  322 1377  841  917  679\n",
      "  220  833  581  775 1319  662  863 1221  527  360  467 1037  658  846\n",
      " 1122  851  868  878  752  793  495  902  644 1259  660 1177  973  472\n",
      " 1032  430  807  567  611  778  831  534 1589  875  455 1234 1440  528\n",
      "  900  297  466  717  866  915 1017  571  765 1288  468 1323  885  476\n",
      "  711 1721  536  213  688 1215  858  950  612  834  912  450 1208  796\n",
      "  729 1066  605 1357 1242  588 1523  928  341 1518  125  623  428  630\n",
      " 1133  332 1168  629 1342 1151  325  304  548  590 1332 1196  691 1230\n",
      "  734 1142 1285 1306  812 1104  441 1519  678  606 1274  753  770  396\n",
      "  718 1054  664 1103 1139 1126  520  626 1120  439 1304  898  936  908\n",
      "  977  940  828  871  762  424 1420  860  686 1232  640  518  990  978\n",
      " 1092  744  735  436  897  663 1349  918  423  580  923 1238 1061  811\n",
      " 1063  378 1171  316 1185  747 1540  425 1330 1414  680  975 1028  370\n",
      " 1257  998  843  976  583  760  914 1029  954  533  516  477  716  358\n",
      "  498  541  473 1320  420  500  932 1203  984  971  368 1619  800  639\n",
      " 1097 1042  615 1070 1098  592  870 1369  299 1347  649  892  790  560\n",
      "  766  842  748  573 1567  356 1174  899  502  988  570  510 1140  768\n",
      " 1325  694 1276 1020 1152  631 1309 1295  850  574 1611  895 1240  328\n",
      " 1088  818  488  625 1246  526  882  556 1315  761 1060  874  893  764\n",
      " 1131 1114  591  454 1836  726  400  521 1275  494 1160 1818 1100 1248\n",
      "  985  883  845 1200 1162  730  659 1099  827 1335  983 1096  855  776]\n",
      "Low Qual Fin SF : [   0  205   80  528  513  371  473  108 1064  515  120  312  572  234\n",
      "  390  697  114  512  144  514  397  140  479  259  436  156  384  360\n",
      "   53  362  450]\n",
      "Gr Liv Area : [1479 2122 1057 ... 2668 1913 1804]\n",
      "Bsmt Full Bath : [ 0.  1.  2. nan  3.]\n",
      "Bsmt Half Bath : [ 0.  1. nan  2.]\n",
      "Full Bath : [2 1 3 0 4]\n",
      "Half Bath : [1 0 2]\n",
      "Bedroom AbvGr : [3 4 2 5 1 0 6 8]\n",
      "Kitchen AbvGr : [1 2 0 3]\n",
      "Kitchen Qual : ['Gd' 'TA' 'Fa' 'Ex']\n",
      "TotRms AbvGrd : [ 6  8  5  7  9  4 12 11 10  3 14  2 13 15]\n",
      "Functional : ['Typ' 'Mod' 'Min2' 'Maj1' 'Min1' 'Sev' 'Sal' 'Maj2']\n",
      "Fireplaces : [0 1 2 4 3]\n",
      "Garage Type : ['Attchd' 'Detchd' 'BuiltIn' 'Basment' nan '2Types' 'CarPort']\n",
      "Garage Yr Blt : [1976. 1997. 1953. 2007. 1957. 1966. 2005. 1959. 1952. 1969. 1971. 1900.\n",
      " 2000. 2004. 1916. 1963. 1977. 2009. 1968. 1992. 1955. 1961. 1973. 1937.\n",
      "   nan 2003. 1981. 1931. 1995. 1958. 1965. 2006. 1978. 1954. 1935. 1951.\n",
      " 1996. 1999. 1920. 1930. 1924. 1960. 1949. 1986. 1956. 1994. 1979. 1964.\n",
      " 2001. 1972. 1939. 1962. 1927. 1948. 1967. 1993. 2010. 1915. 1987. 1970.\n",
      " 1988. 1982. 1941. 1984. 1942. 1950. 2002. 1975. 2008. 1974. 1998. 1918.\n",
      " 1938. 1985. 1923. 1980. 1991. 1946. 1940. 1990. 1896. 1983. 1914. 1945.\n",
      " 1921. 1925. 1926. 1936. 1932. 1947. 1929. 1910. 1917. 1922. 1934. 1989.\n",
      " 1928. 2207. 1933. 1895. 1919.]\n",
      "Garage Finish : ['RFn' 'Unf' 'Fin' nan]\n",
      "Garage Cars : [ 2.  1.  3.  0.  4.  5. nan]\n",
      "Garage Area : [ 475.  559.  246.  400.  484.  578.  525.  531.  420.  504.  264.  632.\n",
      "  576.  480.  610.  624.  513.  528.  614.  450.  499.  575.  572.  530.\n",
      "  336.  240.    0.  542.  481.  410.  826.  384.  546.  276.  850.  602.\n",
      "  352.  786.  660.  270.  280.  474.  440.  564.  299.  293.  386.  671.\n",
      "  550.  690.  225.  350.  216.  380.  843.  539.  834.  322. 1166.  720.\n",
      "  392.  555.  252.  502.  516.  608.  495.  396.  556.  725.  670.  560.\n",
      "  501.  490.  286.  360.  479.  626.  470.  304.  864.  403.  579.  288.\n",
      "  473.  627.  758.  431.  260.  366.  852.  672.  486.  656.  716.  442.\n",
      "  297.  388.  461.  447.  619.  308.  506.  319.  676.  312.  478.  342.\n",
      "  393.  983.  923.  487.  543.  453.  541.  754.  666.  529.  714.  968.\n",
      "  788.  812.  600.  483.  300.  430.  230.  505.  368.  618.  402.  658.\n",
      " 1052.  642.  510.  509.  451.  569.  460.  462.  256.  751.  231.  257.\n",
      "  650.  795.  429.  435.  452.  944.  493.  552.  780.  784.  928.  263.\n",
      "  295.  477.  356.  234.  294.  649.  565.  715.  438.  349.  675.  702.\n",
      "  783.  433.  625.  686. 1150.  441.  390.  162. 1356.  880.  180.  364.\n",
      "  434.  895.  220.  305.  330.  774.  839.  814.  250.  281.  680.  796.\n",
      "  612.  874.  888.  412.  756.  394.  924.  768.  498.  404.  228.  870.\n",
      "  320.  577.  596.  324.  828.  615.  540.  326.  496.  198.  436.  210.\n",
      "  806.  471.  648.  389.  215.  890.  765.  638.  724.  444.  521.  746.\n",
      "  588.  691.  630.  558.  898.  858.  668.  574.  932.  316.  846. 1085.\n",
      "  338.  842.  255.  545.  590.  208.  408.  282.  511.  532.  489.  492.\n",
      "  482.  432.  698.  517.  750.  520.  554.  810.  449.  375.  514.  947.\n",
      " 1017.  598.  500.  160.  949.  265.  816.  527.  488.  678.  871.  437.\n",
      "  729.  845.  628.  357.  418.  779.  358.  757. 1220.  327.  472.  830.\n",
      "  739.  164.  200.  818.  616.  712.  831.  857.  585.  351.  422.  271.\n",
      "  275.  557.  497.  684.  772.  899.  800.  205.  512.  267.  583.  427.\n",
      "  573.  603. 1174.  841.  840.  704.  700.  692.  439.  311.  535.  283.\n",
      "  620.  313.  399.  859.  570.  591.  567.  726.  592.  100.  401.  534.\n",
      "  760.  378.  406. 1053.  674.  868.  856.  456.  494.  306. 1184.  844.\n",
      "  597.  925.  701.  639. 1418.  353.  522.  902.  662.  878.  663.  682.\n",
      "  317.  303.  683.  405.  611.  213.  594.  463.  310.  912.  728.  323.\n",
      " 1138.  776.  254.  370.  706.  604.  296.  792.  195.  606.  804.  866.\n",
      "  744. 1105.  721.  782.  605.  372. 1348.  789.  515.  920.  738.  641.\n",
      "  454.  273.  544.  315.  508.  954.  885.  249.  551.  808.  398.  904.\n",
      "  958.  836.  665.  644.  936.  621.  397.  892.  524.  331.  736.  586.\n",
      "  884.  645.  284.  457.  301. 1043. 1314.  416.  538.  371.  580.  363.\n",
      "  916.  253.  226.  609.  458.  938.  566.  711.  469.  562.  467.  561.\n",
      "  533.  468.  719.  908.  466.  752.  933.  636.  581. 1231.  894.  820.\n",
      "  927.  896.  325.  787.  261.  379.  584.  309.  343.  476.  732.  207.\n",
      "  825.  886.  292.  373.  224.  959.  248.  862.   nan  811.  518.  464.\n",
      "  748.  242.  730.  741.  622.  185. 1020.  485.  549.  694.  423.  687.\n",
      " 1041. 1154.  526.  673.  595.  900.  623.  770.  696.  851.  685.  428.\n",
      "  766.  689.  209. 1110. 1008. 1069.  865.  601.  876.  667.  217.]\n",
      "Garage Qual : ['TA' 'Fa' nan 'Gd' 'Ex' 'Po']\n",
      "Garage Cond : ['TA' 'Fa' nan 'Po' 'Gd' 'Ex']\n",
      "Paved Drive : ['Y' 'N' 'P']\n",
      "Wood Deck SF : [   0  100  335  105  169  138  212  243  483  264  416  474  208  104\n",
      "  256  736  216  303  431  200  379  168  132  496  280  158  142   49\n",
      "  418  228  261  312  225  140  227  203  307  214  125  153   88  230\n",
      "   50  276  144  421  187  122   52  156  204  344  240  160  193  114\n",
      "  275   12  120  328  108  182   28  178   60  250   38  324  646  176\n",
      "  248  112  306  143  302  257  146  409  224  232  192  136  441   48\n",
      "  180  221  263   81  134  164  268  194  191   32  161   96  210  173\n",
      "   90  106  172  393   63  196  246  288  385  237  205  188  242   30\n",
      "   54  439  209   22  236  282   24   86  300  384  148  147  365  238\n",
      "  201  370  327  521  184  298  315  371  128  211  218  270  390  133\n",
      "  135  206  342  262  329   94  319  126  530  190   45   66  354  289\n",
      "  382   84  198  394  277   36  392  119   33  321   97   74  450   99\n",
      "  226  318   80  195  290  118  103  252   70   85  380  260  296   42\n",
      "  311  186  150  407   51    4  272  444  165   58  641  155  266  297\n",
      "   78  115  239  414  503  404   26  432  219  320   64  244  171  284\n",
      "  519  495   68   16  309  202  349  141 1424  400  336   92  166  159\n",
      "  406  476  500  295  189  367  467  162  123  278  352   53  358  185\n",
      "  197  424   56  110  386  220  460  314  265  728  462  536  340  364\n",
      "   40  130  152  586  154  253  413  199  576  207   14  269  129  223\n",
      "  286  229  283  170  550  436  292   35  117  355  356  113  466  131\n",
      "  345  517  222  235  316  857   75  287  333   72  520  124  157  635\n",
      "  259  102  870  657  174  177  183  245  167  546   98   87   73  684\n",
      "  121  668  116  428  233  631  305  509  255  455  291  308  375  241]\n",
      "Open Porch SF : [ 44  74  52   0  59 324  58  50  80  45 142  21  49 144  40 120  30  48\n",
      "  28  26 122  68 229  27  32 112  36 172  84  57 364 105  20  46  60  75\n",
      "  41  11  72  47 169  76  90 192 153  15 189 140  99  35  70 180  38  73\n",
      "  34 104  96 162 108 170 285  23 128 288  56  54 136 299 154  64 158  88\n",
      "  63  33 160  66 100  37  93  24  97  39 121 319  12  42 304 110 168  87\n",
      "  43 235 166  25  77 101  98  82 126 211 205 200 127  85 208  55  69 228\n",
      " 198 131  95 133 130 341 124 152  22 175  78 291  29 173  65 274 111  62\n",
      " 114 118  18 129 365 125 116  16  92 234 141 444 372 102  51 155 119  91\n",
      "   8 251 258 226  81 182 103 146 113 238 213  94 150 184  53 207 174 117\n",
      " 187 240  61 123 278 191 106 292 547 243 214  67 215 225 199 138 312 260\n",
      " 137 204 134 148 502 418 252 165 176 151 236 265 224 107 183 210 523  31\n",
      " 156  86 282  10 190 164 244 241 256  17  89 185 368 197 132 171 245 231\n",
      " 266 484 159 135 195   4 276]\n",
      "Enclosed Porch : [  0  96 133  64 207 112 164 160 236 192  84 116  87 143 194 156 168 144\n",
      "  94  36 100 120 130  16 128 176 177 364  56 216 158 208  32  70 272 324\n",
      " 190  48  52  81  24 259 291 268 228  40 137 252 205 240 123 246  30 180\n",
      " 114  45 172 115 265 264 211  90 280 150 134  77 368  60 213 167 102  18\n",
      "  80 222 234 105 101 135  34 104 148 239 109  26  50 145 140 219 189 183\n",
      " 175  66  75  72 198 122 432 330  44 162 296 200 244 214 204  20 169  43\n",
      " 260 121  78 184 117  54  25 318 210 212 186 129 185  37 203 126  39  35\n",
      " 174 202 224 275 196 161  92 138  55 218 225  88 165 170 294 249 154  42\n",
      " 288 226 136 231 113  68 301  57 256  19  99 230  23  98  67]\n",
      "3Ssn Porch : [  0 176 224 162 168 120 407 144 150 255 508 180 140  96 323 153  86 216\n",
      " 245 182 290 304]\n",
      "Screen Porch : [  0 288 216 440 140 182 385 100 104 168 120 189 144 126 224 201 252 348\n",
      " 147 192  53 260 164 143 342 150 108  94  92 156 130 145 233 122 111 196\n",
      " 225 227  90 322 110 255 270 200 291 112 116 210 155 162 195 174 266 163\n",
      " 142 480 175 152 410 153 271 220 165 135 141 170 312 264 217 161 208  84\n",
      " 490 180 160 198 240 148  64 222 113 109 259  95 138 184 276  88 115 154\n",
      " 234 176 265 374 231 280 171 396 204 190]\n",
      "Pool Area : [  0 519 576 800 228 480 648 738 368 561]\n",
      "Misc Val : [    0   400   500  2000   650   600  1200   480   700   450  3000 12500\n",
      "  4500   460  3500  8300   455   300  1150   900    54  6500   800  1500\n",
      "  2500  1300 17000    80]\n",
      "Mo Sold : [ 3  4  1  6  5  9  7  2 12 10 11  8]\n",
      "Yr Sold : [2010 2009 2006 2007 2008]\n",
      "Sale Type : ['WD ' 'New' 'COD' 'ConLD' 'Con' 'CWD' 'Oth' 'ConLI' 'ConLw']\n",
      "SalePrice : [130500 220000 109000 174000 138500 190000 140000 142000 112500 135000\n",
      "  85400 183600 131000 200000 193000 173500  98000 139000 143500 215200\n",
      " 129000 278000 344133 185000 145000 187500 198000 119600 122900 230000\n",
      " 270000 125000 297000 113500 127000 175500 146000 147500 465000 165500\n",
      " 131500 129500 257076 117000 149000 128000 155000 166000 250000  76000\n",
      " 158000 149500 121000 136000 173000 290000 303477 122250 153000 147000\n",
      " 148500 130000 372000 213490 308030 300000 159500 137500 232000  93850\n",
      " 105000  68500 154300 129850 114000 501837 153900 160500 310090 184900\n",
      " 132000 163000 183000 211000 184000 118858 180500 148000 124000 277500\n",
      " 350000 387000  86000  44000 215000 146500 165000 252000 150000 139900\n",
      " 162900 160000  63900 149900 231500 108000 120000 128500 115000 110000\n",
      " 178000 199500 183500 126000 137900 324000 103400  94000 209500 545224\n",
      " 159900 141000 267916 127500 198500 217500 148800 556581 156500 237000\n",
      " 203000 167900 134450 112000 207000  62500 154000 129900  85000 116900\n",
      "  80000 152000 155891 204500 157000 183200 341000  96000 149700 153500\n",
      "  13100 224900 176000 285000 282922 226000 361919 457347 279000 196000\n",
      " 294900 224243  92000 179540 386250 106500 310000 164000 177594 123900\n",
      " 239000 169000 234000 170000 225000 144900 144000 192000 145500  86900\n",
      " 119750 173900 136500 235000 156000 325000 202500 367294 175000 193500\n",
      " 218000 194700 230348 109500 242500 109008  68104 159000  87000 272000\n",
      " 119164  93000 226750  95000  76500 152500  99000  82500 179200 142500\n",
      " 115400 144152 370000 172785 181000 117250 192500 151000 370967 195000\n",
      " 163900 182000 410000 206300 123000 105900  91000 174500 100000 172000\n",
      "  82000 241000 143900  87550 319900 356383 287500 185088 229800 124500\n",
      " 430000 460000 214500 214000 128900 168000 310013 133700  89500 134000\n",
      " 248500 179900  88750 122500  97500 314813 134900 137000 418000  64000\n",
      " 159434 260261 269500 219500 133500 143000 244000 101000 104000 207500\n",
      " 119900 293000 180000 169900 107000  89000 143450 376162 167500 153337\n",
      " 103600 128200 177500 320000  91500  40000  50138 120500 139500 219000\n",
      " 171925 177900 141500 191000 248900 185900 157500 245000  60000 240000\n",
      " 256000 231713 230500 227000 247000 147110 119500 205000 236500 122000\n",
      " 176485 330000 201000 259500 279900 277000 256300 188000 312500 209700\n",
      " 441929 107500  73000 374000 421250 301500 360000  78500 226500  62383\n",
      " 446261 219990 229000 236000 392000 345000 109900 132500 415000 125500\n",
      " 451950 167300 197900 194000 268000 118500 260000 155900 161500 174900\n",
      " 164500 189900 251000  57625 212500 264500 199900 181900 262500 328900\n",
      " 232698 221800 152400 213000 192350 163500 262280 280000  64500 208900\n",
      " 284700 245500 113000 296000 377426 337500 552000  97900 208300 162000\n",
      " 254900 189000  81500 370878 311500 210250  87500 349265 209000  90350\n",
      "  79000 171000 119000 161000 274000  98500 262000 140500 255000  94900\n",
      "  96900 385000 327000 468000 108500  78000 235128 302000  84900  55000\n",
      " 118000 318000  72000 164900 188500 197000 412083 271000 204000 149350\n",
      " 222500  99900 249700 158500 202000 108959 128600 213500 334000 212000\n",
      " 136300 126500 301000 204750  90000 306000 332200 293077 117500 373000\n",
      " 203135 179000 213250  89900  68000 226700 500067 201490 187000  75000\n",
      " 217000 165150  67000 135900 538000 142900 167000  66500 315000 155835\n",
      " 239500 282000 241500 336860 167240 218500 135750 257000 102000 103500\n",
      " 221300 222000 335000 257500 264132  99500 160250  75200 131250 124100\n",
      " 178400 338500 210000 169985 228000 266000  91900 212999 326000 294000\n",
      "  97000 239799 200624 322400 293200 172500 124900 185500  92900 111250\n",
      " 248000 136870 133000 111900 134432 455000 235500 172400 372397  82375\n",
      " 316600 177000 271900 176400 185750 173733 181500 188900 255900 259000\n",
      " 156932 450000 340000 195400 140200 116000 359900 267000 103000  65000\n",
      " 200141 235876 123600 231000 475000 375000 147400  84500 417500 175900\n",
      " 323262 129800 140750 134500 107900 426000 383000 355000  45000 244400\n",
      " 106250 218836 206580 163990 116500 466500 171500 223000 232600 151400\n",
      " 196500 265000 275000 180400 284000 114500 212900 187100 192140 325624\n",
      " 555000 162500 224500 438780  91300 176432 248328 316500 125600  55993\n",
      " 243000 168675 187750 249000 118900 239900 146300 287090 246990 154204\n",
      " 186000 111750 500000 177439 246000 263435 179781 234250 287000 139400\n",
      " 274970 142953 279700 313000 165400 403000 129250 289000 194201 157900\n",
      " 189500 200825  35000 292500 106000 286500 210400 264966  50000 286000\n",
      "  34900  99800 184500 276000 145900 102900 281213 242000 281500 342000\n",
      " 279500 206000  85500 188700 128950 322500 223500  61000  52000  94550\n",
      " 139600 154400 299800  63000 383970 244600 112900 111000 209200 159950\n",
      " 345474 339750 203160 291000  39300 205950 171750 144500  79400 202900\n",
      " 137450 179400 212109  98600 216000 328000 174190 143750 131900 185850\n",
      " 138000 114504 158450 377500 138400 440000 103200 148400  35311 309000\n",
      " 264561 120750 402000 282500 221500 240900 200500  37900 179600 136900\n",
      " 337000 535000 108480 199000 214900 198600 258000 184100 208000 256900\n",
      " 113722 142100 404000 254000  12789 342643 261329 153575 415298  61500\n",
      " 192100 445000 150500 219210 195500 143195  79500 143250 611657 191500\n",
      " 317000 165250 101800 104500  93500 261500 584500 224000 267300 485000\n",
      " 215700 216837 150909  79275 265900 260116 125200 319500 250764 174850\n",
      " 398800 137250 169500 294464 206900 233000 147900 129200 392500 266500\n",
      " 395000 105500 159895 121500  90500 142600 246900 582933 110500 164700\n",
      "  81000 336820 117600 395039 181755 186800 185485 245700 275500  88000\n",
      " 380000 134800 227875 245350  83000 263000 164990 238500 193800  81400\n",
      " 260400 177625 104900 168500 170440 183850 147983 123500 135500 333168\n",
      " 128250 228500 263550 182900 382500 295000 216500 187687  68400 253000\n",
      "  52500 167800 274900 210900 591587 178900 348000 176500 221000 307000\n",
      " 190550 131400 316000 138887 144100 372402 136905  51689 243500 195800\n",
      " 298236 238000 425000 102776  93900 412500 394617 298751]\n"
     ]
    }
   ],
   "source": [
    "for col in (list(df.columns)):\n",
    "    print(col, \":\", df[col].unique())"
   ]
  },
  {
   "cell_type": "markdown",
   "id": "dc0acc7c",
   "metadata": {},
   "source": [
    "### Renaming all capitalised titles in columns and removing spaces \n"
   ]
  },
  {
   "cell_type": "code",
   "execution_count": 149,
   "id": "aa8eca05",
   "metadata": {},
   "outputs": [
    {
     "data": {
      "text/plain": [
       "Index(['mssubclass', 'mszoning', 'lotfrontage', 'lotarea', 'street',\n",
       "       'lotshape', 'landcontour', 'utilities', 'lotconfig', 'landslope',\n",
       "       'neighborhood', 'condition1', 'condition2', 'bldgtype', 'housestyle',\n",
       "       'overallqual', 'overallcond', 'yearbuilt', 'yearremod/add', 'roofstyle',\n",
       "       'roofmatl', 'exterior1st', 'exterior2nd', 'masvnrtype', 'masvnrarea',\n",
       "       'exterqual', 'extercond', 'foundation', 'bsmtqual', 'bsmtcond',\n",
       "       'bsmtexposure', 'bsmtfintype1', 'bsmtfinsf1', 'bsmtfintype2',\n",
       "       'bsmtfinsf2', 'bsmtunfsf', 'totalbsmtsf', 'heating', 'heatingqc',\n",
       "       'centralair', 'electrical', '1stflrsf', '2ndflrsf', 'lowqualfinsf',\n",
       "       'grlivarea', 'bsmtfullbath', 'bsmthalfbath', 'fullbath', 'halfbath',\n",
       "       'bedroomabvgr', 'kitchenabvgr', 'kitchenqual', 'totrmsabvgrd',\n",
       "       'functional', 'fireplaces', 'garagetype', 'garageyrblt', 'garagefinish',\n",
       "       'garagecars', 'garagearea', 'garagequal', 'garagecond', 'paveddrive',\n",
       "       'wooddecksf', 'openporchsf', 'enclosedporch', '3ssnporch',\n",
       "       'screenporch', 'poolarea', 'miscval', 'mosold', 'yrsold', 'saletype',\n",
       "       'saleprice'],\n",
       "      dtype='object')"
      ]
     },
     "execution_count": 149,
     "metadata": {},
     "output_type": "execute_result"
    }
   ],
   "source": [
    "n_col = df.columns\n",
    "rename_dict = {}\n",
    "for col in n_col: \n",
    "    rename_dict[col] = col.lower().replace(' ', \"\")\n",
    "\n",
    "df.rename(columns = rename_dict, inplace = True)\n",
    "df.columns"
   ]
  },
  {
   "cell_type": "code",
   "execution_count": 150,
   "id": "93dc74d8",
   "metadata": {},
   "outputs": [
    {
     "data": {
      "text/plain": [
       "Id\n",
       "109     130500\n",
       "544     220000\n",
       "153     109000\n",
       "318     174000\n",
       "255     138500\n",
       "         ...  \n",
       "1587    298751\n",
       "785      82500\n",
       "916     177000\n",
       "639     144000\n",
       "10      189000\n",
       "Name: saleprice, Length: 2051, dtype: int32"
      ]
     },
     "execution_count": 150,
     "metadata": {},
     "output_type": "execute_result"
    }
   ],
   "source": [
    "df['saleprice'].astype(str).astype(int)"
   ]
  },
  {
   "cell_type": "markdown",
   "id": "fe9e7dac",
   "metadata": {},
   "source": [
    "### Identifying categorical and continuous variables"
   ]
  },
  {
   "cell_type": "code",
   "execution_count": 151,
   "id": "a164cf49",
   "metadata": {},
   "outputs": [],
   "source": [
    "# Populating a list of categorical variables\n",
    "\n",
    "cat_col = df.columns\n",
    "cat_list = list(df.select_dtypes(include = 'object').columns)"
   ]
  },
  {
   "cell_type": "code",
   "execution_count": 152,
   "id": "eb8228d8",
   "metadata": {},
   "outputs": [
    {
     "name": "stdout",
     "output_type": "stream",
     "text": [
      "mszoning ['RL' 'RM' 'FV' 'C (all)' 'A (agr)' 'RH' 'I (all)']\n",
      "street ['Pave' 'Grvl']\n",
      "lotshape ['IR1' 'Reg' 'IR2' 'IR3']\n",
      "landcontour ['Lvl' 'HLS' 'Bnk' 'Low']\n",
      "utilities ['AllPub' 'NoSeWa' 'NoSewr']\n",
      "lotconfig ['CulDSac' 'Inside' 'Corner' 'FR2' 'FR3']\n",
      "landslope ['Gtl' 'Sev' 'Mod']\n",
      "neighborhood ['Sawyer' 'SawyerW' 'NAmes' 'Timber' 'Edwards' 'OldTown' 'BrDale'\n",
      " 'CollgCr' 'Somerst' 'Mitchel' 'StoneBr' 'NridgHt' 'Gilbert' 'Crawfor'\n",
      " 'IDOTRR' 'NWAmes' 'Veenker' 'MeadowV' 'SWISU' 'NoRidge' 'ClearCr'\n",
      " 'Blmngtn' 'BrkSide' 'NPkVill' 'Blueste' 'GrnHill' 'Greens' 'Landmrk']\n",
      "condition1 ['RRAe' 'Norm' 'PosA' 'Artery' 'Feedr' 'PosN' 'RRAn' 'RRNe' 'RRNn']\n",
      "condition2 ['Norm' 'RRNn' 'Feedr' 'Artery' 'PosA' 'PosN' 'RRAe' 'RRAn']\n",
      "bldgtype ['1Fam' 'TwnhsE' 'Twnhs' '2fmCon' 'Duplex']\n",
      "housestyle ['2Story' '1Story' '1.5Fin' 'SFoyer' 'SLvl' '2.5Unf' '2.5Fin' '1.5Unf']\n",
      "roofstyle ['Gable' 'Hip' 'Flat' 'Mansard' 'Shed' 'Gambrel']\n",
      "roofmatl ['CompShg' 'WdShngl' 'Tar&Grv' 'WdShake' 'Membran' 'ClyTile']\n",
      "exterior1st ['HdBoard' 'VinylSd' 'Wd Sdng' 'BrkFace' 'Plywood' 'MetalSd' 'AsbShng'\n",
      " 'CemntBd' 'WdShing' 'Stucco' 'BrkComm' 'Stone' 'CBlock' 'ImStucc'\n",
      " 'AsphShn']\n",
      "exterior2nd ['Plywood' 'VinylSd' 'Wd Sdng' 'HdBoard' 'MetalSd' 'AsbShng' 'CmentBd'\n",
      " 'Wd Shng' 'BrkFace' 'Stucco' 'Brk Cmn' 'ImStucc' 'Stone' 'CBlock'\n",
      " 'AsphShn']\n",
      "masvnrtype ['BrkFace' 'None' nan 'Stone' 'BrkCmn']\n",
      "exterqual ['Gd' 'TA' 'Ex' 'Fa']\n",
      "extercond ['TA' 'Gd' 'Fa' 'Ex' 'Po']\n",
      "foundation ['CBlock' 'PConc' 'BrkTil' 'Slab' 'Stone' 'Wood']\n",
      "bsmtqual ['TA' 'Gd' 'Fa' nan 'Ex' 'Po']\n",
      "bsmtcond ['TA' 'Gd' nan 'Fa' 'Po' 'Ex']\n",
      "bsmtexposure ['No' 'Gd' 'Av' nan 'Mn']\n",
      "bsmtfintype1 ['GLQ' 'Unf' 'ALQ' 'Rec' nan 'BLQ' 'LwQ']\n",
      "bsmtfintype2 ['Unf' 'Rec' nan 'BLQ' 'GLQ' 'LwQ' 'ALQ']\n",
      "heating ['GasA' 'GasW' 'Grav' 'Wall' 'OthW']\n",
      "heatingqc ['Ex' 'TA' 'Gd' 'Fa' 'Po']\n",
      "centralair ['Y' 'N']\n",
      "electrical ['SBrkr' 'FuseF' 'FuseA' 'FuseP' 'Mix']\n",
      "kitchenqual ['Gd' 'TA' 'Fa' 'Ex']\n",
      "functional ['Typ' 'Mod' 'Min2' 'Maj1' 'Min1' 'Sev' 'Sal' 'Maj2']\n",
      "garagetype ['Attchd' 'Detchd' 'BuiltIn' 'Basment' nan '2Types' 'CarPort']\n",
      "garagefinish ['RFn' 'Unf' 'Fin' nan]\n",
      "garagequal ['TA' 'Fa' nan 'Gd' 'Ex' 'Po']\n",
      "garagecond ['TA' 'Fa' nan 'Po' 'Gd' 'Ex']\n",
      "paveddrive ['Y' 'N' 'P']\n",
      "saletype ['WD ' 'New' 'COD' 'ConLD' 'Con' 'CWD' 'Oth' 'ConLI' 'ConLw']\n"
     ]
    }
   ],
   "source": [
    "# Iterating through the categorical variable list to print out the variables and the unique entries\n",
    "\n",
    "for col in cat_list:\n",
    "    print(col, df[col].unique())\n",
    "    \n",
    "# Creating a dictionary of categorical variables and the number of categories \n",
    "\n",
    "cat_options = {}\n",
    "for col in cat_list:\n",
    "    cat_options[col] = len(df[col].unique())"
   ]
  },
  {
   "cell_type": "code",
   "execution_count": 153,
   "id": "a020fb7c",
   "metadata": {},
   "outputs": [],
   "source": [
    "# List continuous variables\n",
    "\n",
    "cont_col = df.columns\n",
    "cont_list = list(df.select_dtypes(include = 'int64').columns)"
   ]
  },
  {
   "cell_type": "code",
   "execution_count": 154,
   "id": "688c90c9",
   "metadata": {},
   "outputs": [
    {
     "name": "stdout",
     "output_type": "stream",
     "text": [
      "<class 'pandas.core.frame.DataFrame'>\n",
      "Int64Index: 2051 entries, 109 to 10\n",
      "Data columns (total 26 columns):\n",
      " #   Column         Non-Null Count  Dtype\n",
      "---  ------         --------------  -----\n",
      " 0   mssubclass     2051 non-null   int64\n",
      " 1   lotarea        2051 non-null   int64\n",
      " 2   overallqual    2051 non-null   int64\n",
      " 3   overallcond    2051 non-null   int64\n",
      " 4   yearbuilt      2051 non-null   int64\n",
      " 5   yearremod/add  2051 non-null   int64\n",
      " 6   1stflrsf       2051 non-null   int64\n",
      " 7   2ndflrsf       2051 non-null   int64\n",
      " 8   lowqualfinsf   2051 non-null   int64\n",
      " 9   grlivarea      2051 non-null   int64\n",
      " 10  fullbath       2051 non-null   int64\n",
      " 11  halfbath       2051 non-null   int64\n",
      " 12  bedroomabvgr   2051 non-null   int64\n",
      " 13  kitchenabvgr   2051 non-null   int64\n",
      " 14  totrmsabvgrd   2051 non-null   int64\n",
      " 15  fireplaces     2051 non-null   int64\n",
      " 16  wooddecksf     2051 non-null   int64\n",
      " 17  openporchsf    2051 non-null   int64\n",
      " 18  enclosedporch  2051 non-null   int64\n",
      " 19  3ssnporch      2051 non-null   int64\n",
      " 20  screenporch    2051 non-null   int64\n",
      " 21  poolarea       2051 non-null   int64\n",
      " 22  miscval        2051 non-null   int64\n",
      " 23  mosold         2051 non-null   int64\n",
      " 24  yrsold         2051 non-null   int64\n",
      " 25  saleprice      2051 non-null   int64\n",
      "dtypes: int64(26)\n",
      "memory usage: 432.6 KB\n"
     ]
    }
   ],
   "source": [
    "df[cont_list].info()"
   ]
  },
  {
   "cell_type": "code",
   "execution_count": 155,
   "id": "8a5b2419",
   "metadata": {},
   "outputs": [
    {
     "data": {
      "text/html": [
       "<div>\n",
       "<style scoped>\n",
       "    .dataframe tbody tr th:only-of-type {\n",
       "        vertical-align: middle;\n",
       "    }\n",
       "\n",
       "    .dataframe tbody tr th {\n",
       "        vertical-align: top;\n",
       "    }\n",
       "\n",
       "    .dataframe thead th {\n",
       "        text-align: right;\n",
       "    }\n",
       "</style>\n",
       "<table border=\"1\" class=\"dataframe\">\n",
       "  <thead>\n",
       "    <tr style=\"text-align: right;\">\n",
       "      <th></th>\n",
       "      <th>mssubclass</th>\n",
       "      <th>lotarea</th>\n",
       "      <th>overallqual</th>\n",
       "      <th>overallcond</th>\n",
       "      <th>yearbuilt</th>\n",
       "      <th>yearremod/add</th>\n",
       "      <th>1stflrsf</th>\n",
       "      <th>2ndflrsf</th>\n",
       "      <th>lowqualfinsf</th>\n",
       "      <th>grlivarea</th>\n",
       "      <th>...</th>\n",
       "      <th>wooddecksf</th>\n",
       "      <th>openporchsf</th>\n",
       "      <th>enclosedporch</th>\n",
       "      <th>3ssnporch</th>\n",
       "      <th>screenporch</th>\n",
       "      <th>poolarea</th>\n",
       "      <th>miscval</th>\n",
       "      <th>mosold</th>\n",
       "      <th>yrsold</th>\n",
       "      <th>saleprice</th>\n",
       "    </tr>\n",
       "  </thead>\n",
       "  <tbody>\n",
       "    <tr>\n",
       "      <th>count</th>\n",
       "      <td>2051.000000</td>\n",
       "      <td>2051.000000</td>\n",
       "      <td>2051.000000</td>\n",
       "      <td>2051.000000</td>\n",
       "      <td>2051.000000</td>\n",
       "      <td>2051.000000</td>\n",
       "      <td>2051.000000</td>\n",
       "      <td>2051.000000</td>\n",
       "      <td>2051.000000</td>\n",
       "      <td>2051.000000</td>\n",
       "      <td>...</td>\n",
       "      <td>2051.000000</td>\n",
       "      <td>2051.000000</td>\n",
       "      <td>2051.000000</td>\n",
       "      <td>2051.000000</td>\n",
       "      <td>2051.000000</td>\n",
       "      <td>2051.000000</td>\n",
       "      <td>2051.000000</td>\n",
       "      <td>2051.000000</td>\n",
       "      <td>2051.000000</td>\n",
       "      <td>2051.000000</td>\n",
       "    </tr>\n",
       "    <tr>\n",
       "      <th>mean</th>\n",
       "      <td>57.008776</td>\n",
       "      <td>10065.208191</td>\n",
       "      <td>6.112140</td>\n",
       "      <td>5.562165</td>\n",
       "      <td>1971.708922</td>\n",
       "      <td>1984.190151</td>\n",
       "      <td>1164.488055</td>\n",
       "      <td>329.329108</td>\n",
       "      <td>5.512921</td>\n",
       "      <td>1499.330083</td>\n",
       "      <td>...</td>\n",
       "      <td>93.833740</td>\n",
       "      <td>47.556802</td>\n",
       "      <td>22.571916</td>\n",
       "      <td>2.591419</td>\n",
       "      <td>16.511458</td>\n",
       "      <td>2.397855</td>\n",
       "      <td>51.574354</td>\n",
       "      <td>6.219893</td>\n",
       "      <td>2007.775719</td>\n",
       "      <td>181469.701609</td>\n",
       "    </tr>\n",
       "    <tr>\n",
       "      <th>std</th>\n",
       "      <td>42.824223</td>\n",
       "      <td>6742.488909</td>\n",
       "      <td>1.426271</td>\n",
       "      <td>1.104497</td>\n",
       "      <td>30.177889</td>\n",
       "      <td>21.036250</td>\n",
       "      <td>396.446923</td>\n",
       "      <td>425.671046</td>\n",
       "      <td>51.068870</td>\n",
       "      <td>500.447829</td>\n",
       "      <td>...</td>\n",
       "      <td>128.549416</td>\n",
       "      <td>66.747241</td>\n",
       "      <td>59.845110</td>\n",
       "      <td>25.229615</td>\n",
       "      <td>57.374204</td>\n",
       "      <td>37.782570</td>\n",
       "      <td>573.393985</td>\n",
       "      <td>2.744736</td>\n",
       "      <td>1.312014</td>\n",
       "      <td>79258.659352</td>\n",
       "    </tr>\n",
       "    <tr>\n",
       "      <th>min</th>\n",
       "      <td>20.000000</td>\n",
       "      <td>1300.000000</td>\n",
       "      <td>1.000000</td>\n",
       "      <td>1.000000</td>\n",
       "      <td>1872.000000</td>\n",
       "      <td>1950.000000</td>\n",
       "      <td>334.000000</td>\n",
       "      <td>0.000000</td>\n",
       "      <td>0.000000</td>\n",
       "      <td>334.000000</td>\n",
       "      <td>...</td>\n",
       "      <td>0.000000</td>\n",
       "      <td>0.000000</td>\n",
       "      <td>0.000000</td>\n",
       "      <td>0.000000</td>\n",
       "      <td>0.000000</td>\n",
       "      <td>0.000000</td>\n",
       "      <td>0.000000</td>\n",
       "      <td>1.000000</td>\n",
       "      <td>2006.000000</td>\n",
       "      <td>12789.000000</td>\n",
       "    </tr>\n",
       "    <tr>\n",
       "      <th>25%</th>\n",
       "      <td>20.000000</td>\n",
       "      <td>7500.000000</td>\n",
       "      <td>5.000000</td>\n",
       "      <td>5.000000</td>\n",
       "      <td>1953.500000</td>\n",
       "      <td>1964.500000</td>\n",
       "      <td>879.500000</td>\n",
       "      <td>0.000000</td>\n",
       "      <td>0.000000</td>\n",
       "      <td>1129.000000</td>\n",
       "      <td>...</td>\n",
       "      <td>0.000000</td>\n",
       "      <td>0.000000</td>\n",
       "      <td>0.000000</td>\n",
       "      <td>0.000000</td>\n",
       "      <td>0.000000</td>\n",
       "      <td>0.000000</td>\n",
       "      <td>0.000000</td>\n",
       "      <td>4.000000</td>\n",
       "      <td>2007.000000</td>\n",
       "      <td>129825.000000</td>\n",
       "    </tr>\n",
       "    <tr>\n",
       "      <th>50%</th>\n",
       "      <td>50.000000</td>\n",
       "      <td>9430.000000</td>\n",
       "      <td>6.000000</td>\n",
       "      <td>5.000000</td>\n",
       "      <td>1974.000000</td>\n",
       "      <td>1993.000000</td>\n",
       "      <td>1093.000000</td>\n",
       "      <td>0.000000</td>\n",
       "      <td>0.000000</td>\n",
       "      <td>1444.000000</td>\n",
       "      <td>...</td>\n",
       "      <td>0.000000</td>\n",
       "      <td>27.000000</td>\n",
       "      <td>0.000000</td>\n",
       "      <td>0.000000</td>\n",
       "      <td>0.000000</td>\n",
       "      <td>0.000000</td>\n",
       "      <td>0.000000</td>\n",
       "      <td>6.000000</td>\n",
       "      <td>2008.000000</td>\n",
       "      <td>162500.000000</td>\n",
       "    </tr>\n",
       "    <tr>\n",
       "      <th>75%</th>\n",
       "      <td>70.000000</td>\n",
       "      <td>11513.500000</td>\n",
       "      <td>7.000000</td>\n",
       "      <td>6.000000</td>\n",
       "      <td>2001.000000</td>\n",
       "      <td>2004.000000</td>\n",
       "      <td>1405.000000</td>\n",
       "      <td>692.500000</td>\n",
       "      <td>0.000000</td>\n",
       "      <td>1728.500000</td>\n",
       "      <td>...</td>\n",
       "      <td>168.000000</td>\n",
       "      <td>70.000000</td>\n",
       "      <td>0.000000</td>\n",
       "      <td>0.000000</td>\n",
       "      <td>0.000000</td>\n",
       "      <td>0.000000</td>\n",
       "      <td>0.000000</td>\n",
       "      <td>8.000000</td>\n",
       "      <td>2009.000000</td>\n",
       "      <td>214000.000000</td>\n",
       "    </tr>\n",
       "    <tr>\n",
       "      <th>max</th>\n",
       "      <td>190.000000</td>\n",
       "      <td>159000.000000</td>\n",
       "      <td>10.000000</td>\n",
       "      <td>9.000000</td>\n",
       "      <td>2010.000000</td>\n",
       "      <td>2010.000000</td>\n",
       "      <td>5095.000000</td>\n",
       "      <td>1862.000000</td>\n",
       "      <td>1064.000000</td>\n",
       "      <td>5642.000000</td>\n",
       "      <td>...</td>\n",
       "      <td>1424.000000</td>\n",
       "      <td>547.000000</td>\n",
       "      <td>432.000000</td>\n",
       "      <td>508.000000</td>\n",
       "      <td>490.000000</td>\n",
       "      <td>800.000000</td>\n",
       "      <td>17000.000000</td>\n",
       "      <td>12.000000</td>\n",
       "      <td>2010.000000</td>\n",
       "      <td>611657.000000</td>\n",
       "    </tr>\n",
       "  </tbody>\n",
       "</table>\n",
       "<p>8 rows × 26 columns</p>\n",
       "</div>"
      ],
      "text/plain": [
       "        mssubclass        lotarea  overallqual  overallcond    yearbuilt  \\\n",
       "count  2051.000000    2051.000000  2051.000000  2051.000000  2051.000000   \n",
       "mean     57.008776   10065.208191     6.112140     5.562165  1971.708922   \n",
       "std      42.824223    6742.488909     1.426271     1.104497    30.177889   \n",
       "min      20.000000    1300.000000     1.000000     1.000000  1872.000000   \n",
       "25%      20.000000    7500.000000     5.000000     5.000000  1953.500000   \n",
       "50%      50.000000    9430.000000     6.000000     5.000000  1974.000000   \n",
       "75%      70.000000   11513.500000     7.000000     6.000000  2001.000000   \n",
       "max     190.000000  159000.000000    10.000000     9.000000  2010.000000   \n",
       "\n",
       "       yearremod/add     1stflrsf     2ndflrsf  lowqualfinsf    grlivarea  \\\n",
       "count    2051.000000  2051.000000  2051.000000   2051.000000  2051.000000   \n",
       "mean     1984.190151  1164.488055   329.329108      5.512921  1499.330083   \n",
       "std        21.036250   396.446923   425.671046     51.068870   500.447829   \n",
       "min      1950.000000   334.000000     0.000000      0.000000   334.000000   \n",
       "25%      1964.500000   879.500000     0.000000      0.000000  1129.000000   \n",
       "50%      1993.000000  1093.000000     0.000000      0.000000  1444.000000   \n",
       "75%      2004.000000  1405.000000   692.500000      0.000000  1728.500000   \n",
       "max      2010.000000  5095.000000  1862.000000   1064.000000  5642.000000   \n",
       "\n",
       "       ...   wooddecksf  openporchsf  enclosedporch    3ssnporch  screenporch  \\\n",
       "count  ...  2051.000000  2051.000000    2051.000000  2051.000000  2051.000000   \n",
       "mean   ...    93.833740    47.556802      22.571916     2.591419    16.511458   \n",
       "std    ...   128.549416    66.747241      59.845110    25.229615    57.374204   \n",
       "min    ...     0.000000     0.000000       0.000000     0.000000     0.000000   \n",
       "25%    ...     0.000000     0.000000       0.000000     0.000000     0.000000   \n",
       "50%    ...     0.000000    27.000000       0.000000     0.000000     0.000000   \n",
       "75%    ...   168.000000    70.000000       0.000000     0.000000     0.000000   \n",
       "max    ...  1424.000000   547.000000     432.000000   508.000000   490.000000   \n",
       "\n",
       "          poolarea       miscval       mosold       yrsold      saleprice  \n",
       "count  2051.000000   2051.000000  2051.000000  2051.000000    2051.000000  \n",
       "mean      2.397855     51.574354     6.219893  2007.775719  181469.701609  \n",
       "std      37.782570    573.393985     2.744736     1.312014   79258.659352  \n",
       "min       0.000000      0.000000     1.000000  2006.000000   12789.000000  \n",
       "25%       0.000000      0.000000     4.000000  2007.000000  129825.000000  \n",
       "50%       0.000000      0.000000     6.000000  2008.000000  162500.000000  \n",
       "75%       0.000000      0.000000     8.000000  2009.000000  214000.000000  \n",
       "max     800.000000  17000.000000    12.000000  2010.000000  611657.000000  \n",
       "\n",
       "[8 rows x 26 columns]"
      ]
     },
     "execution_count": 155,
     "metadata": {},
     "output_type": "execute_result"
    }
   ],
   "source": [
    "df[cont_list].describe()"
   ]
  },
  {
   "cell_type": "markdown",
   "id": "de91e7b7",
   "metadata": {},
   "source": [
    "### Exploring correlations between continuous variables"
   ]
  },
  {
   "cell_type": "code",
   "execution_count": 156,
   "id": "1d75a54b",
   "metadata": {},
   "outputs": [
    {
     "data": {
      "text/plain": [
       "Text(0.5, 1.0, 'Heatmap of Continuous Variable Correlation to Sale Price')"
      ]
     },
     "execution_count": 156,
     "metadata": {},
     "output_type": "execute_result"
    }
   ],
   "source": [
    "plt.figure(figsize = (5,20))\n",
    "\n",
    "ax= sns.heatmap(df.corr()[cont_list][['saleprice']].sort_values(by = 'saleprice',ascending = False),annot=True,  annot_kws={\"size\": 20}, cmap='PuBuGn')\n",
    "ax.set_ylim(37,0)\n",
    "plt.yticks(size = 14)\n",
    "plt.xticks(size = 14)\n",
    "plt.title('Heatmap of Continuous Variable Correlation to Sale Price', size = 20)"
   ]
  },
  {
   "cell_type": "code",
   "execution_count": 157,
   "id": "91cb428d",
   "metadata": {},
   "outputs": [
    {
     "data": {
      "text/plain": [
       "miscval          0.7385\n",
       "yrsold           0.4914\n",
       "poolarea         0.2956\n",
       "mosold           0.1383\n",
       "lowqualfinsf     0.0596\n",
       "3ssnporch        0.0273\n",
       "mssubclass       0.0001\n",
       "totrmsabvgrd        0.0\n",
       "screenporch         0.0\n",
       "enclosedporch       0.0\n",
       "openporchsf         0.0\n",
       "wooddecksf          0.0\n",
       "fireplaces          0.0\n",
       "kitchenabvgr        0.0\n",
       "lotarea             0.0\n",
       "bedroomabvgr        0.0\n",
       "halfbath            0.0\n",
       "fullbath            0.0\n",
       "grlivarea           0.0\n",
       "2ndflrsf            0.0\n",
       "1stflrsf            0.0\n",
       "yearremod/add       0.0\n",
       "yearbuilt           0.0\n",
       "overallcond         0.0\n",
       "overallqual         0.0\n",
       "saleprice           0.0\n",
       "Name: saleprice, dtype: object"
      ]
     },
     "execution_count": 157,
     "metadata": {},
     "output_type": "execute_result"
    }
   ],
   "source": [
    "# P value of the correlations above \n",
    "\n",
    "def calculate_pvalues(df):\n",
    "    df = df.dropna()._get_numeric_data()\n",
    "    dfcols = pd.DataFrame(columns=df.columns)\n",
    "    pvalues = dfcols.transpose().join(dfcols, how='outer')\n",
    "    for r in df.columns:\n",
    "        for c in df.columns:\n",
    "            pvalues[r][c] = round(stats.pearsonr(df[r], df[c])[1], 4)\n",
    "    return pvalues\n",
    "\n",
    "calculate_pvalues(df[cont_list])['saleprice'].sort_values(ascending = False)"
   ]
  },
  {
   "cell_type": "code",
   "execution_count": 158,
   "id": "58246994",
   "metadata": {},
   "outputs": [],
   "source": [
    "# Function to find collinearity between expected collinear variables\n",
    "\n",
    "def viffinder(varlist):\n",
    "    vif = pd.DataFrame()\n",
    "    vif[\"variables\"] = varlist\n",
    "    vif[\"VIF\"] = \\\n",
    "    [variance_inflation_factor(df[varlist].dropna().values,\\\n",
    "                               i) for i in range(df[varlist].shape[1])]\n",
    "    print(vif)"
   ]
  },
  {
   "cell_type": "code",
   "execution_count": 159,
   "id": "3a2226dd",
   "metadata": {},
   "outputs": [
    {
     "name": "stdout",
     "output_type": "stream",
     "text": [
      "['saleprice', 'overallqual', 'grlivarea', 'garagearea', 'garagecars', 'totalbsmtsf', '1stflrsf', 'yearbuilt', 'yearremod/add', 'fullbath', 'garageyrblt', 'masvnrarea', 'totrmsabvgrd', 'fireplaces', 'bsmtfinsf1', 'lotfrontage', 'openporchsf', 'wooddecksf', 'lotarea', 'bsmtfullbath', 'halfbath', '2ndflrsf', 'bsmtunfsf', 'bedroomabvgr', 'screenporch', '3ssnporch', 'mosold', 'poolarea', 'bsmtfinsf2', 'miscval']\n"
     ]
    }
   ],
   "source": [
    "# Top few variables correlation to saleprice, positive correlations were chosen over negative as correlations had smaller correlation coefficients.\n",
    "\n",
    "top_corr_list = list(df.corr()[cont_list][['saleprice']].sort_values(by = 'saleprice',\\\n",
    "                                                ascending = False).nlargest(30,['saleprice']).index)\n",
    "print(top_corr_list)"
   ]
  },
  {
   "cell_type": "code",
   "execution_count": 160,
   "id": "e764d125",
   "metadata": {},
   "outputs": [
    {
     "data": {
      "text/plain": [
       "(array([ 0.5,  1.5,  2.5,  3.5,  4.5,  5.5,  6.5,  7.5,  8.5,  9.5, 10.5,\n",
       "        11.5, 12.5, 13.5, 14.5, 15.5, 16.5, 17.5, 18.5, 19.5, 20.5, 21.5,\n",
       "        22.5, 23.5, 24.5, 25.5, 26.5, 27.5, 28.5, 29.5]),\n",
       " [Text(0.5, 0, 'saleprice'),\n",
       "  Text(1.5, 0, 'overallqual'),\n",
       "  Text(2.5, 0, 'grlivarea'),\n",
       "  Text(3.5, 0, 'garagearea'),\n",
       "  Text(4.5, 0, 'garagecars'),\n",
       "  Text(5.5, 0, 'totalbsmtsf'),\n",
       "  Text(6.5, 0, '1stflrsf'),\n",
       "  Text(7.5, 0, 'yearbuilt'),\n",
       "  Text(8.5, 0, 'yearremod/add'),\n",
       "  Text(9.5, 0, 'fullbath'),\n",
       "  Text(10.5, 0, 'garageyrblt'),\n",
       "  Text(11.5, 0, 'masvnrarea'),\n",
       "  Text(12.5, 0, 'totrmsabvgrd'),\n",
       "  Text(13.5, 0, 'fireplaces'),\n",
       "  Text(14.5, 0, 'bsmtfinsf1'),\n",
       "  Text(15.5, 0, 'lotfrontage'),\n",
       "  Text(16.5, 0, 'openporchsf'),\n",
       "  Text(17.5, 0, 'wooddecksf'),\n",
       "  Text(18.5, 0, 'lotarea'),\n",
       "  Text(19.5, 0, 'bsmtfullbath'),\n",
       "  Text(20.5, 0, 'halfbath'),\n",
       "  Text(21.5, 0, '2ndflrsf'),\n",
       "  Text(22.5, 0, 'bsmtunfsf'),\n",
       "  Text(23.5, 0, 'bedroomabvgr'),\n",
       "  Text(24.5, 0, 'screenporch'),\n",
       "  Text(25.5, 0, '3ssnporch'),\n",
       "  Text(26.5, 0, 'mosold'),\n",
       "  Text(27.5, 0, 'poolarea'),\n",
       "  Text(28.5, 0, 'bsmtfinsf2'),\n",
       "  Text(29.5, 0, 'miscval')])"
      ]
     },
     "execution_count": 160,
     "metadata": {},
     "output_type": "execute_result"
    }
   ],
   "source": [
    "mask = np.zeros_like(df[top_corr_list].corr())\n",
    "mask[np.triu_indices_from(mask)] = True\n",
    "\n",
    "plt.figure(figsize = (40,40))\n",
    "plt.title('Heatmap of top 30 correlated values', size = 20)\n",
    "ax = sns.heatmap(df[top_corr_list].corr(), annot = True, annot_kws={\"size\": 20}, mask = mask)\n",
    "ax.set_ylim(30,0)\n",
    "plt.yticks(size = 14, rotation = 90)\n",
    "plt.xticks(size = 14)"
   ]
  },
  {
   "cell_type": "code",
   "execution_count": 161,
   "id": "a7d7ccbb",
   "metadata": {},
   "outputs": [
    {
     "data": {
      "text/plain": [
       "(array([0.5, 1.5, 2.5]),\n",
       " [Text(0.5, 0, 'garagearea'),\n",
       "  Text(1.5, 0, 'garagecars'),\n",
       "  Text(2.5, 0, 'garageyrblt')])"
      ]
     },
     "execution_count": 161,
     "metadata": {},
     "output_type": "execute_result"
    }
   ],
   "source": [
    "# Garage related variables were chosen from the top correlated list and plotted\n",
    "\n",
    "garage_trio = [cat for cat in top_corr_list if cat.find('garage') >= 0 ]\n",
    "\n",
    "plt.figure(figsize = (5,5))\n",
    "ax = sns.heatmap(df[garage_trio].corr(), annot = True, annot_kws={\"size\": 20})\n",
    "ax.set_ylim(3,0)\n",
    "plt.yticks(size = 14)\n",
    "plt.xticks(size = 14)"
   ]
  },
  {
   "cell_type": "code",
   "execution_count": 162,
   "id": "4d39671b",
   "metadata": {},
   "outputs": [
    {
     "name": "stdout",
     "output_type": "stream",
     "text": [
      "     variables        VIF\n",
      "0   garagearea  28.954657\n",
      "1   garagecars  33.658878\n",
      "2  garageyrblt   9.930975\n"
     ]
    }
   ],
   "source": [
    "# Finding the VIF\n",
    "\n",
    "viffinder(garage_trio)"
   ]
  },
  {
   "cell_type": "code",
   "execution_count": 163,
   "id": "672da069",
   "metadata": {},
   "outputs": [
    {
     "data": {
      "text/plain": [
       "(array([0.5, 1.5]), [Text(0.5, 0, 'yearbuilt'), Text(1.5, 0, 'yearremod/add')])"
      ]
     },
     "execution_count": 163,
     "metadata": {},
     "output_type": "execute_result"
    }
   ],
   "source": [
    "# Variables relating to year of last build were tested \n",
    "\n",
    "year_var = [cat for cat in top_corr_list if cat.find('year') >= 0 ]\n",
    "\n",
    "plt.figure(figsize = (7,7))\n",
    "ax = sns.heatmap(df[year_var].corr(), annot = True, annot_kws={\"size\": 20})\n",
    "ax.set_ylim(2,0)\n",
    "plt.yticks(size = 14)\n",
    "plt.xticks(size = 14)"
   ]
  },
  {
   "cell_type": "code",
   "execution_count": 164,
   "id": "86d71b74",
   "metadata": {},
   "outputs": [
    {
     "name": "stdout",
     "output_type": "stream",
     "text": [
      "       variables          VIF\n",
      "0      yearbuilt  7023.224832\n",
      "1  yearremod/add  7023.224832\n"
     ]
    }
   ],
   "source": [
    "# Finding the VIF\n",
    "\n",
    "viffinder(year_var)"
   ]
  },
  {
   "cell_type": "code",
   "execution_count": 166,
   "id": "a006ffdf",
   "metadata": {},
   "outputs": [
    {
     "data": {
      "text/plain": [
       "['totalbsmtsf', 'bsmtfinsf1', 'bsmtfullbath', 'bsmtunfsf', 'bsmtfinsf2']"
      ]
     },
     "execution_count": 166,
     "metadata": {},
     "output_type": "execute_result"
    }
   ],
   "source": [
    "# Basement related variables were listed together\n",
    "\n",
    "basementvar =[cat for cat in top_corr_list if cat.find('bsmt') >= 0 ]\n",
    "basementvar"
   ]
  },
  {
   "cell_type": "code",
   "execution_count": 167,
   "id": "b875cbdd",
   "metadata": {},
   "outputs": [
    {
     "data": {
      "text/plain": [
       "(array([0.5, 1.5, 2.5, 3.5, 4.5]),\n",
       " [Text(0.5, 0, 'totalbsmtsf'),\n",
       "  Text(1.5, 0, 'bsmtfinsf1'),\n",
       "  Text(2.5, 0, 'bsmtfullbath'),\n",
       "  Text(3.5, 0, 'bsmtunfsf'),\n",
       "  Text(4.5, 0, 'bsmtfinsf2')])"
      ]
     },
     "execution_count": 167,
     "metadata": {},
     "output_type": "execute_result"
    }
   ],
   "source": [
    "# Basement related variables were plotted for correlation.\n",
    "\n",
    "plt.figure(figsize = (10,10))\n",
    "ax = sns.heatmap(df[basementvar].corr(), annot = True, annot_kws={\"size\": 20})\n",
    "ax.set_ylim(5,0)\n",
    "plt.yticks(size = 14)\n",
    "plt.xticks(size = 14)"
   ]
  },
  {
   "cell_type": "code",
   "execution_count": 168,
   "id": "5ef473fe",
   "metadata": {},
   "outputs": [
    {
     "name": "stdout",
     "output_type": "stream",
     "text": [
      "      variables       VIF\n",
      "0   totalbsmtsf       inf\n",
      "1    bsmtfinsf1       inf\n",
      "2  bsmtfullbath  3.012996\n",
      "3     bsmtunfsf       inf\n",
      "4    bsmtfinsf2       inf\n"
     ]
    },
    {
     "name": "stderr",
     "output_type": "stream",
     "text": [
      "C:\\Users\\singh\\anaconda3\\lib\\site-packages\\statsmodels\\stats\\outliers_influence.py:193: RuntimeWarning: divide by zero encountered in double_scalars\n",
      "  vif = 1. / (1. - r_squared_i)\n",
      "C:\\Users\\singh\\anaconda3\\lib\\site-packages\\statsmodels\\stats\\outliers_influence.py:193: RuntimeWarning: divide by zero encountered in double_scalars\n",
      "  vif = 1. / (1. - r_squared_i)\n",
      "C:\\Users\\singh\\anaconda3\\lib\\site-packages\\statsmodels\\stats\\outliers_influence.py:193: RuntimeWarning: divide by zero encountered in double_scalars\n",
      "  vif = 1. / (1. - r_squared_i)\n",
      "C:\\Users\\singh\\anaconda3\\lib\\site-packages\\statsmodels\\stats\\outliers_influence.py:193: RuntimeWarning: divide by zero encountered in double_scalars\n",
      "  vif = 1. / (1. - r_squared_i)\n"
     ]
    }
   ],
   "source": [
    "viffinder(basementvar)"
   ]
  },
  {
   "cell_type": "code",
   "execution_count": 169,
   "id": "6b3a1f75",
   "metadata": {},
   "outputs": [
    {
     "data": {
      "text/plain": [
       "['fireplaces',\n",
       " '1stflrsf',\n",
       " 'mosold',\n",
       " 'openporchsf',\n",
       " 'totrmsabvgrd',\n",
       " 'overallqual',\n",
       " 'bedroomabvgr',\n",
       " '3ssnporch',\n",
       " 'masvnrarea',\n",
       " 'screenporch',\n",
       " 'poolarea',\n",
       " 'saleprice',\n",
       " 'grlivarea',\n",
       " 'lotarea',\n",
       " 'halfbath',\n",
       " 'lotfrontage',\n",
       " 'fullbath',\n",
       " '2ndflrsf',\n",
       " 'miscval',\n",
       " 'wooddecksf']"
      ]
     },
     "execution_count": 169,
     "metadata": {},
     "output_type": "execute_result"
    }
   ],
   "source": [
    "leftover = set(top_corr_list) - set(basementvar) - set(garage_trio) - set(year_var)\n",
    "leftover = list(leftover)\n",
    "leftover"
   ]
  },
  {
   "cell_type": "code",
   "execution_count": 170,
   "id": "ce0ab597",
   "metadata": {},
   "outputs": [
    {
     "data": {
      "text/plain": [
       "[Text(0, 0.5, 'fireplaces'),\n",
       " Text(0, 1.5, '1stflrsf'),\n",
       " Text(0, 2.5, 'mosold'),\n",
       " Text(0, 3.5, 'openporchsf'),\n",
       " Text(0, 4.5, 'totrmsabvgrd'),\n",
       " Text(0, 5.5, 'overallqual'),\n",
       " Text(0, 6.5, 'bedroomabvgr'),\n",
       " Text(0, 7.5, '3ssnporch'),\n",
       " Text(0, 8.5, 'masvnrarea'),\n",
       " Text(0, 9.5, 'screenporch'),\n",
       " Text(0, 10.5, 'poolarea'),\n",
       " Text(0, 11.5, 'saleprice'),\n",
       " Text(0, 12.5, 'grlivarea'),\n",
       " Text(0, 13.5, 'lotarea'),\n",
       " Text(0, 14.5, 'halfbath'),\n",
       " Text(0, 15.5, 'lotfrontage'),\n",
       " Text(0, 16.5, 'fullbath'),\n",
       " Text(0, 17.5, '2ndflrsf'),\n",
       " Text(0, 18.5, 'miscval'),\n",
       " Text(0, 19.5, 'wooddecksf')]"
      ]
     },
     "execution_count": 170,
     "metadata": {},
     "output_type": "execute_result"
    }
   ],
   "source": [
    "# Mask up \n",
    "mask = np.zeros_like(df[leftover].corr())\n",
    "mask[np.triu_indices_from(mask)] = True\n",
    "\n",
    "## the remaining variables were plotted for correlation.\n",
    "plt.figure(figsize = (25,25))\n",
    "ax = sns.heatmap(df[leftover].corr(), annot = True, annot_kws={\"size\": 18}, mask = mask)\n",
    "ax.set_ylim(20,0)\n",
    "plt.yticks(size = 17)\n",
    "plt.xticks(size = 17)\n",
    "ax.set_yticklabels(leftover,rotation = 45)"
   ]
  },
  {
   "cell_type": "code",
   "execution_count": 171,
   "id": "e1374002",
   "metadata": {},
   "outputs": [
    {
     "name": "stdout",
     "output_type": "stream",
     "text": [
      "       variables         VIF\n",
      "0     fireplaces    2.576286\n",
      "1       1stflrsf  586.494631\n",
      "2         mosold    5.721490\n",
      "3    openporchsf    1.812263\n",
      "4   totrmsabvgrd   65.440977\n",
      "5    overallqual   36.446228\n",
      "6   bedroomabvgr   25.558351\n",
      "7      3ssnporch    1.021344\n",
      "8     masvnrarea    1.896760\n",
      "9    screenporch    1.170186\n",
      "10      poolarea    1.102490\n",
      "11     saleprice   26.200634\n",
      "12     grlivarea  921.262549\n",
      "13       lotarea    8.558904\n",
      "14      halfbath    2.657137\n",
      "15   lotfrontage   16.113018\n",
      "16      fullbath   18.095659\n",
      "17      2ndflrsf  108.431734\n",
      "18       miscval    1.131738\n",
      "19    wooddecksf    1.871388\n"
     ]
    }
   ],
   "source": [
    "viffinder(leftover)"
   ]
  },
  {
   "cell_type": "code",
   "execution_count": 172,
   "id": "5e24701d",
   "metadata": {},
   "outputs": [],
   "source": [
    "# Final correlation picked list of variables\n",
    "\n",
    "final_corr_list = ['overallqual', 'masvnrarea', 'poolarea', 'halfbath', \\\n",
    "                   'fireplaces', 'openporchsf', 'grlivarea', 'screenporch', \\\n",
    "                   'lotarea', '3ssnporch', 'bsmtfullbath', 'totalbsmtsf', \\\n",
    "                  'garagearea', 'yearbuilt']"
   ]
  },
  {
   "cell_type": "code",
   "execution_count": 173,
   "id": "23d08245",
   "metadata": {},
   "outputs": [
    {
     "name": "stdout",
     "output_type": "stream",
     "text": [
      "       variables        VIF\n",
      "0    overallqual  43.928379\n",
      "1     masvnrarea   1.811127\n",
      "2       poolarea   1.040005\n",
      "3       halfbath   2.210379\n",
      "4     fireplaces   2.605008\n",
      "5    openporchsf   1.763804\n",
      "6      grlivarea  22.747272\n",
      "7    screenporch   1.124378\n",
      "8        lotarea   4.032884\n",
      "9      3ssnporch   1.017818\n",
      "10  bsmtfullbath   1.928679\n",
      "11   totalbsmtsf  13.496182\n",
      "12    garagearea   9.862637\n",
      "13     yearbuilt  27.950242\n"
     ]
    }
   ],
   "source": [
    "viffinder(final_corr_list)"
   ]
  },
  {
   "cell_type": "code",
   "execution_count": 174,
   "id": "fd1e2885",
   "metadata": {},
   "outputs": [
    {
     "name": "stdout",
     "output_type": "stream",
     "text": [
      "<class 'pandas.core.frame.DataFrame'>\n",
      "Int64Index: 2051 entries, 109 to 10\n",
      "Data columns (total 14 columns):\n",
      " #   Column        Non-Null Count  Dtype  \n",
      "---  ------        --------------  -----  \n",
      " 0   overallqual   2051 non-null   int64  \n",
      " 1   masvnrarea    2029 non-null   float64\n",
      " 2   poolarea      2051 non-null   int64  \n",
      " 3   halfbath      2051 non-null   int64  \n",
      " 4   fireplaces    2051 non-null   int64  \n",
      " 5   openporchsf   2051 non-null   int64  \n",
      " 6   grlivarea     2051 non-null   int64  \n",
      " 7   screenporch   2051 non-null   int64  \n",
      " 8   lotarea       2051 non-null   int64  \n",
      " 9   3ssnporch     2051 non-null   int64  \n",
      " 10  bsmtfullbath  2049 non-null   float64\n",
      " 11  totalbsmtsf   2050 non-null   float64\n",
      " 12  garagearea    2050 non-null   float64\n",
      " 13  yearbuilt     2051 non-null   int64  \n",
      "dtypes: float64(4), int64(10)\n",
      "memory usage: 240.4 KB\n"
     ]
    }
   ],
   "source": [
    "df[final_corr_list].info()"
   ]
  },
  {
   "cell_type": "markdown",
   "id": "25089fda",
   "metadata": {},
   "source": [
    "### Statistical inference tests to determine a possible relationship between categorical variables and price\n"
   ]
  },
  {
   "cell_type": "code",
   "execution_count": 175,
   "id": "5805fc6e",
   "metadata": {},
   "outputs": [
    {
     "data": {
      "text/plain": [
       "['street', 'centralair']"
      ]
     },
     "execution_count": 175,
     "metadata": {},
     "output_type": "execute_result"
    }
   ],
   "source": [
    "# selecting categories for t-test \n",
    "\n",
    "ttest_list = []\n",
    "for catkey, catvalues in cat_options.items(): \n",
    "    if catvalues == 2:\n",
    "        ttest_list.append(catkey)\n",
    "ttest_list"
   ]
  },
  {
   "cell_type": "code",
   "execution_count": 176,
   "id": "968563ae",
   "metadata": {},
   "outputs": [
    {
     "data": {
      "text/plain": [
       "{'street': {'Pave': 181793.56555772995,\n",
       "  'Grvl': 86901.42857142857,\n",
       "  'statistic': 3.169173295799292,\n",
       "  'P': 0.0015512882730560206,\n",
       "  'significance': 'Y'},\n",
       " 'centralair': {'Y': 187441.50366492147,\n",
       "  'N': 100575.0780141844,\n",
       "  'statistic': 13.068548592323888,\n",
       "  'P': 1.5113094019787156e-37,\n",
       "  'significance': 'Y'}}"
      ]
     },
     "execution_count": 176,
     "metadata": {},
     "output_type": "execute_result"
    }
   ],
   "source": [
    "# Performing t-test on columns in ttest_list\n",
    "\n",
    "cat_result_dict = {}\n",
    "for tcand in ttest_list:\n",
    "    cat1 = df[df[tcand]==(df[tcand].unique()[0])]['saleprice']\n",
    "    cat2 = df[df[tcand]==(df[tcand].unique()[1])]['saleprice']\n",
    "    t, p = stats.ttest_ind(cat1, cat2)\n",
    "    sig = ''\n",
    "    if p <= 0.05:\n",
    "        sig = 'Y'\n",
    "    else: \n",
    "        sig = 'N'\n",
    "    cat_result_dict[tcand] = {df[tcand].unique()[0]:cat1.mean(),\\\n",
    "                              df[tcand].unique()[1]:cat2.mean(), \\\n",
    "                              'statistic': t, 'P': p, 'significance': sig}\n",
    "\n",
    "cat_result_dict"
   ]
  },
  {
   "cell_type": "markdown",
   "id": "52ee87db",
   "metadata": {},
   "source": [
    "### For the above, both street and centralair variables showed a significant difference in mean salesprice between categories.\n",
    "\n",
    "#### Houses with paved streets had higher sale price as compared to gravel.\n",
    "#### Houses with central airconditioning had higher sale price as compared to those without"
   ]
  },
  {
   "cell_type": "code",
   "execution_count": 177,
   "id": "aae2c1eb",
   "metadata": {},
   "outputs": [
    {
     "data": {
      "text/plain": [
       "['mszoning',\n",
       " 'lotshape',\n",
       " 'landcontour',\n",
       " 'utilities',\n",
       " 'lotconfig',\n",
       " 'landslope',\n",
       " 'neighborhood',\n",
       " 'condition1',\n",
       " 'condition2',\n",
       " 'bldgtype',\n",
       " 'housestyle',\n",
       " 'roofstyle',\n",
       " 'roofmatl',\n",
       " 'exterior1st',\n",
       " 'exterior2nd',\n",
       " 'masvnrtype',\n",
       " 'exterqual',\n",
       " 'extercond',\n",
       " 'foundation',\n",
       " 'bsmtqual',\n",
       " 'bsmtcond',\n",
       " 'bsmtexposure',\n",
       " 'bsmtfintype1',\n",
       " 'bsmtfintype2',\n",
       " 'heating',\n",
       " 'heatingqc',\n",
       " 'centralair',\n",
       " 'electrical',\n",
       " 'kitchenqual',\n",
       " 'functional',\n",
       " 'garagetype',\n",
       " 'garagefinish',\n",
       " 'garagequal',\n",
       " 'garagecond',\n",
       " 'paveddrive',\n",
       " 'saletype']"
      ]
     },
     "execution_count": 177,
     "metadata": {},
     "output_type": "execute_result"
    }
   ],
   "source": [
    "# Removing t-testlist variables from cat_list so that it will not be run again\n",
    "\n",
    "def rem_entry_list(list1, list2):\n",
    "    for var1 in list1: \n",
    "        if var1 in list2:\n",
    "            list2.remove(var1)\n",
    "            next\n",
    "        return list2\n",
    "rem_entry_list(ttest_list, cat_list)"
   ]
  },
  {
   "cell_type": "code",
   "execution_count": 178,
   "id": "7d2d2a51",
   "metadata": {},
   "outputs": [],
   "source": [
    "# Defining a function to perform an analysis of variance(ANOVA) through the list \n",
    "\n",
    "def ANOVA_list(searchlist, dataframe, resultdict):\n",
    "    a = {}\n",
    "    for var in searchlist:\n",
    "        var_unique_list = []\n",
    "        count = 0\n",
    "        resultdict[var] = {}\n",
    "        for i in range(len(dataframe[var].unique())):\n",
    "            count += 1 \n",
    "            if pd.isnull(dataframe[var].unique()[i]) == True:\n",
    "                next\n",
    "            else:\n",
    "                var_unique_list.append(dataframe[var].unique()[i])\n",
    "                dataframe[var].unique()[i] = dataframe[dataframe[var]==\\\n",
    "                        (dataframe[var].unique()[i])]['saleprice']\n",
    "        for cat in var_unique_list:\n",
    "            if pd.isnull(cat) == True:\n",
    "                next\n",
    "            else:\n",
    "                resultdict[var][str(cat)] = \\\n",
    "                dataframe['saleprice'][dataframe[var]\\\n",
    "                                       == cat].mean()\n",
    "        f, p = stats.f_oneway(*(dataframe['saleprice'][dataframe[var]\\\n",
    "                                    == cat] for cat in var_unique_list))\n",
    "        resultdict[var]['statistic'] = f\n",
    "        resultdict[var]['P'] = p \n",
    "    return resultdict"
   ]
  },
  {
   "cell_type": "code",
   "execution_count": 179,
   "id": "b0187bb0",
   "metadata": {},
   "outputs": [
    {
     "data": {
      "text/plain": [
       "{'street': {'Pave': 181793.56555772995,\n",
       "  'Grvl': 86901.42857142857,\n",
       "  'statistic': 3.169173295799292,\n",
       "  'P': 0.0015512882730560206,\n",
       "  'significance': 'Y'},\n",
       " 'centralair': {'Y': 187441.50366492147,\n",
       "  'N': 100575.0780141844,\n",
       "  'statistic': 170.78696230993063,\n",
       "  'P': 1.5113094019793903e-37},\n",
       " 'mszoning': {'RL': 191235.16458072592,\n",
       "  'RM': 129119.14240506329,\n",
       "  'FV': 218618.31683168316,\n",
       "  'C (all)': 78010.8947368421,\n",
       "  'A (agr)': 47300.0,\n",
       "  'RH': 148859.57142857142,\n",
       "  'I (all)': 57625.0,\n",
       "  'statistic': 42.46657889196624,\n",
       "  'P': 4.706623428740341e-49},\n",
       " 'lotshape': {'IR1': 211848.67052023122,\n",
       "  'Reg': 162925.81235521234,\n",
       "  'IR2': 233954.74545454545,\n",
       "  'IR3': 193182.22222222222,\n",
       "  'statistic': 72.48679839510044,\n",
       "  'P': 1.491278709891155e-44},\n",
       " 'landcontour': {'Lvl': 178998.5648399349,\n",
       "  'HLS': 262353.37647058826,\n",
       "  'Bnk': 142868.775,\n",
       "  'Low': 199313.11627906977,\n",
       "  'statistic': 39.23484353043047,\n",
       "  'P': 1.1956767644954456e-24},\n",
       " 'utilities': {'AllPub': 181551.60224499757,\n",
       "  'NoSeWa': 137500.0,\n",
       "  'NoSewr': 57625.0,\n",
       "  'statistic': 1.376242609972784,\n",
       "  'P': 0.2527590509737014},\n",
       " 'lotconfig': {'CulDSac': 230744.35877862596,\n",
       "  'Inside': 177537.01463739187,\n",
       "  'Corner': 180629.591954023,\n",
       "  'FR2': 174703.6,\n",
       "  'FR3': 198600.0,\n",
       "  'statistic': 14.161877347312998,\n",
       "  'P': 2.0995464034825778e-11},\n",
       " 'landslope': {'Gtl': 180358.47670250895,\n",
       "  'Sev': 194598.0,\n",
       "  'Mod': 204639.4659090909,\n",
       "  'statistic': 4.101629029436503,\n",
       "  'P': 0.016681810117904778},\n",
       " 'neighborhood': {'Sawyer': 137181.9099099099,\n",
       "  'SawyerW': 187760.16091954024,\n",
       "  'NAmes': 145905.81612903226,\n",
       "  'Timber': 241051.35416666666,\n",
       "  'Edwards': 130493.46853146853,\n",
       "  'OldTown': 125276.30061349693,\n",
       "  'BrDale': 103371.05263157895,\n",
       "  'CollgCr': 202497.21666666667,\n",
       "  'Somerst': 227183.9,\n",
       "  'Mitchel': 167656.70731707316,\n",
       "  'StoneBr': 329675.7368421053,\n",
       "  'NridgHt': 322831.3524590164,\n",
       "  'Gilbert': 189228.3879310345,\n",
       "  'Crawfor': 205901.21126760563,\n",
       "  'IDOTRR': 101103.1884057971,\n",
       "  'NWAmes': 194619.02298850575,\n",
       "  'Veenker': 253570.58823529413,\n",
       "  'MeadowV': 100231.25,\n",
       "  'SWISU': 134758.875,\n",
       "  'NoRidge': 316294.125,\n",
       "  'ClearCr': 217490.07407407407,\n",
       "  'Blmngtn': 200417.68181818182,\n",
       "  'BrkSide': 127022.69736842105,\n",
       "  'NPkVill': 140476.4705882353,\n",
       "  'Blueste': 144566.66666666666,\n",
       "  'GrnHill': 280000.0,\n",
       "  'Greens': 188666.66666666666,\n",
       "  'Landmrk': 137000.0,\n",
       "  'statistic': 102.8716062274365,\n",
       "  'P': 0.0},\n",
       " 'condition1': {'RRAe': 139685.7142857143,\n",
       "  'Norm': 185007.3101301641,\n",
       "  'PosA': 254733.33333333334,\n",
       "  'Artery': 128765.0,\n",
       "  'Feedr': 143223.60550458715,\n",
       "  'PosN': 254794.2962962963,\n",
       "  'RRAn': 172604.77777777778,\n",
       "  'RRNe': 129616.66666666667,\n",
       "  'RRNn': 198208.33333333334,\n",
       "  'statistic': 13.234895776655721,\n",
       "  'P': 8.70045814114322e-19},\n",
       " 'condition2': {'Norm': 181382.07555555555,\n",
       "  'RRNn': 96750.0,\n",
       "  'Feedr': 129181.81818181818,\n",
       "  'Artery': 119050.0,\n",
       "  'PosA': 390666.6666666667,\n",
       "  'PosN': 395666.6666666667,\n",
       "  'RRAe': 190000.0,\n",
       "  'RRAn': 136905.0,\n",
       "  'statistic': 7.792962439365173,\n",
       "  'P': 2.4605013839137665e-09},\n",
       " 'bldgtype': {'1Fam': 185275.68588235293,\n",
       "  'TwnhsE': 198312.37267080744,\n",
       "  'Twnhs': 133100.0,\n",
       "  '2fmCon': 123179.89130434782,\n",
       "  'Duplex': 139296.33333333334,\n",
       "  'statistic': 21.584222676451127,\n",
       "  'P': 1.838785588260994e-17},\n",
       " 'housestyle': {'2Story': 206408.96321070235,\n",
       "  '1Story': 179809.19452313503,\n",
       "  '1.5Fin': 136480.09174311926,\n",
       "  'SFoyer': 149343.92,\n",
       "  'SLvl': 166248.98936170212,\n",
       "  '2.5Unf': 191785.7142857143,\n",
       "  '2.5Fin': 243666.66666666666,\n",
       "  '1.5Unf': 112466.66666666667,\n",
       "  'statistic': 23.809117065985816,\n",
       "  'P': 2.6311013164820763e-31},\n",
       " 'roofstyle': {'Gable': 171264.25324274244,\n",
       "  'Hip': 224366.6549118388,\n",
       "  'Flat': 191613.07692307694,\n",
       "  'Mansard': 152642.85714285713,\n",
       "  'Shed': 208666.66666666666,\n",
       "  'Gambrel': 138208.33333333334,\n",
       "  'statistic': 31.87213780402402,\n",
       "  'P': 2.3218745150882637e-31},\n",
       " 'roofmatl': {'CompShg': 180849.19703703703,\n",
       "  'WdShngl': 339400.0,\n",
       "  'Tar&Grv': 187948.93333333332,\n",
       "  'WdShake': 264250.0,\n",
       "  'Membran': 241500.0,\n",
       "  'ClyTile': 160000.0,\n",
       "  'statistic': 5.067148522629634,\n",
       "  'P': 0.00012755763106581304},\n",
       " 'exterior1st': {'HdBoard': 159582.47333333333,\n",
       "  'VinylSd': 218174.08287292818,\n",
       "  'Wd Sdng': 142940.88768115942,\n",
       "  'BrkFace': 193055.09375,\n",
       "  'Plywood': 170511.45394736843,\n",
       "  'MetalSd': 154402.0483383686,\n",
       "  'AsbShng': 103183.33333333333,\n",
       "  'CemntBd': 243429.0888888889,\n",
       "  'WdShing': 155616.82222222222,\n",
       "  'Stucco': 139712.96296296295,\n",
       "  'BrkComm': 131000.0,\n",
       "  'Stone': 258500.0,\n",
       "  'CBlock': 93250.0,\n",
       "  'ImStucc': 262000.0,\n",
       "  'AsphShn': 82375.0,\n",
       "  'statistic': 34.589853890899946,\n",
       "  'P': 3.7626554024279267e-84},\n",
       " 'exterior2nd': {'Plywood': 166485.7135135135,\n",
       "  'VinylSd': 217798.6851595007,\n",
       "  'Wd Sdng': 145654.3969465649,\n",
       "  'HdBoard': 160836.88,\n",
       "  'MetalSd': 155978.63580246913,\n",
       "  'AsbShng': 107108.92857142857,\n",
       "  'CmentBd': 239540.2,\n",
       "  'Wd Shng': 154244.44444444444,\n",
       "  'BrkFace': 187992.64705882352,\n",
       "  'Stucco': 147725.33333333334,\n",
       "  'Brk Cmn': 139958.82352941178,\n",
       "  'ImStucc': 227472.72727272726,\n",
       "  'Stone': 145420.66666666666,\n",
       "  'CBlock': 92000.0,\n",
       "  'AsphShn': 132125.0,\n",
       "  'statistic': 31.30522088377037,\n",
       "  'P': 3.2058931994424375e-76},\n",
       " 'masvnrtype': {'BrkFace': 212161.4365079365,\n",
       "  'None': 153679.27586206896,\n",
       "  'Stone': 263714.70238095237,\n",
       "  'BrkCmn': 144515.6923076923,\n",
       "  'statistic': 181.25543602347267,\n",
       "  'P': 4.247559540663266e-104},\n",
       " 'exterqual': {'Gd': 230802.4849354376,\n",
       "  'TA': 143270.97834803528,\n",
       "  'Ex': 374460.3086419753,\n",
       "  'Fa': 89801.19230769231,\n",
       "  'statistic': 751.8788378959745,\n",
       "  'P': 0.0},\n",
       " 'extercond': {'TA': 185258.20247469065,\n",
       "  'Gd': 167623.02325581395,\n",
       "  'Fa': 102507.69387755102,\n",
       "  'Ex': 236263.85714285713,\n",
       "  'Po': 44800.0,\n",
       "  'statistic': 17.69594074660853,\n",
       "  'P': 2.729293315904449e-14},\n",
       " 'foundation': {'CBlock': 148415.5307068366,\n",
       "  'PConc': 227676.4838012959,\n",
       "  'BrkTil': 129050.19004524886,\n",
       "  'Slab': 108810.67647058824,\n",
       "  'Stone': 143235.2,\n",
       "  'Wood': 173750.0,\n",
       "  'statistic': 165.77063511308333,\n",
       "  'P': 3.0699135251097796e-148},\n",
       " 'bsmtqual': {'TA': 139988.4611048478,\n",
       "  'Gd': 202537.58217592593,\n",
       "  'Fa': 107752.16666666667,\n",
       "  'Ex': 329506.6195652174,\n",
       "  'Po': 89000.0,\n",
       "  'statistic': 504.39328756420235,\n",
       "  'P': 1.4119748306914576e-300},\n",
       " 'bsmtcond': {'TA': 184021.85823336968,\n",
       "  'Gd': 223969.55056179775,\n",
       "  'Fa': 118629.07692307692,\n",
       "  'Po': 124063.2,\n",
       "  'Ex': 195000.0,\n",
       "  'statistic': 18.13785335109557,\n",
       "  'P': 1.2084274407210747e-14},\n",
       " 'bsmtexposure': {'No': 164533.53248693055,\n",
       "  'Gd': 271610.5665024631,\n",
       "  'Av': 206262.45138888888,\n",
       "  'Mn': 189377.57055214723,\n",
       "  'statistic': 143.2670756298586,\n",
       "  'P': 4.777200040271116e-84},\n",
       " 'bsmtfintype1': {'GLQ': 237597.24552845527,\n",
       "  'Unf': 166155.25704809287,\n",
       "  'ALQ': 164368.0170648464,\n",
       "  'Rec': 143263.3825136612,\n",
       "  'BLQ': 150107.02,\n",
       "  'LwQ': 153266.92156862744,\n",
       "  'statistic': 110.22425717695145,\n",
       "  'P': 5.484693696098615e-103},\n",
       " 'bsmtfintype2': {'Unf': 185221.2841623785,\n",
       "  'Rec': 164538.75,\n",
       "  'BLQ': 156659.02083333334,\n",
       "  'GLQ': 221300.0,\n",
       "  'LwQ': 162284.58333333334,\n",
       "  'ALQ': 188567.14285714287,\n",
       "  'statistic': 4.1766443542566325,\n",
       "  'P': 0.0008874915490896832},\n",
       " 'heating': {'GasA': 182422.4767096135,\n",
       "  'GasW': 151275.0,\n",
       "  'Grav': 65180.0,\n",
       "  'Wall': 77150.0,\n",
       "  'OthW': 125750.0,\n",
       "  'statistic': 6.401914111692618,\n",
       "  'P': 4.063216745647947e-05},\n",
       " 'heatingqc': {'Ex': 216027.6075117371,\n",
       "  'TA': 138986.70519262983,\n",
       "  'Gd': 160174.00940438872,\n",
       "  'Fa': 117123.64179104478,\n",
       "  'Po': 69033.33333333333,\n",
       "  'statistic': 142.7186881000003,\n",
       "  'P': 1.035355214325706e-107},\n",
       " 'electrical': {'SBrkr': 187770.38222698073,\n",
       "  'FuseF': 103678.91428571429,\n",
       "  'FuseA': 122565.15714285715,\n",
       "  'FuseP': 83485.71428571429,\n",
       "  'Mix': 67000.0,\n",
       "  'statistic': 36.23944435732442,\n",
       "  'P': 2.659017436795182e-29},\n",
       " 'kitchenqual': {'Gd': 211629.4516129032,\n",
       "  'TA': 139501.60744985673,\n",
       "  'Fa': 101334.9574468085,\n",
       "  'Ex': 336424.4635761589,\n",
       "  'statistic': 696.4093228542271,\n",
       "  'P': 5.546210193385e-312},\n",
       " 'functional': {'Typ': 183954.74934725848,\n",
       "  'Mod': 148108.72413793104,\n",
       "  'Min2': 150424.57142857142,\n",
       "  'Maj1': 163106.16666666666,\n",
       "  'Min1': 154429.7619047619,\n",
       "  'Sev': 95750.0,\n",
       "  'Sal': 31550.0,\n",
       "  'Maj2': 87157.71428571429,\n",
       "  'statistic': 5.571840109941514,\n",
       "  'P': 2.246863582657135e-06},\n",
       " 'garagetype': {'Attchd': 205040.19538334708,\n",
       "  'Detchd': 132132.94776119402,\n",
       "  'BuiltIn': 247883.52272727274,\n",
       "  'Basment': 143242.33333333334,\n",
       "  '2Types': 157184.2105263158,\n",
       "  'CarPort': 103823.54545454546,\n",
       "  'statistic': 108.24570626828215,\n",
       "  'P': 5.7130170820384097e-101},\n",
       " 'garagefinish': {'RFn': 204792.03626943004,\n",
       "  'Unf': 140718.148409894,\n",
       "  'Fin': 239800.66404715128,\n",
       "  'statistic': 382.44453569451497,\n",
       "  'P': 1.1155207639598562e-140},\n",
       " 'garagequal': {'TA': 188312.70032751092,\n",
       "  'Fa': 116184.89024390244,\n",
       "  'Gd': 262989.27777777775,\n",
       "  'Ex': 241000.0,\n",
       "  'Po': 65000.0,\n",
       "  'statistic': 23.273551012096615,\n",
       "  'P': 8.201870963514994e-19},\n",
       " 'garagecond': {'TA': 188211.90096359744,\n",
       "  'Fa': 107387.9574468085,\n",
       "  'Po': 89925.0,\n",
       "  'Gd': 209030.83333333334,\n",
       "  'Ex': 124000.0,\n",
       "  'statistic': 16.030009969140867,\n",
       "  'P': 6.428813093873514e-13},\n",
       " 'paveddrive': {'Y': 188792.16389038152,\n",
       "  'N': 104562.82781456954,\n",
       "  'P': 2.5623123559799058e-40,\n",
       "  'statistic': 95.34355209984484},\n",
       " 'saletype': {'WD ': 174912.25154407637,\n",
       "  'New': 279021.05625,\n",
       "  'COD': 133574.52380952382,\n",
       "  'ConLD': 129091.35294117648,\n",
       "  'Con': 241807.5,\n",
       "  'CWD': 186635.0,\n",
       "  'Oth': 127497.75,\n",
       "  'ConLI': 207992.85714285713,\n",
       "  'ConLw': 124600.0,\n",
       "  'statistic': 42.493408603914595,\n",
       "  'P': 2.765563704103757e-63}}"
      ]
     },
     "execution_count": 179,
     "metadata": {},
     "output_type": "execute_result"
    }
   ],
   "source": [
    "ANOVA_list(cat_list, df, cat_result_dict)"
   ]
  },
  {
   "cell_type": "code",
   "execution_count": 180,
   "id": "6768cb56",
   "metadata": {},
   "outputs": [
    {
     "data": {
      "text/plain": [
       "['street',\n",
       " 'centralair',\n",
       " 'mszoning',\n",
       " 'lotshape',\n",
       " 'landcontour',\n",
       " 'lotconfig',\n",
       " 'landslope',\n",
       " 'neighborhood',\n",
       " 'condition1',\n",
       " 'condition2',\n",
       " 'bldgtype',\n",
       " 'housestyle',\n",
       " 'roofstyle',\n",
       " 'roofmatl',\n",
       " 'exterior1st',\n",
       " 'exterior2nd',\n",
       " 'masvnrtype',\n",
       " 'exterqual',\n",
       " 'extercond',\n",
       " 'foundation',\n",
       " 'bsmtqual',\n",
       " 'bsmtcond',\n",
       " 'bsmtexposure',\n",
       " 'bsmtfintype1',\n",
       " 'bsmtfintype2',\n",
       " 'heating',\n",
       " 'heatingqc',\n",
       " 'electrical',\n",
       " 'kitchenqual',\n",
       " 'functional',\n",
       " 'garagetype',\n",
       " 'garagefinish',\n",
       " 'garagequal',\n",
       " 'garagecond',\n",
       " 'paveddrive',\n",
       " 'saletype']"
      ]
     },
     "execution_count": 180,
     "metadata": {},
     "output_type": "execute_result"
    }
   ],
   "source": [
    "# Iterate the dictionary to provide the list of significant values in the category list\n",
    "\n",
    "significantlist = []\n",
    "for key1, dict1 in cat_result_dict.items(): \n",
    "    for key2, value1 in dict1.items():\n",
    "        if key2 == 'P':\n",
    "            if value1 < 0.05:\n",
    "                significantlist.append(key1)\n",
    "        else: \n",
    "            next\n",
    "significantlist"
   ]
  },
  {
   "cell_type": "code",
   "execution_count": 181,
   "id": "fb554f76",
   "metadata": {},
   "outputs": [],
   "source": [
    "# Create a dictionary of variables with highest statistics\n",
    "\n",
    "top_Fstatistic_dict = {}\n",
    "index = []\n",
    "count = 0\n",
    "for key1, dict1 in cat_result_dict.items(): \n",
    "    if dict1['P'] <= 0.05:\n",
    "        top_Fstatistic_dict[key1] = dict1['statistic']\n",
    "        index.append(count)\n",
    "        count += 1\n",
    "    else: \n",
    "        next\n",
    "Fstat_df = pd.DataFrame(list(top_Fstatistic_dict.items()), index = index, columns = [\"variable\", \"stat\"])"
   ]
  },
  {
   "cell_type": "code",
   "execution_count": 182,
   "id": "35ec242a",
   "metadata": {},
   "outputs": [],
   "source": [
    "# Creating a list of categorical variables with high T or F statistic\n",
    "\n",
    "top_cat_list = list(Fstat_df.sort_values(by = 'stat', ascending = False).nlargest(15,['stat'])['variable'])"
   ]
  },
  {
   "cell_type": "code",
   "execution_count": 183,
   "id": "a7607d79",
   "metadata": {},
   "outputs": [
    {
     "data": {
      "text/plain": [
       "['exterqual',\n",
       " 'kitchenqual',\n",
       " 'bsmtqual',\n",
       " 'garagefinish',\n",
       " 'masvnrtype',\n",
       " 'centralair',\n",
       " 'foundation',\n",
       " 'heatingqc',\n",
       " 'neighborhood',\n",
       " 'paveddrive',\n",
       " 'lotshape',\n",
       " 'saletype']"
      ]
     },
     "execution_count": 183,
     "metadata": {},
     "output_type": "execute_result"
    }
   ],
   "source": [
    "# Remove related variables \n",
    "\n",
    "top_cat_list.remove('bsmtexposure') # variable was removed due to similarity to other variables\n",
    "top_cat_list.remove('bsmtfintype1') # variable was removed due to similarity to other variables\n",
    "top_cat_list.remove('garagetype') # variable was removed due to similarity to other variables\n",
    "\n",
    "top_cat_list"
   ]
  },
  {
   "cell_type": "code",
   "execution_count": 184,
   "id": "6634beca",
   "metadata": {},
   "outputs": [
    {
     "name": "stdout",
     "output_type": "stream",
     "text": [
      "<class 'pandas.core.frame.DataFrame'>\n",
      "Int64Index: 2051 entries, 109 to 10\n",
      "Data columns (total 12 columns):\n",
      " #   Column        Non-Null Count  Dtype \n",
      "---  ------        --------------  ----- \n",
      " 0   exterqual     2051 non-null   object\n",
      " 1   kitchenqual   2051 non-null   object\n",
      " 2   bsmtqual      1996 non-null   object\n",
      " 3   garagefinish  1937 non-null   object\n",
      " 4   masvnrtype    2029 non-null   object\n",
      " 5   centralair    2051 non-null   object\n",
      " 6   foundation    2051 non-null   object\n",
      " 7   heatingqc     2051 non-null   object\n",
      " 8   neighborhood  2051 non-null   object\n",
      " 9   paveddrive    2051 non-null   object\n",
      " 10  lotshape      2051 non-null   object\n",
      " 11  saletype      2051 non-null   object\n",
      "dtypes: object(12)\n",
      "memory usage: 208.3+ KB\n"
     ]
    }
   ],
   "source": [
    "df[top_cat_list].info()"
   ]
  },
  {
   "cell_type": "code",
   "execution_count": 185,
   "id": "127a1d3d",
   "metadata": {},
   "outputs": [
    {
     "name": "stdout",
     "output_type": "stream",
     "text": [
      "0    TA\n",
      "dtype: object\n",
      "0    Unf\n",
      "dtype: object\n",
      "0    None\n",
      "dtype: object\n"
     ]
    }
   ],
   "source": [
    "# Fill in the missing variables\n",
    "\n",
    "print(df.bsmtqual.mode())\n",
    "print(df.garagefinish.mode())\n",
    "print(df.masvnrtype.mode())"
   ]
  },
  {
   "cell_type": "markdown",
   "id": "4d9faeb4",
   "metadata": {},
   "source": [
    "#### To impute the missing entries for categorical variables, the mode of each column will be used.\n",
    "\n"
   ]
  },
  {
   "cell_type": "code",
   "execution_count": 187,
   "id": "a03ca631",
   "metadata": {},
   "outputs": [],
   "source": [
    "# Replacing all NaN with mode\n",
    "\n",
    "df['bsmtqual'].fillna('TA', inplace = True)\n",
    "df['garagefinish'].fillna('Unf', inplace = True)\n",
    "df['masvnrtype'].fillna('None', inplace = True)"
   ]
  },
  {
   "cell_type": "code",
   "execution_count": 189,
   "id": "6fd9c78b",
   "metadata": {},
   "outputs": [
    {
     "name": "stdout",
     "output_type": "stream",
     "text": [
      "<class 'pandas.core.frame.DataFrame'>\n",
      "Int64Index: 2051 entries, 109 to 10\n",
      "Data columns (total 12 columns):\n",
      " #   Column        Non-Null Count  Dtype \n",
      "---  ------        --------------  ----- \n",
      " 0   exterqual     2051 non-null   object\n",
      " 1   kitchenqual   2051 non-null   object\n",
      " 2   bsmtqual      2051 non-null   object\n",
      " 3   garagefinish  2051 non-null   object\n",
      " 4   masvnrtype    2051 non-null   object\n",
      " 5   centralair    2051 non-null   object\n",
      " 6   foundation    2051 non-null   object\n",
      " 7   heatingqc     2051 non-null   object\n",
      " 8   neighborhood  2051 non-null   object\n",
      " 9   paveddrive    2051 non-null   object\n",
      " 10  lotshape      2051 non-null   object\n",
      " 11  saletype      2051 non-null   object\n",
      "dtypes: object(12)\n",
      "memory usage: 208.3+ KB\n"
     ]
    }
   ],
   "source": [
    "df[top_cat_list].info()"
   ]
  },
  {
   "cell_type": "markdown",
   "id": "08b330c3",
   "metadata": {},
   "source": [
    "### Imputing missing values in continuous variables\n",
    "\n",
    "Missing entries in continuous variables are imputed with the median or mean of the variable depending if it is normally distributed."
   ]
  },
  {
   "cell_type": "code",
   "execution_count": 190,
   "id": "f60362bb",
   "metadata": {},
   "outputs": [
    {
     "name": "stdout",
     "output_type": "stream",
     "text": [
      "categories with nan entries []\n"
     ]
    }
   ],
   "source": [
    "# finding which categorical variable has nan unique cat\n",
    "\n",
    "na_list = []\n",
    "for col in top_corr_list:\n",
    "    for cat in df[col].unique():\n",
    "        if type(cat) == float:\n",
    "            na_list.append(col)\n",
    "print('categories with nan entries', na_list)"
   ]
  },
  {
   "cell_type": "code",
   "execution_count": 191,
   "id": "ea294d94",
   "metadata": {},
   "outputs": [
    {
     "name": "stdout",
     "output_type": "stream",
     "text": [
      "<class 'pandas.core.frame.DataFrame'>\n",
      "Int64Index: 2051 entries, 109 to 10\n",
      "Data columns (total 14 columns):\n",
      " #   Column        Non-Null Count  Dtype  \n",
      "---  ------        --------------  -----  \n",
      " 0   overallqual   2051 non-null   int64  \n",
      " 1   masvnrarea    2029 non-null   float64\n",
      " 2   poolarea      2051 non-null   int64  \n",
      " 3   halfbath      2051 non-null   int64  \n",
      " 4   fireplaces    2051 non-null   int64  \n",
      " 5   openporchsf   2051 non-null   int64  \n",
      " 6   grlivarea     2051 non-null   int64  \n",
      " 7   screenporch   2051 non-null   int64  \n",
      " 8   lotarea       2051 non-null   int64  \n",
      " 9   3ssnporch     2051 non-null   int64  \n",
      " 10  bsmtfullbath  2049 non-null   float64\n",
      " 11  totalbsmtsf   2050 non-null   float64\n",
      " 12  garagearea    2050 non-null   float64\n",
      " 13  yearbuilt     2051 non-null   int64  \n",
      "dtypes: float64(4), int64(10)\n",
      "memory usage: 240.4 KB\n"
     ]
    }
   ],
   "source": [
    "df[final_corr_list].info()"
   ]
  },
  {
   "cell_type": "code",
   "execution_count": 193,
   "id": "761340aa",
   "metadata": {},
   "outputs": [
    {
     "name": "stdout",
     "output_type": "stream",
     "text": [
      "ShapiroResult(statistic=0.6350643634796143, pvalue=0.0)\n",
      "0.0\n"
     ]
    }
   ],
   "source": [
    "df.masvnrarea.hist(figsize = (5,5), bins = 20)\n",
    "print(stats.shapiro(df.masvnrarea.dropna()))\n",
    "\n",
    "print(df.masvnrarea.median())\n",
    "df.masvnrarea.fillna(df.masvnrarea.median(), inplace=True)"
   ]
  },
  {
   "cell_type": "code",
   "execution_count": 194,
   "id": "e06cc8c9",
   "metadata": {},
   "outputs": [
    {
     "name": "stdout",
     "output_type": "stream",
     "text": [
      "ShapiroResult(statistic=0.6606760025024414, pvalue=0.0)\n",
      "0.0\n"
     ]
    }
   ],
   "source": [
    "df.bsmtfullbath.hist(figsize = (5,5), bins = 20)\n",
    "print(stats.shapiro(df.bsmtfullbath.dropna()))\n",
    "\n",
    "print(df.bsmtfullbath.median())\n",
    "df.bsmtfullbath.fillna(df.bsmtfullbath.median(), inplace = True)"
   ]
  },
  {
   "cell_type": "code",
   "execution_count": 195,
   "id": "b2a2d701",
   "metadata": {},
   "outputs": [
    {
     "name": "stdout",
     "output_type": "stream",
     "text": [
      "ShapiroResult(statistic=0.9275934100151062, pvalue=2.227390454751659e-30)\n",
      "994.5\n"
     ]
    }
   ],
   "source": [
    "df.totalbsmtsf.hist(figsize = (5,5), bins = 20)\n",
    "print(stats.shapiro(df.totalbsmtsf.dropna()))\n",
    "\n",
    "print(df.totalbsmtsf.median())\n",
    "df.totalbsmtsf.fillna(df.totalbsmtsf.median(), inplace=True)"
   ]
  },
  {
   "cell_type": "code",
   "execution_count": 196,
   "id": "67b5dbb9",
   "metadata": {},
   "outputs": [
    {
     "name": "stdout",
     "output_type": "stream",
     "text": [
      "ShapiroResult(statistic=0.9763252139091492, pvalue=6.247190586439361e-18)\n",
      "480.0\n"
     ]
    }
   ],
   "source": [
    "df.garagearea.hist(figsize = (5,5), bins = 20)\n",
    "print(stats.shapiro(df.garagearea.dropna())) \n",
    "\n",
    "print(df.garagearea.median())\n",
    "df.garagearea.fillna(df.garagearea.median(), inplace=True)"
   ]
  },
  {
   "cell_type": "code",
   "execution_count": 197,
   "id": "a6a10a60",
   "metadata": {},
   "outputs": [
    {
     "name": "stdout",
     "output_type": "stream",
     "text": [
      "<class 'pandas.core.frame.DataFrame'>\n",
      "Int64Index: 2051 entries, 109 to 10\n",
      "Data columns (total 14 columns):\n",
      " #   Column        Non-Null Count  Dtype  \n",
      "---  ------        --------------  -----  \n",
      " 0   overallqual   2051 non-null   int64  \n",
      " 1   masvnrarea    2051 non-null   float64\n",
      " 2   poolarea      2051 non-null   int64  \n",
      " 3   halfbath      2051 non-null   int64  \n",
      " 4   fireplaces    2051 non-null   int64  \n",
      " 5   openporchsf   2051 non-null   int64  \n",
      " 6   grlivarea     2051 non-null   int64  \n",
      " 7   screenporch   2051 non-null   int64  \n",
      " 8   lotarea       2051 non-null   int64  \n",
      " 9   3ssnporch     2051 non-null   int64  \n",
      " 10  bsmtfullbath  2051 non-null   float64\n",
      " 11  totalbsmtsf   2051 non-null   float64\n",
      " 12  garagearea    2051 non-null   float64\n",
      " 13  yearbuilt     2051 non-null   int64  \n",
      "dtypes: float64(4), int64(10)\n",
      "memory usage: 240.4 KB\n"
     ]
    }
   ],
   "source": [
    "df[final_corr_list].info()"
   ]
  },
  {
   "cell_type": "markdown",
   "id": "0240b1c8",
   "metadata": {},
   "source": [
    "### Changing the variables into dummy coded variables. For the ease of doing linear regression later. "
   ]
  },
  {
   "cell_type": "code",
   "execution_count": 198,
   "id": "3c8170df",
   "metadata": {},
   "outputs": [],
   "source": [
    "interest= top_cat_list+final_corr_list\n",
    "interest.append('saleprice')"
   ]
  },
  {
   "cell_type": "code",
   "execution_count": 199,
   "id": "fb05ff1c",
   "metadata": {},
   "outputs": [
    {
     "name": "stdout",
     "output_type": "stream",
     "text": [
      "22\n"
     ]
    }
   ],
   "source": [
    "interest.remove('centralair')\n",
    "interest.remove('openporchsf')\n",
    "interest.remove('halfbath')\n",
    "interest.remove('foundation')\n",
    "interest.remove('saletype')\n",
    "\n",
    "print(len(interest))\n",
    "interestdf = df[interest]"
   ]
  },
  {
   "cell_type": "code",
   "execution_count": 200,
   "id": "cb14c929",
   "metadata": {},
   "outputs": [
    {
     "name": "stdout",
     "output_type": "stream",
     "text": [
      "<class 'pandas.core.frame.DataFrame'>\n",
      "Int64Index: 2051 entries, 109 to 10\n",
      "Data columns (total 22 columns):\n",
      " #   Column        Non-Null Count  Dtype  \n",
      "---  ------        --------------  -----  \n",
      " 0   exterqual     2051 non-null   object \n",
      " 1   kitchenqual   2051 non-null   object \n",
      " 2   bsmtqual      2051 non-null   object \n",
      " 3   garagefinish  2051 non-null   object \n",
      " 4   masvnrtype    2051 non-null   object \n",
      " 5   heatingqc     2051 non-null   object \n",
      " 6   neighborhood  2051 non-null   object \n",
      " 7   paveddrive    2051 non-null   object \n",
      " 8   lotshape      2051 non-null   object \n",
      " 9   overallqual   2051 non-null   int64  \n",
      " 10  masvnrarea    2051 non-null   float64\n",
      " 11  poolarea      2051 non-null   int64  \n",
      " 12  fireplaces    2051 non-null   int64  \n",
      " 13  grlivarea     2051 non-null   int64  \n",
      " 14  screenporch   2051 non-null   int64  \n",
      " 15  lotarea       2051 non-null   int64  \n",
      " 16  3ssnporch     2051 non-null   int64  \n",
      " 17  bsmtfullbath  2051 non-null   float64\n",
      " 18  totalbsmtsf   2051 non-null   float64\n",
      " 19  garagearea    2051 non-null   float64\n",
      " 20  yearbuilt     2051 non-null   int64  \n",
      " 21  saleprice     2051 non-null   int64  \n",
      "dtypes: float64(4), int64(9), object(9)\n",
      "memory usage: 368.5+ KB\n"
     ]
    }
   ],
   "source": [
    "interestdf.info()"
   ]
  },
  {
   "cell_type": "code",
   "execution_count": 201,
   "id": "f550b837",
   "metadata": {},
   "outputs": [],
   "source": [
    "# Creating an ordinal dictionary to determine the unicode value \n",
    "\n",
    "qual = {'Ex':5, 'Gd':4, 'TA':3, 'Fa':2, 'Po':1, 'NA':0}"
   ]
  },
  {
   "cell_type": "code",
   "execution_count": 202,
   "id": "59384ac2",
   "metadata": {},
   "outputs": [
    {
     "name": "stderr",
     "output_type": "stream",
     "text": [
      "<ipython-input-202-9158ed21b9c2>:3: SettingWithCopyWarning: \n",
      "A value is trying to be set on a copy of a slice from a DataFrame.\n",
      "Try using .loc[row_indexer,col_indexer] = value instead\n",
      "\n",
      "See the caveats in the documentation: https://pandas.pydata.org/pandas-docs/stable/user_guide/indexing.html#returning-a-view-versus-a-copy\n",
      "  interestdf['exterq'] = interestdf.exterqual.map(qual)\n"
     ]
    }
   ],
   "source": [
    "# Mapping qual to all qual variables\n",
    "\n",
    "interestdf['exterq'] = interestdf.exterqual.map(qual)\n",
    "interestdf = interestdf.drop('exterqual', axis = 1)\n",
    "interestdf['heatingq'] = interestdf.heatingqc.map(qual)\n",
    "interestdf = interestdf.drop('heatingqc', axis = 1)\n",
    "interestdf['bsmtq'] = interestdf.bsmtqual.map(qual)\n",
    "interestdf = interestdf.drop('bsmtqual', axis = 1)\n",
    "interestdf['kitchenq'] = interestdf.kitchenqual.map(qual)\n",
    "interestdf = interestdf.drop('kitchenqual', axis = 1)"
   ]
  },
  {
   "cell_type": "code",
   "execution_count": 203,
   "id": "55e8f4c0",
   "metadata": {},
   "outputs": [
    {
     "data": {
      "text/plain": [
       "['garagefinish',\n",
       " 'masvnrtype',\n",
       " 'neighborhood',\n",
       " 'paveddrive',\n",
       " 'lotshape',\n",
       " 'overallqual',\n",
       " 'masvnrarea',\n",
       " 'poolarea',\n",
       " 'fireplaces',\n",
       " 'grlivarea',\n",
       " 'screenporch',\n",
       " 'lotarea',\n",
       " '3ssnporch',\n",
       " 'bsmtfullbath',\n",
       " 'totalbsmtsf',\n",
       " 'garagearea',\n",
       " 'yearbuilt',\n",
       " 'saleprice',\n",
       " 'exterq',\n",
       " 'heatingq',\n",
       " 'bsmtq',\n",
       " 'kitchenq']"
      ]
     },
     "execution_count": 203,
     "metadata": {},
     "output_type": "execute_result"
    }
   ],
   "source": [
    "interest = list(interestdf.columns)\n",
    "interest"
   ]
  },
  {
   "cell_type": "code",
   "execution_count": 204,
   "id": "34ea0a0c",
   "metadata": {},
   "outputs": [
    {
     "data": {
      "text/html": [
       "<div>\n",
       "<style scoped>\n",
       "    .dataframe tbody tr th:only-of-type {\n",
       "        vertical-align: middle;\n",
       "    }\n",
       "\n",
       "    .dataframe tbody tr th {\n",
       "        vertical-align: top;\n",
       "    }\n",
       "\n",
       "    .dataframe thead th {\n",
       "        text-align: right;\n",
       "    }\n",
       "</style>\n",
       "<table border=\"1\" class=\"dataframe\">\n",
       "  <thead>\n",
       "    <tr style=\"text-align: right;\">\n",
       "      <th></th>\n",
       "      <th>garagefinish</th>\n",
       "      <th>masvnrtype</th>\n",
       "      <th>neighborhood</th>\n",
       "      <th>paveddrive</th>\n",
       "      <th>lotshape</th>\n",
       "      <th>overallqual</th>\n",
       "      <th>masvnrarea</th>\n",
       "      <th>poolarea</th>\n",
       "      <th>fireplaces</th>\n",
       "      <th>grlivarea</th>\n",
       "      <th>...</th>\n",
       "      <th>3ssnporch</th>\n",
       "      <th>bsmtfullbath</th>\n",
       "      <th>totalbsmtsf</th>\n",
       "      <th>garagearea</th>\n",
       "      <th>yearbuilt</th>\n",
       "      <th>saleprice</th>\n",
       "      <th>exterq</th>\n",
       "      <th>heatingq</th>\n",
       "      <th>bsmtq</th>\n",
       "      <th>kitchenq</th>\n",
       "    </tr>\n",
       "    <tr>\n",
       "      <th>Id</th>\n",
       "      <th></th>\n",
       "      <th></th>\n",
       "      <th></th>\n",
       "      <th></th>\n",
       "      <th></th>\n",
       "      <th></th>\n",
       "      <th></th>\n",
       "      <th></th>\n",
       "      <th></th>\n",
       "      <th></th>\n",
       "      <th></th>\n",
       "      <th></th>\n",
       "      <th></th>\n",
       "      <th></th>\n",
       "      <th></th>\n",
       "      <th></th>\n",
       "      <th></th>\n",
       "      <th></th>\n",
       "      <th></th>\n",
       "      <th></th>\n",
       "      <th></th>\n",
       "    </tr>\n",
       "  </thead>\n",
       "  <tbody>\n",
       "    <tr>\n",
       "      <th>109</th>\n",
       "      <td>RFn</td>\n",
       "      <td>BrkFace</td>\n",
       "      <td>Sawyer</td>\n",
       "      <td>Y</td>\n",
       "      <td>IR1</td>\n",
       "      <td>6</td>\n",
       "      <td>289.0</td>\n",
       "      <td>0</td>\n",
       "      <td>0</td>\n",
       "      <td>1479</td>\n",
       "      <td>...</td>\n",
       "      <td>0</td>\n",
       "      <td>0.0</td>\n",
       "      <td>725.0</td>\n",
       "      <td>475.0</td>\n",
       "      <td>1976</td>\n",
       "      <td>130500</td>\n",
       "      <td>4</td>\n",
       "      <td>5</td>\n",
       "      <td>3</td>\n",
       "      <td>4</td>\n",
       "    </tr>\n",
       "    <tr>\n",
       "      <th>544</th>\n",
       "      <td>RFn</td>\n",
       "      <td>BrkFace</td>\n",
       "      <td>SawyerW</td>\n",
       "      <td>Y</td>\n",
       "      <td>IR1</td>\n",
       "      <td>7</td>\n",
       "      <td>132.0</td>\n",
       "      <td>0</td>\n",
       "      <td>1</td>\n",
       "      <td>2122</td>\n",
       "      <td>...</td>\n",
       "      <td>0</td>\n",
       "      <td>1.0</td>\n",
       "      <td>913.0</td>\n",
       "      <td>559.0</td>\n",
       "      <td>1996</td>\n",
       "      <td>220000</td>\n",
       "      <td>4</td>\n",
       "      <td>5</td>\n",
       "      <td>4</td>\n",
       "      <td>4</td>\n",
       "    </tr>\n",
       "    <tr>\n",
       "      <th>153</th>\n",
       "      <td>Unf</td>\n",
       "      <td>None</td>\n",
       "      <td>NAmes</td>\n",
       "      <td>Y</td>\n",
       "      <td>Reg</td>\n",
       "      <td>5</td>\n",
       "      <td>0.0</td>\n",
       "      <td>0</td>\n",
       "      <td>0</td>\n",
       "      <td>1057</td>\n",
       "      <td>...</td>\n",
       "      <td>0</td>\n",
       "      <td>1.0</td>\n",
       "      <td>1057.0</td>\n",
       "      <td>246.0</td>\n",
       "      <td>1953</td>\n",
       "      <td>109000</td>\n",
       "      <td>3</td>\n",
       "      <td>3</td>\n",
       "      <td>3</td>\n",
       "      <td>4</td>\n",
       "    </tr>\n",
       "    <tr>\n",
       "      <th>318</th>\n",
       "      <td>Fin</td>\n",
       "      <td>None</td>\n",
       "      <td>Timber</td>\n",
       "      <td>Y</td>\n",
       "      <td>Reg</td>\n",
       "      <td>5</td>\n",
       "      <td>0.0</td>\n",
       "      <td>0</td>\n",
       "      <td>0</td>\n",
       "      <td>1444</td>\n",
       "      <td>...</td>\n",
       "      <td>0</td>\n",
       "      <td>0.0</td>\n",
       "      <td>384.0</td>\n",
       "      <td>400.0</td>\n",
       "      <td>2006</td>\n",
       "      <td>174000</td>\n",
       "      <td>3</td>\n",
       "      <td>4</td>\n",
       "      <td>4</td>\n",
       "      <td>3</td>\n",
       "    </tr>\n",
       "    <tr>\n",
       "      <th>255</th>\n",
       "      <td>Unf</td>\n",
       "      <td>None</td>\n",
       "      <td>SawyerW</td>\n",
       "      <td>N</td>\n",
       "      <td>IR1</td>\n",
       "      <td>6</td>\n",
       "      <td>0.0</td>\n",
       "      <td>0</td>\n",
       "      <td>0</td>\n",
       "      <td>1445</td>\n",
       "      <td>...</td>\n",
       "      <td>0</td>\n",
       "      <td>0.0</td>\n",
       "      <td>676.0</td>\n",
       "      <td>484.0</td>\n",
       "      <td>1900</td>\n",
       "      <td>138500</td>\n",
       "      <td>3</td>\n",
       "      <td>3</td>\n",
       "      <td>2</td>\n",
       "      <td>3</td>\n",
       "    </tr>\n",
       "  </tbody>\n",
       "</table>\n",
       "<p>5 rows × 22 columns</p>\n",
       "</div>"
      ],
      "text/plain": [
       "    garagefinish masvnrtype neighborhood paveddrive lotshape  overallqual  \\\n",
       "Id                                                                          \n",
       "109          RFn    BrkFace       Sawyer          Y      IR1            6   \n",
       "544          RFn    BrkFace      SawyerW          Y      IR1            7   \n",
       "153          Unf       None        NAmes          Y      Reg            5   \n",
       "318          Fin       None       Timber          Y      Reg            5   \n",
       "255          Unf       None      SawyerW          N      IR1            6   \n",
       "\n",
       "     masvnrarea  poolarea  fireplaces  grlivarea  ...  3ssnporch  \\\n",
       "Id                                                ...              \n",
       "109       289.0         0           0       1479  ...          0   \n",
       "544       132.0         0           1       2122  ...          0   \n",
       "153         0.0         0           0       1057  ...          0   \n",
       "318         0.0         0           0       1444  ...          0   \n",
       "255         0.0         0           0       1445  ...          0   \n",
       "\n",
       "     bsmtfullbath  totalbsmtsf  garagearea  yearbuilt  saleprice  exterq  \\\n",
       "Id                                                                         \n",
       "109           0.0        725.0       475.0       1976     130500       4   \n",
       "544           1.0        913.0       559.0       1996     220000       4   \n",
       "153           1.0       1057.0       246.0       1953     109000       3   \n",
       "318           0.0        384.0       400.0       2006     174000       3   \n",
       "255           0.0        676.0       484.0       1900     138500       3   \n",
       "\n",
       "     heatingq  bsmtq  kitchenq  \n",
       "Id                              \n",
       "109         5      3         4  \n",
       "544         5      4         4  \n",
       "153         3      3         4  \n",
       "318         4      4         3  \n",
       "255         3      2         3  \n",
       "\n",
       "[5 rows x 22 columns]"
      ]
     },
     "execution_count": 204,
     "metadata": {},
     "output_type": "execute_result"
    }
   ],
   "source": [
    "interestdf.head()"
   ]
  },
  {
   "cell_type": "code",
   "execution_count": 205,
   "id": "87a1fc95",
   "metadata": {},
   "outputs": [
    {
     "name": "stdout",
     "output_type": "stream",
     "text": [
      "<class 'pandas.core.frame.DataFrame'>\n",
      "Int64Index: 2051 entries, 109 to 10\n",
      "Data columns (total 22 columns):\n",
      " #   Column        Non-Null Count  Dtype  \n",
      "---  ------        --------------  -----  \n",
      " 0   garagefinish  2051 non-null   object \n",
      " 1   masvnrtype    2051 non-null   object \n",
      " 2   neighborhood  2051 non-null   object \n",
      " 3   paveddrive    2051 non-null   object \n",
      " 4   lotshape      2051 non-null   object \n",
      " 5   overallqual   2051 non-null   int64  \n",
      " 6   masvnrarea    2051 non-null   float64\n",
      " 7   poolarea      2051 non-null   int64  \n",
      " 8   fireplaces    2051 non-null   int64  \n",
      " 9   grlivarea     2051 non-null   int64  \n",
      " 10  screenporch   2051 non-null   int64  \n",
      " 11  lotarea       2051 non-null   int64  \n",
      " 12  3ssnporch     2051 non-null   int64  \n",
      " 13  bsmtfullbath  2051 non-null   float64\n",
      " 14  totalbsmtsf   2051 non-null   float64\n",
      " 15  garagearea    2051 non-null   float64\n",
      " 16  yearbuilt     2051 non-null   int64  \n",
      " 17  saleprice     2051 non-null   int64  \n",
      " 18  exterq        2051 non-null   int64  \n",
      " 19  heatingq      2051 non-null   int64  \n",
      " 20  bsmtq         2051 non-null   int64  \n",
      " 21  kitchenq      2051 non-null   int64  \n",
      "dtypes: float64(4), int64(13), object(5)\n",
      "memory usage: 368.5+ KB\n"
     ]
    }
   ],
   "source": [
    "interestdf.info()"
   ]
  },
  {
   "cell_type": "code",
   "execution_count": 206,
   "id": "d7ca73d1",
   "metadata": {},
   "outputs": [],
   "source": [
    "interest.remove('saleprice') \n",
    "interest.remove('neighborhood') \n",
    "interestdf = interestdf.drop('neighborhood', axis = 1)"
   ]
  },
  {
   "cell_type": "code",
   "execution_count": 207,
   "id": "e7d626e9",
   "metadata": {},
   "outputs": [],
   "source": [
    "# Making dummy variables\n",
    "\n",
    "interestdf = pd.get_dummies(interestdf, drop_first = True)"
   ]
  },
  {
   "cell_type": "code",
   "execution_count": 208,
   "id": "9a2713f2",
   "metadata": {},
   "outputs": [],
   "source": [
    "interest_list = [ col for col in interestdf.columns if col !='saleprice']"
   ]
  },
  {
   "cell_type": "code",
   "execution_count": 209,
   "id": "05fc6d19",
   "metadata": {},
   "outputs": [
    {
     "data": {
      "text/plain": [
       "['overallqual',\n",
       " 'masvnrarea',\n",
       " 'poolarea',\n",
       " 'fireplaces',\n",
       " 'grlivarea',\n",
       " 'screenporch',\n",
       " 'lotarea',\n",
       " '3ssnporch',\n",
       " 'bsmtfullbath',\n",
       " 'totalbsmtsf',\n",
       " 'garagearea',\n",
       " 'yearbuilt',\n",
       " 'exterq',\n",
       " 'heatingq',\n",
       " 'bsmtq',\n",
       " 'kitchenq',\n",
       " 'garagefinish_RFn',\n",
       " 'garagefinish_Unf',\n",
       " 'masvnrtype_BrkFace',\n",
       " 'masvnrtype_None',\n",
       " 'masvnrtype_Stone',\n",
       " 'paveddrive_P',\n",
       " 'paveddrive_Y',\n",
       " 'lotshape_IR2',\n",
       " 'lotshape_IR3',\n",
       " 'lotshape_Reg']"
      ]
     },
     "execution_count": 209,
     "metadata": {},
     "output_type": "execute_result"
    }
   ],
   "source": [
    "interest_list"
   ]
  },
  {
   "cell_type": "markdown",
   "id": "eede81d5",
   "metadata": {},
   "source": [
    "## Linear Regression Modelling "
   ]
  },
  {
   "cell_type": "code",
   "execution_count": 210,
   "id": "73aa082a",
   "metadata": {},
   "outputs": [],
   "source": [
    "# Linear Regression class \n",
    "\n",
    "lr = LinearRegression()"
   ]
  },
  {
   "cell_type": "code",
   "execution_count": 211,
   "id": "cdbe4fe2",
   "metadata": {},
   "outputs": [],
   "source": [
    "X = interestdf[interest_list]\n",
    "y = interestdf['saleprice']"
   ]
  },
  {
   "cell_type": "code",
   "execution_count": 212,
   "id": "977eb8e7",
   "metadata": {},
   "outputs": [],
   "source": [
    "# Splitting current training dataset to do smaller training datasets\n",
    "\n",
    "X_train, X_test, y_train, y_test = train_test_split(X, y, test_size = 0.3, random_state = 42)"
   ]
  },
  {
   "cell_type": "code",
   "execution_count": 213,
   "id": "b328815b",
   "metadata": {},
   "outputs": [
    {
     "data": {
      "text/plain": [
       "(616, 26)"
      ]
     },
     "execution_count": 213,
     "metadata": {},
     "output_type": "execute_result"
    }
   ],
   "source": [
    "X_test.shape"
   ]
  },
  {
   "cell_type": "code",
   "execution_count": 214,
   "id": "d12597bb",
   "metadata": {},
   "outputs": [],
   "source": [
    "# Scaling the variables to an equal scale\n",
    "\n",
    "ss = StandardScaler()\n",
    "ss.fit(X_train)\n",
    "X_train_sc=ss.transform(X_train)\n",
    "X_test_sc = ss.transform(X_test)"
   ]
  },
  {
   "cell_type": "code",
   "execution_count": 215,
   "id": "e0eb7ca2",
   "metadata": {},
   "outputs": [],
   "source": [
    "model = lr.fit(X_train_sc,y_train)\n",
    "score = model.score(X_train_sc,y_train)\n",
    "\n",
    "predictions = model.predict(X_train_sc)"
   ]
  },
  {
   "cell_type": "code",
   "execution_count": 216,
   "id": "ee7242b6",
   "metadata": {},
   "outputs": [
    {
     "name": "stderr",
     "output_type": "stream",
     "text": [
      "C:\\Users\\singh\\anaconda3\\lib\\site-packages\\seaborn\\_decorators.py:36: FutureWarning: Pass the following variables as keyword args: x, y. From version 0.12, the only valid positional argument will be `data`, and passing other arguments without an explicit keyword will result in an error or misinterpretation.\n",
      "  warnings.warn(\n"
     ]
    },
    {
     "data": {
      "text/plain": [
       "(array([-100000.,       0.,  100000.,  200000.,  300000.,  400000.,\n",
       "         500000.,  600000.,  700000.]),\n",
       " [Text(0, 0, ''),\n",
       "  Text(0, 0, ''),\n",
       "  Text(0, 0, ''),\n",
       "  Text(0, 0, ''),\n",
       "  Text(0, 0, ''),\n",
       "  Text(0, 0, ''),\n",
       "  Text(0, 0, ''),\n",
       "  Text(0, 0, ''),\n",
       "  Text(0, 0, '')])"
      ]
     },
     "execution_count": 216,
     "metadata": {},
     "output_type": "execute_result"
    }
   ],
   "source": [
    "# Plotting the fit of the predicted vs the actual sale price\n",
    "\n",
    "plt.figure(figsize = (15,15))\n",
    "ax = sns.regplot(predictions, y_train)\n",
    "ax.plot()\n",
    "ax.set_title('Scatterplot of Predicted Sales Price vs Actual Sales Price', size = 20)\n",
    "ax.set_ylabel('Actual Sale Price', size = 16)\n",
    "ax.set_xlabel('Predicted Sale Price', size = 16)\n",
    "plt.yticks(size = 15)\n",
    "plt.xticks(size = 15)"
   ]
  },
  {
   "cell_type": "code",
   "execution_count": 217,
   "id": "d734dfd7",
   "metadata": {},
   "outputs": [
    {
     "name": "stdout",
     "output_type": "stream",
     "text": [
      "[18447.39036742  7626.78706546 -4611.06981767  6167.51327616\n",
      " 18287.92271429  5302.32361032  6414.10376294  1258.46646932\n",
      "  6388.6997598   4708.51531307  6353.50048852  2249.08074479\n",
      "  8528.79413695  2963.57873536  6876.10107685  8623.92468998\n",
      " -3526.94036972 -2920.60768114  4508.61901375  8744.53095479\n",
      "  6277.23689358  -371.14684497   857.60846648   450.06243836\n",
      " -5894.71965442 -1294.05209613]\n",
      "180717.9693379791\n"
     ]
    },
    {
     "data": {
      "text/plain": [
       "32933.693008226874"
      ]
     },
     "execution_count": 217,
     "metadata": {},
     "output_type": "execute_result"
    }
   ],
   "source": [
    "print(model.coef_)\n",
    "print(model.intercept_)\n",
    "np.sqrt(mean_squared_error(y_train, predictions))"
   ]
  },
  {
   "cell_type": "code",
   "execution_count": 218,
   "id": "812f3d35",
   "metadata": {},
   "outputs": [],
   "source": [
    "n = 2051\n",
    "p = len(interest_list)"
   ]
  },
  {
   "cell_type": "code",
   "execution_count": 219,
   "id": "c7e8dd50",
   "metadata": {},
   "outputs": [
    {
     "data": {
      "text/plain": [
       "0.8285210802803271"
      ]
     },
     "execution_count": 219,
     "metadata": {},
     "output_type": "execute_result"
    }
   ],
   "source": [
    "# Adj r2 value for training set\n",
    "\n",
    "adjr2_lr1 = 1-(1-(score))*(n-1)/(n-p-1)\n",
    "adjr2_lr1"
   ]
  },
  {
   "cell_type": "code",
   "execution_count": 220,
   "id": "68894fcf",
   "metadata": {},
   "outputs": [
    {
     "data": {
      "text/plain": [
       "0.8587401232575231"
      ]
     },
     "execution_count": 220,
     "metadata": {},
     "output_type": "execute_result"
    }
   ],
   "source": [
    "score2 =lr.score(X_test_sc, y_test)\n",
    "\n",
    "prediction2 = model.predict(X_test_sc)\n",
    "\n",
    "# Adj r2 value for test set\n",
    "\n",
    "adjr2_lr2 = 1-(1-(score2))*(n-1)/(n-p-1)\n",
    "adjr2_lr2 "
   ]
  },
  {
   "cell_type": "code",
   "execution_count": 221,
   "id": "7a80082b",
   "metadata": {},
   "outputs": [
    {
     "data": {
      "text/plain": [
       "28873.197062950938"
      ]
     },
     "execution_count": 221,
     "metadata": {},
     "output_type": "execute_result"
    }
   ],
   "source": [
    "# RMSE value\n",
    "np.sqrt(mean_squared_error(y_test, prediction2)) "
   ]
  },
  {
   "cell_type": "code",
   "execution_count": 222,
   "id": "feb05d37",
   "metadata": {},
   "outputs": [
    {
     "name": "stderr",
     "output_type": "stream",
     "text": [
      "C:\\Users\\singh\\anaconda3\\lib\\site-packages\\seaborn\\_decorators.py:36: FutureWarning: Pass the following variables as keyword args: x, y. From version 0.12, the only valid positional argument will be `data`, and passing other arguments without an explicit keyword will result in an error or misinterpretation.\n",
      "  warnings.warn(\n"
     ]
    },
    {
     "data": {
      "text/plain": [
       "(array([     0.,  50000., 100000., 150000., 200000., 250000., 300000.,\n",
       "        350000., 400000., 450000.]),\n",
       " [Text(0, 0, ''),\n",
       "  Text(0, 0, ''),\n",
       "  Text(0, 0, ''),\n",
       "  Text(0, 0, ''),\n",
       "  Text(0, 0, ''),\n",
       "  Text(0, 0, ''),\n",
       "  Text(0, 0, ''),\n",
       "  Text(0, 0, ''),\n",
       "  Text(0, 0, ''),\n",
       "  Text(0, 0, '')])"
      ]
     },
     "execution_count": 222,
     "metadata": {},
     "output_type": "execute_result"
    }
   ],
   "source": [
    "# Plotting the fit of the predicted vs the actual sale price\n",
    "\n",
    "plt.figure(figsize = (10,10))\n",
    "ax = sns.regplot(prediction2, y_test)\n",
    "ax.plot()\n",
    "ax.set_title('Scatterplot of Predicted Sales Price vs Actual Sales Price', size = 20)\n",
    "ax.set_ylabel('Actual Sale Price', size = 16)\n",
    "ax.set_xlabel('Predicted Sale Price', size = 16)\n",
    "plt.yticks(size = 15)\n",
    "plt.xticks(size = 15)"
   ]
  },
  {
   "cell_type": "code",
   "execution_count": 223,
   "id": "8bd8134c",
   "metadata": {},
   "outputs": [
    {
     "name": "stdout",
     "output_type": "stream",
     "text": [
      "[18447.39036742  7626.78706546 -4611.06981767  6167.51327616\n",
      " 18287.92271429  5302.32361032  6414.10376294  1258.46646932\n",
      "  6388.6997598   4708.51531307  6353.50048852  2249.08074479\n",
      "  8528.79413695  2963.57873536  6876.10107685  8623.92468998\n",
      " -3526.94036972 -2920.60768114  4508.61901375  8744.53095479\n",
      "  6277.23689358  -371.14684497   857.60846648   450.06243836\n",
      " -5894.71965442 -1294.05209613]\n",
      "180717.9693379791\n"
     ]
    }
   ],
   "source": [
    "print(model.coef_)\n",
    "print(model.intercept_)"
   ]
  },
  {
   "cell_type": "code",
   "execution_count": 224,
   "id": "998ff11b",
   "metadata": {},
   "outputs": [
    {
     "name": "stdout",
     "output_type": "stream",
     "text": [
      "[0.83951236 0.81776343 0.86044835 0.78956273 0.65378331]\n"
     ]
    },
    {
     "data": {
      "text/plain": [
       "0.7922140359510348"
      ]
     },
     "execution_count": 224,
     "metadata": {},
     "output_type": "execute_result"
    }
   ],
   "source": [
    "# Cross validation scores on train dataset\n",
    "lr_scores = cross_val_score(lr, X_train_sc, y_train, cv = 5)\n",
    "print(lr_scores)\n",
    "lr_scores.mean()"
   ]
  },
  {
   "cell_type": "code",
   "execution_count": 225,
   "id": "4918c058",
   "metadata": {},
   "outputs": [
    {
     "name": "stdout",
     "output_type": "stream",
     "text": [
      "[0.86567014 0.89481436 0.85250138 0.8667611  0.87665334]\n"
     ]
    },
    {
     "data": {
      "text/plain": [
       "0.8712800640668593"
      ]
     },
     "execution_count": 225,
     "metadata": {},
     "output_type": "execute_result"
    }
   ],
   "source": [
    "# Cross validation scores on test dataset\n",
    "lr2_scores = cross_val_score(lr, X_test_sc, y_test, cv = 5)\n",
    "print(lr2_scores)\n",
    "lr2_scores.mean()"
   ]
  },
  {
   "cell_type": "markdown",
   "id": "f2f152c2",
   "metadata": {},
   "source": [
    "### Lasso Regression "
   ]
  },
  {
   "cell_type": "code",
   "execution_count": 226,
   "id": "0757d70a",
   "metadata": {},
   "outputs": [],
   "source": [
    "# Initialising Lasso Regression in Scikit\n",
    "\n",
    "ls = LassoCV(n_alphas = 200)"
   ]
  },
  {
   "cell_type": "code",
   "execution_count": 227,
   "id": "e5390a70",
   "metadata": {},
   "outputs": [
    {
     "data": {
      "text/plain": [
       "(1435, 26)"
      ]
     },
     "execution_count": 227,
     "metadata": {},
     "output_type": "execute_result"
    }
   ],
   "source": [
    "X_train_sc.shape"
   ]
  },
  {
   "cell_type": "code",
   "execution_count": 228,
   "id": "cc580c93",
   "metadata": {},
   "outputs": [
    {
     "name": "stdout",
     "output_type": "stream",
     "text": [
      "[0.83955727 0.81752211 0.86037509 0.79006151 0.64848657]\n"
     ]
    },
    {
     "data": {
      "text/plain": [
       "0.7912005099538054"
      ]
     },
     "execution_count": 228,
     "metadata": {},
     "output_type": "execute_result"
    }
   ],
   "source": [
    "# Cross validating Lasso Regression with training set.\n",
    "\n",
    "ls_scores = cross_val_score(ls, X_train_sc, y_train, cv = 5)\n",
    "print(ls_scores)\n",
    "ls_scores.mean()"
   ]
  },
  {
   "cell_type": "code",
   "execution_count": 229,
   "id": "8f35978a",
   "metadata": {},
   "outputs": [
    {
     "data": {
      "text/plain": [
       "array([[-6.79941799e-02,  1.85542776e+00, -6.83356918e-02, ...,\n",
       "        -1.55783118e-01, -7.00140042e-02,  7.60695646e-01],\n",
       "       [ 6.28946165e-01, -5.56076337e-01, -6.83356918e-02, ...,\n",
       "        -1.55783118e-01, -7.00140042e-02, -1.31458620e+00],\n",
       "       [-7.64934524e-01, -5.56076337e-01, -6.83356918e-02, ...,\n",
       "        -1.55783118e-01, -7.00140042e-02,  7.60695646e-01],\n",
       "       ...,\n",
       "       [-6.79941799e-02,  5.66226501e-03,  1.60106099e+01, ...,\n",
       "        -1.55783118e-01, -7.00140042e-02,  7.60695646e-01],\n",
       "       [-6.79941799e-02,  1.64537829e-01, -6.83356918e-02, ...,\n",
       "        -1.55783118e-01, -7.00140042e-02,  7.60695646e-01],\n",
       "       [ 6.28946165e-01,  8.28410723e-01, -6.83356918e-02, ...,\n",
       "        -1.55783118e-01, -7.00140042e-02,  7.60695646e-01]])"
      ]
     },
     "execution_count": 229,
     "metadata": {},
     "output_type": "execute_result"
    }
   ],
   "source": [
    "X_train_sc"
   ]
  },
  {
   "cell_type": "code",
   "execution_count": 230,
   "id": "b17965f0",
   "metadata": {},
   "outputs": [
    {
     "data": {
      "text/plain": [
       "LassoCV(n_alphas=200)"
      ]
     },
     "execution_count": 230,
     "metadata": {},
     "output_type": "execute_result"
    }
   ],
   "source": [
    "# Fit the lasson model\n",
    "\n",
    "ls.fit(X_train_sc, y_train)"
   ]
  },
  {
   "cell_type": "code",
   "execution_count": 231,
   "id": "9c0ddb54",
   "metadata": {},
   "outputs": [
    {
     "data": {
      "text/plain": [
       "0.8305734030472174"
      ]
     },
     "execution_count": 231,
     "metadata": {},
     "output_type": "execute_result"
    }
   ],
   "source": [
    "ls.score(X_train_sc, y_train)"
   ]
  },
  {
   "cell_type": "code",
   "execution_count": 232,
   "id": "f4974e7c",
   "metadata": {},
   "outputs": [
    {
     "name": "stdout",
     "output_type": "stream",
     "text": [
      "[0.87349978 0.89448194 0.84976102 0.8629153  0.8738559 ]\n"
     ]
    },
    {
     "data": {
      "text/plain": [
       "0.8709027871149502"
      ]
     },
     "execution_count": 232,
     "metadata": {},
     "output_type": "execute_result"
    }
   ],
   "source": [
    "# Cross validating Lasso Regression with test data\n",
    "\n",
    "ls_scores2 = cross_val_score(ls, X_test_sc, y_test, cv = 5)\n",
    "print(ls_scores2)\n",
    "ls_scores2.mean()"
   ]
  },
  {
   "cell_type": "code",
   "execution_count": 233,
   "id": "2759c15b",
   "metadata": {},
   "outputs": [],
   "source": [
    "score2 = ls.score(X_test_sc, y_test)"
   ]
  },
  {
   "cell_type": "code",
   "execution_count": 234,
   "id": "ecebd043",
   "metadata": {},
   "outputs": [],
   "source": [
    "predls = ls.predict(X_test_sc)"
   ]
  },
  {
   "cell_type": "code",
   "execution_count": 235,
   "id": "9619e512",
   "metadata": {},
   "outputs": [
    {
     "data": {
      "text/plain": [
       "0.8603003007868635"
      ]
     },
     "execution_count": 235,
     "metadata": {},
     "output_type": "execute_result"
    }
   ],
   "source": [
    "ls_test_r2score = r2_score(y_test, predls)\n",
    "ls_test_r2score"
   ]
  },
  {
   "cell_type": "code",
   "execution_count": 236,
   "id": "d0374922",
   "metadata": {},
   "outputs": [
    {
     "data": {
      "text/plain": [
       "28897.140894843284"
      ]
     },
     "execution_count": 236,
     "metadata": {},
     "output_type": "execute_result"
    }
   ],
   "source": [
    "# RMSE\n",
    "np.sqrt(mean_squared_error(y_test, predls))"
   ]
  },
  {
   "cell_type": "code",
   "execution_count": 237,
   "id": "0b4d70e6",
   "metadata": {},
   "outputs": [
    {
     "data": {
      "text/plain": [
       "25"
      ]
     },
     "execution_count": 237,
     "metadata": {},
     "output_type": "execute_result"
    }
   ],
   "source": [
    "sum(ls.coef_ != 0)"
   ]
  },
  {
   "cell_type": "code",
   "execution_count": 238,
   "id": "082bad90",
   "metadata": {},
   "outputs": [
    {
     "data": {
      "text/plain": [
       "0.8585756131422568"
      ]
     },
     "execution_count": 238,
     "metadata": {},
     "output_type": "execute_result"
    }
   ],
   "source": [
    "# Finding for ajusted \n",
    "\n",
    "p = np.sum(ls.coef_ != 0)\n",
    "adjr2_ls2= 1-(1-(ls_test_r2score))*(n-1)/(n-p-1)\n",
    "adjr2_ls2 "
   ]
  },
  {
   "cell_type": "code",
   "execution_count": 239,
   "id": "e6a77126",
   "metadata": {},
   "outputs": [
    {
     "data": {
      "text/plain": [
       "<AxesSubplot:title={'center':'Scatterplot of Predicted Sales Price vs Actual Sales Price'}, xlabel='Predicted Sale Price', ylabel='Actual Sale Price'>"
      ]
     },
     "execution_count": 239,
     "metadata": {},
     "output_type": "execute_result"
    }
   ],
   "source": [
    "pd.Series(ls.coef_, index = interest_list).sort_values(ascending =True).plot.bar(figsize=(15,7))"
   ]
  },
  {
   "cell_type": "code",
   "execution_count": 240,
   "id": "01371ad6",
   "metadata": {},
   "outputs": [],
   "source": [
    "# Plotting out the residuals against the predicted y\n",
    "\n",
    "residual_ls = y_test - predls"
   ]
  },
  {
   "cell_type": "code",
   "execution_count": 241,
   "id": "61c45368",
   "metadata": {},
   "outputs": [
    {
     "data": {
      "text/plain": [
       "(array([ 0,  1,  2,  3,  4,  5,  6,  7,  8,  9, 10, 11, 12, 13, 14, 15, 16,\n",
       "        17, 18, 19, 20, 21, 22, 23, 24, 25]),\n",
       " [Text(0, 0, 'lotshape_IR3'),\n",
       "  Text(1, 0, 'poolarea'),\n",
       "  Text(2, 0, 'garagefinish_RFn'),\n",
       "  Text(3, 0, 'garagefinish_Unf'),\n",
       "  Text(4, 0, 'lotshape_Reg'),\n",
       "  Text(5, 0, 'paveddrive_P'),\n",
       "  Text(6, 0, 'masvnrtype_BrkFace'),\n",
       "  Text(7, 0, 'lotshape_IR2'),\n",
       "  Text(8, 0, 'paveddrive_Y'),\n",
       "  Text(9, 0, '3ssnporch'),\n",
       "  Text(10, 0, 'yearbuilt'),\n",
       "  Text(11, 0, 'heatingq'),\n",
       "  Text(12, 0, 'masvnrtype_Stone'),\n",
       "  Text(13, 0, 'masvnrtype_None'),\n",
       "  Text(14, 0, 'totalbsmtsf'),\n",
       "  Text(15, 0, 'screenporch'),\n",
       "  Text(16, 0, 'fireplaces'),\n",
       "  Text(17, 0, 'lotarea'),\n",
       "  Text(18, 0, 'bsmtfullbath'),\n",
       "  Text(19, 0, 'garagearea'),\n",
       "  Text(20, 0, 'bsmtq'),\n",
       "  Text(21, 0, 'masvnrarea'),\n",
       "  Text(22, 0, 'exterq'),\n",
       "  Text(23, 0, 'kitchenq'),\n",
       "  Text(24, 0, 'grlivarea'),\n",
       "  Text(25, 0, 'overallqual')])"
      ]
     },
     "execution_count": 241,
     "metadata": {},
     "output_type": "execute_result"
    }
   ],
   "source": [
    "plt.scatter(predls, residual_ls)\n",
    "plt.title('Lasso Regression chart of residuals vs predicted y', size = 20)\n",
    "plt.yticks( size = 15)\n",
    "plt.xticks(size = 15)"
   ]
  },
  {
   "cell_type": "markdown",
   "id": "87036926",
   "metadata": {},
   "source": [
    "### Ridge Regression"
   ]
  },
  {
   "cell_type": "code",
   "execution_count": 242,
   "id": "e6d818c5",
   "metadata": {},
   "outputs": [],
   "source": [
    "# Ridge Regression \n",
    "\n",
    "rd = RidgeCV(alphas = np.linspace(0.1, 10, 100))"
   ]
  },
  {
   "cell_type": "code",
   "execution_count": 243,
   "id": "1f173b5f",
   "metadata": {},
   "outputs": [
    {
     "name": "stdout",
     "output_type": "stream",
     "text": [
      "[0.83331456 0.83849588 0.65675411]\n"
     ]
    },
    {
     "data": {
      "text/plain": [
       "0.7761881818800488"
      ]
     },
     "execution_count": 243,
     "metadata": {},
     "output_type": "execute_result"
    }
   ],
   "source": [
    "rd_scores = cross_val_score(rd, X_train_sc, y_train, cv = 3)\n",
    "print(rd_scores)\n",
    "rd_scores.mean()"
   ]
  },
  {
   "cell_type": "code",
   "execution_count": 244,
   "id": "466d5bc0",
   "metadata": {},
   "outputs": [
    {
     "name": "stdout",
     "output_type": "stream",
     "text": [
      "RidgeCV(alphas=array([ 0.1,  0.2,  0.3,  0.4,  0.5,  0.6,  0.7,  0.8,  0.9,  1. ,  1.1,\n",
      "        1.2,  1.3,  1.4,  1.5,  1.6,  1.7,  1.8,  1.9,  2. ,  2.1,  2.2,\n",
      "        2.3,  2.4,  2.5,  2.6,  2.7,  2.8,  2.9,  3. ,  3.1,  3.2,  3.3,\n",
      "        3.4,  3.5,  3.6,  3.7,  3.8,  3.9,  4. ,  4.1,  4.2,  4.3,  4.4,\n",
      "        4.5,  4.6,  4.7,  4.8,  4.9,  5. ,  5.1,  5.2,  5.3,  5.4,  5.5,\n",
      "        5.6,  5.7,  5.8,  5.9,  6. ,  6.1,  6.2,  6.3,  6.4,  6.5,  6.6,\n",
      "        6.7,  6.8,  6.9,  7. ,  7.1,  7.2,  7.3,  7.4,  7.5,  7.6,  7.7,\n",
      "        7.8,  7.9,  8. ,  8.1,  8.2,  8.3,  8.4,  8.5,  8.6,  8.7,  8.8,\n",
      "        8.9,  9. ,  9.1,  9.2,  9.3,  9.4,  9.5,  9.6,  9.7,  9.8,  9.9,\n",
      "       10. ]))\n",
      "0.8306598383643353\n"
     ]
    }
   ],
   "source": [
    "print(rd.fit(X_train_sc, y_train))\n",
    "print(rd.score(X_train_sc, y_train))"
   ]
  },
  {
   "cell_type": "code",
   "execution_count": 245,
   "id": "2f65dbfd",
   "metadata": {},
   "outputs": [
    {
     "name": "stdout",
     "output_type": "stream",
     "text": [
      "[0.87084436 0.85864779 0.8749455 ]\n"
     ]
    },
    {
     "data": {
      "text/plain": [
       "0.8681458827403397"
      ]
     },
     "execution_count": 245,
     "metadata": {},
     "output_type": "execute_result"
    }
   ],
   "source": [
    "rd_scores2 = cross_val_score(rd, X_test_sc, y_test, cv = 3)\n",
    "print(rd_scores2)\n",
    "rd_scores2.mean()"
   ]
  },
  {
   "cell_type": "code",
   "execution_count": 246,
   "id": "b02b9a85",
   "metadata": {},
   "outputs": [
    {
     "data": {
      "text/plain": [
       "0.8306598383643353"
      ]
     },
     "execution_count": 246,
     "metadata": {},
     "output_type": "execute_result"
    }
   ],
   "source": [
    "rd.score(X_train_sc, y_train)"
   ]
  },
  {
   "cell_type": "code",
   "execution_count": 247,
   "id": "fbf5538a",
   "metadata": {},
   "outputs": [],
   "source": [
    "predrd = rd.predict(X_test_sc)"
   ]
  },
  {
   "cell_type": "code",
   "execution_count": 248,
   "id": "fe610500",
   "metadata": {},
   "outputs": [
    {
     "data": {
      "text/plain": [
       "0.8603505477730229"
      ]
     },
     "execution_count": 248,
     "metadata": {},
     "output_type": "execute_result"
    }
   ],
   "source": [
    "rdr2score= r2_score(y_test, predrd)\n",
    "rdr2score"
   ]
  },
  {
   "cell_type": "code",
   "execution_count": 249,
   "id": "c316f3b0",
   "metadata": {},
   "outputs": [
    {
     "data": {
      "text/plain": [
       "28891.943586498834"
      ]
     },
     "execution_count": 249,
     "metadata": {},
     "output_type": "execute_result"
    }
   ],
   "source": [
    "# RMSE \n",
    "\n",
    "np.sqrt(mean_squared_error(y_test, predrd)) "
   ]
  },
  {
   "cell_type": "code",
   "execution_count": 250,
   "id": "2d9f447d",
   "metadata": {},
   "outputs": [
    {
     "data": {
      "text/plain": [
       "<AxesSubplot:title={'center':'Lasso Regression chart of residuals vs predicted y'}, xlabel='Predicted Sale Price', ylabel='Actual Sale Price'>"
      ]
     },
     "execution_count": 250,
     "metadata": {},
     "output_type": "execute_result"
    }
   ],
   "source": [
    "pd.Series(rd.coef_, index = interest_list).sort_values(ascending = True).plot.bar(figsize=(15,7))"
   ]
  },
  {
   "cell_type": "code",
   "execution_count": 251,
   "id": "48dc59ed",
   "metadata": {},
   "outputs": [
    {
     "data": {
      "text/plain": [
       "0.8585566318847316"
      ]
     },
     "execution_count": 251,
     "metadata": {},
     "output_type": "execute_result"
    }
   ],
   "source": [
    "p = np.sum(rd.coef_ != 0)\n",
    "adjr2_rd = 1-(1-(rdr2score))*(n-1)/(n-p-1)\n",
    "adjr2_rd"
   ]
  },
  {
   "cell_type": "code",
   "execution_count": 252,
   "id": "2b49d387",
   "metadata": {},
   "outputs": [],
   "source": [
    "# Plotting out the residuals against the predicted y\n",
    "\n",
    "residuals = y_test - predrd"
   ]
  },
  {
   "cell_type": "code",
   "execution_count": 253,
   "id": "9f5c9ecb",
   "metadata": {},
   "outputs": [
    {
     "data": {
      "text/plain": [
       "(array([ 0,  1,  2,  3,  4,  5,  6,  7,  8,  9, 10, 11, 12, 13, 14, 15, 16,\n",
       "        17, 18, 19, 20, 21, 22, 23, 24, 25]),\n",
       " [Text(0, 0, 'lotshape_IR3'),\n",
       "  Text(1, 0, 'poolarea'),\n",
       "  Text(2, 0, 'garagefinish_RFn'),\n",
       "  Text(3, 0, 'garagefinish_Unf'),\n",
       "  Text(4, 0, 'lotshape_Reg'),\n",
       "  Text(5, 0, 'paveddrive_P'),\n",
       "  Text(6, 0, 'lotshape_IR2'),\n",
       "  Text(7, 0, 'paveddrive_Y'),\n",
       "  Text(8, 0, '3ssnporch'),\n",
       "  Text(9, 0, 'yearbuilt'),\n",
       "  Text(10, 0, 'masvnrtype_BrkFace'),\n",
       "  Text(11, 0, 'heatingq'),\n",
       "  Text(12, 0, 'totalbsmtsf'),\n",
       "  Text(13, 0, 'masvnrtype_Stone'),\n",
       "  Text(14, 0, 'screenporch'),\n",
       "  Text(15, 0, 'fireplaces'),\n",
       "  Text(16, 0, 'masvnrtype_None'),\n",
       "  Text(17, 0, 'bsmtfullbath'),\n",
       "  Text(18, 0, 'lotarea'),\n",
       "  Text(19, 0, 'garagearea'),\n",
       "  Text(20, 0, 'bsmtq'),\n",
       "  Text(21, 0, 'masvnrarea'),\n",
       "  Text(22, 0, 'exterq'),\n",
       "  Text(23, 0, 'kitchenq'),\n",
       "  Text(24, 0, 'grlivarea'),\n",
       "  Text(25, 0, 'overallqual')])"
      ]
     },
     "execution_count": 253,
     "metadata": {},
     "output_type": "execute_result"
    }
   ],
   "source": [
    "plt.scatter(predrd, residuals)\n",
    "plt.title('Ridge Regression chart of residuals vs predicted y', size = 20)\n",
    "plt.yticks( size = 15)\n",
    "plt.xticks(size = 15)"
   ]
  },
  {
   "cell_type": "markdown",
   "id": "16304644",
   "metadata": {},
   "source": [
    "### Test Data\n",
    "\n",
    "Test data was cleaned and explored\n",
    "Lasso regression was to be done as it had produced the best r2 value and RMSE for the split test data"
   ]
  },
  {
   "cell_type": "code",
   "execution_count": 257,
   "id": "9e5b90c7",
   "metadata": {},
   "outputs": [],
   "source": [
    "test = pd.read_csv('../datasets/test.csv', index_col='Id')"
   ]
  },
  {
   "cell_type": "code",
   "execution_count": 258,
   "id": "f9e7e98d",
   "metadata": {},
   "outputs": [
    {
     "name": "stdout",
     "output_type": "stream",
     "text": [
      "<class 'pandas.core.frame.DataFrame'>\n",
      "Int64Index: 878 entries, 2658 to 1939\n",
      "Data columns (total 79 columns):\n",
      " #   Column           Non-Null Count  Dtype  \n",
      "---  ------           --------------  -----  \n",
      " 0   PID              878 non-null    int64  \n",
      " 1   MS SubClass      878 non-null    int64  \n",
      " 2   MS Zoning        878 non-null    object \n",
      " 3   Lot Frontage     718 non-null    float64\n",
      " 4   Lot Area         878 non-null    int64  \n",
      " 5   Street           878 non-null    object \n",
      " 6   Alley            58 non-null     object \n",
      " 7   Lot Shape        878 non-null    object \n",
      " 8   Land Contour     878 non-null    object \n",
      " 9   Utilities        878 non-null    object \n",
      " 10  Lot Config       878 non-null    object \n",
      " 11  Land Slope       878 non-null    object \n",
      " 12  Neighborhood     878 non-null    object \n",
      " 13  Condition 1      878 non-null    object \n",
      " 14  Condition 2      878 non-null    object \n",
      " 15  Bldg Type        878 non-null    object \n",
      " 16  House Style      878 non-null    object \n",
      " 17  Overall Qual     878 non-null    int64  \n",
      " 18  Overall Cond     878 non-null    int64  \n",
      " 19  Year Built       878 non-null    int64  \n",
      " 20  Year Remod/Add   878 non-null    int64  \n",
      " 21  Roof Style       878 non-null    object \n",
      " 22  Roof Matl        878 non-null    object \n",
      " 23  Exterior 1st     878 non-null    object \n",
      " 24  Exterior 2nd     878 non-null    object \n",
      " 25  Mas Vnr Type     877 non-null    object \n",
      " 26  Mas Vnr Area     877 non-null    float64\n",
      " 27  Exter Qual       878 non-null    object \n",
      " 28  Exter Cond       878 non-null    object \n",
      " 29  Foundation       878 non-null    object \n",
      " 30  Bsmt Qual        853 non-null    object \n",
      " 31  Bsmt Cond        853 non-null    object \n",
      " 32  Bsmt Exposure    853 non-null    object \n",
      " 33  BsmtFin Type 1   853 non-null    object \n",
      " 34  BsmtFin SF 1     878 non-null    int64  \n",
      " 35  BsmtFin Type 2   853 non-null    object \n",
      " 36  BsmtFin SF 2     878 non-null    int64  \n",
      " 37  Bsmt Unf SF      878 non-null    int64  \n",
      " 38  Total Bsmt SF    878 non-null    int64  \n",
      " 39  Heating          878 non-null    object \n",
      " 40  Heating QC       878 non-null    object \n",
      " 41  Central Air      878 non-null    object \n",
      " 42  Electrical       877 non-null    object \n",
      " 43  1st Flr SF       878 non-null    int64  \n",
      " 44  2nd Flr SF       878 non-null    int64  \n",
      " 45  Low Qual Fin SF  878 non-null    int64  \n",
      " 46  Gr Liv Area      878 non-null    int64  \n",
      " 47  Bsmt Full Bath   878 non-null    int64  \n",
      " 48  Bsmt Half Bath   878 non-null    int64  \n",
      " 49  Full Bath        878 non-null    int64  \n",
      " 50  Half Bath        878 non-null    int64  \n",
      " 51  Bedroom AbvGr    878 non-null    int64  \n",
      " 52  Kitchen AbvGr    878 non-null    int64  \n",
      " 53  Kitchen Qual     878 non-null    object \n",
      " 54  TotRms AbvGrd    878 non-null    int64  \n",
      " 55  Functional       878 non-null    object \n",
      " 56  Fireplaces       878 non-null    int64  \n",
      " 57  Fireplace Qu     456 non-null    object \n",
      " 58  Garage Type      834 non-null    object \n",
      " 59  Garage Yr Blt    833 non-null    float64\n",
      " 60  Garage Finish    833 non-null    object \n",
      " 61  Garage Cars      878 non-null    int64  \n",
      " 62  Garage Area      878 non-null    int64  \n",
      " 63  Garage Qual      833 non-null    object \n",
      " 64  Garage Cond      833 non-null    object \n",
      " 65  Paved Drive      878 non-null    object \n",
      " 66  Wood Deck SF     878 non-null    int64  \n",
      " 67  Open Porch SF    878 non-null    int64  \n",
      " 68  Enclosed Porch   878 non-null    int64  \n",
      " 69  3Ssn Porch       878 non-null    int64  \n",
      " 70  Screen Porch     878 non-null    int64  \n",
      " 71  Pool Area        878 non-null    int64  \n",
      " 72  Pool QC          4 non-null      object \n",
      " 73  Fence            172 non-null    object \n",
      " 74  Misc Feature     41 non-null     object \n",
      " 75  Misc Val         878 non-null    int64  \n",
      " 76  Mo Sold          878 non-null    int64  \n",
      " 77  Yr Sold          878 non-null    int64  \n",
      " 78  Sale Type        878 non-null    object \n",
      "dtypes: float64(3), int64(34), object(42)\n",
      "memory usage: 548.8+ KB\n"
     ]
    }
   ],
   "source": [
    "# Data structure for test data\n",
    "test.info()"
   ]
  },
  {
   "cell_type": "code",
   "execution_count": 259,
   "id": "cfbcaca0",
   "metadata": {},
   "outputs": [
    {
     "data": {
      "text/plain": [
       "(878, 79)"
      ]
     },
     "execution_count": 259,
     "metadata": {},
     "output_type": "execute_result"
    }
   ],
   "source": [
    "test.shape"
   ]
  },
  {
   "cell_type": "markdown",
   "id": "3ce37b39",
   "metadata": {},
   "source": [
    "### Drop data that are significantly incomplete by >60%"
   ]
  },
  {
   "cell_type": "code",
   "execution_count": 260,
   "id": "43bfbfd3",
   "metadata": {},
   "outputs": [],
   "source": [
    "test = test.drop('Alley', axis = 1)"
   ]
  },
  {
   "cell_type": "code",
   "execution_count": 261,
   "id": "07010a85",
   "metadata": {},
   "outputs": [],
   "source": [
    "test = test.drop('Pool QC', axis = 1)"
   ]
  },
  {
   "cell_type": "code",
   "execution_count": 262,
   "id": "c450af81",
   "metadata": {},
   "outputs": [],
   "source": [
    "test = test.drop(\"Fence\", axis = 1)"
   ]
  },
  {
   "cell_type": "code",
   "execution_count": 263,
   "id": "8f21160e",
   "metadata": {},
   "outputs": [],
   "source": [
    "test = test.drop(\"Misc Feature\", axis = 1)"
   ]
  },
  {
   "cell_type": "code",
   "execution_count": 264,
   "id": "c94a558c",
   "metadata": {},
   "outputs": [],
   "source": [
    "test = test.drop(\"Fireplace Qu\", axis = 1)"
   ]
  },
  {
   "cell_type": "code",
   "execution_count": 265,
   "id": "3fb06771",
   "metadata": {},
   "outputs": [],
   "source": [
    "test = test.drop(\"PID\", axis = 1)"
   ]
  },
  {
   "cell_type": "code",
   "execution_count": 266,
   "id": "bffbc37d",
   "metadata": {},
   "outputs": [
    {
     "data": {
      "text/html": [
       "<div>\n",
       "<style scoped>\n",
       "    .dataframe tbody tr th:only-of-type {\n",
       "        vertical-align: middle;\n",
       "    }\n",
       "\n",
       "    .dataframe tbody tr th {\n",
       "        vertical-align: top;\n",
       "    }\n",
       "\n",
       "    .dataframe thead th {\n",
       "        text-align: right;\n",
       "    }\n",
       "</style>\n",
       "<table border=\"1\" class=\"dataframe\">\n",
       "  <thead>\n",
       "    <tr style=\"text-align: right;\">\n",
       "      <th></th>\n",
       "      <th>MS SubClass</th>\n",
       "      <th>MS Zoning</th>\n",
       "      <th>Lot Frontage</th>\n",
       "      <th>Lot Area</th>\n",
       "      <th>Street</th>\n",
       "      <th>Lot Shape</th>\n",
       "      <th>Land Contour</th>\n",
       "      <th>Utilities</th>\n",
       "      <th>Lot Config</th>\n",
       "      <th>Land Slope</th>\n",
       "      <th>...</th>\n",
       "      <th>Wood Deck SF</th>\n",
       "      <th>Open Porch SF</th>\n",
       "      <th>Enclosed Porch</th>\n",
       "      <th>3Ssn Porch</th>\n",
       "      <th>Screen Porch</th>\n",
       "      <th>Pool Area</th>\n",
       "      <th>Misc Val</th>\n",
       "      <th>Mo Sold</th>\n",
       "      <th>Yr Sold</th>\n",
       "      <th>Sale Type</th>\n",
       "    </tr>\n",
       "    <tr>\n",
       "      <th>Id</th>\n",
       "      <th></th>\n",
       "      <th></th>\n",
       "      <th></th>\n",
       "      <th></th>\n",
       "      <th></th>\n",
       "      <th></th>\n",
       "      <th></th>\n",
       "      <th></th>\n",
       "      <th></th>\n",
       "      <th></th>\n",
       "      <th></th>\n",
       "      <th></th>\n",
       "      <th></th>\n",
       "      <th></th>\n",
       "      <th></th>\n",
       "      <th></th>\n",
       "      <th></th>\n",
       "      <th></th>\n",
       "      <th></th>\n",
       "      <th></th>\n",
       "      <th></th>\n",
       "    </tr>\n",
       "  </thead>\n",
       "  <tbody>\n",
       "    <tr>\n",
       "      <th>2658</th>\n",
       "      <td>190</td>\n",
       "      <td>RM</td>\n",
       "      <td>69.0</td>\n",
       "      <td>9142</td>\n",
       "      <td>Pave</td>\n",
       "      <td>Reg</td>\n",
       "      <td>Lvl</td>\n",
       "      <td>AllPub</td>\n",
       "      <td>Inside</td>\n",
       "      <td>Gtl</td>\n",
       "      <td>...</td>\n",
       "      <td>0</td>\n",
       "      <td>60</td>\n",
       "      <td>112</td>\n",
       "      <td>0</td>\n",
       "      <td>0</td>\n",
       "      <td>0</td>\n",
       "      <td>0</td>\n",
       "      <td>4</td>\n",
       "      <td>2006</td>\n",
       "      <td>WD</td>\n",
       "    </tr>\n",
       "    <tr>\n",
       "      <th>2718</th>\n",
       "      <td>90</td>\n",
       "      <td>RL</td>\n",
       "      <td>NaN</td>\n",
       "      <td>9662</td>\n",
       "      <td>Pave</td>\n",
       "      <td>IR1</td>\n",
       "      <td>Lvl</td>\n",
       "      <td>AllPub</td>\n",
       "      <td>Inside</td>\n",
       "      <td>Gtl</td>\n",
       "      <td>...</td>\n",
       "      <td>170</td>\n",
       "      <td>0</td>\n",
       "      <td>0</td>\n",
       "      <td>0</td>\n",
       "      <td>0</td>\n",
       "      <td>0</td>\n",
       "      <td>0</td>\n",
       "      <td>8</td>\n",
       "      <td>2006</td>\n",
       "      <td>WD</td>\n",
       "    </tr>\n",
       "    <tr>\n",
       "      <th>2414</th>\n",
       "      <td>60</td>\n",
       "      <td>RL</td>\n",
       "      <td>58.0</td>\n",
       "      <td>17104</td>\n",
       "      <td>Pave</td>\n",
       "      <td>IR1</td>\n",
       "      <td>Lvl</td>\n",
       "      <td>AllPub</td>\n",
       "      <td>Inside</td>\n",
       "      <td>Gtl</td>\n",
       "      <td>...</td>\n",
       "      <td>100</td>\n",
       "      <td>24</td>\n",
       "      <td>0</td>\n",
       "      <td>0</td>\n",
       "      <td>0</td>\n",
       "      <td>0</td>\n",
       "      <td>0</td>\n",
       "      <td>9</td>\n",
       "      <td>2006</td>\n",
       "      <td>New</td>\n",
       "    </tr>\n",
       "    <tr>\n",
       "      <th>1989</th>\n",
       "      <td>30</td>\n",
       "      <td>RM</td>\n",
       "      <td>60.0</td>\n",
       "      <td>8520</td>\n",
       "      <td>Pave</td>\n",
       "      <td>Reg</td>\n",
       "      <td>Lvl</td>\n",
       "      <td>AllPub</td>\n",
       "      <td>Inside</td>\n",
       "      <td>Gtl</td>\n",
       "      <td>...</td>\n",
       "      <td>0</td>\n",
       "      <td>0</td>\n",
       "      <td>184</td>\n",
       "      <td>0</td>\n",
       "      <td>0</td>\n",
       "      <td>0</td>\n",
       "      <td>0</td>\n",
       "      <td>7</td>\n",
       "      <td>2007</td>\n",
       "      <td>WD</td>\n",
       "    </tr>\n",
       "    <tr>\n",
       "      <th>625</th>\n",
       "      <td>20</td>\n",
       "      <td>RL</td>\n",
       "      <td>NaN</td>\n",
       "      <td>9500</td>\n",
       "      <td>Pave</td>\n",
       "      <td>IR1</td>\n",
       "      <td>Lvl</td>\n",
       "      <td>AllPub</td>\n",
       "      <td>Inside</td>\n",
       "      <td>Gtl</td>\n",
       "      <td>...</td>\n",
       "      <td>0</td>\n",
       "      <td>76</td>\n",
       "      <td>0</td>\n",
       "      <td>0</td>\n",
       "      <td>185</td>\n",
       "      <td>0</td>\n",
       "      <td>0</td>\n",
       "      <td>7</td>\n",
       "      <td>2009</td>\n",
       "      <td>WD</td>\n",
       "    </tr>\n",
       "  </tbody>\n",
       "</table>\n",
       "<p>5 rows × 73 columns</p>\n",
       "</div>"
      ],
      "text/plain": [
       "      MS SubClass MS Zoning  Lot Frontage  Lot Area Street Lot Shape  \\\n",
       "Id                                                                     \n",
       "2658          190        RM          69.0      9142   Pave       Reg   \n",
       "2718           90        RL           NaN      9662   Pave       IR1   \n",
       "2414           60        RL          58.0     17104   Pave       IR1   \n",
       "1989           30        RM          60.0      8520   Pave       Reg   \n",
       "625            20        RL           NaN      9500   Pave       IR1   \n",
       "\n",
       "     Land Contour Utilities Lot Config Land Slope  ... Wood Deck SF  \\\n",
       "Id                                                 ...                \n",
       "2658          Lvl    AllPub     Inside        Gtl  ...            0   \n",
       "2718          Lvl    AllPub     Inside        Gtl  ...          170   \n",
       "2414          Lvl    AllPub     Inside        Gtl  ...          100   \n",
       "1989          Lvl    AllPub     Inside        Gtl  ...            0   \n",
       "625           Lvl    AllPub     Inside        Gtl  ...            0   \n",
       "\n",
       "     Open Porch SF Enclosed Porch 3Ssn Porch Screen Porch  Pool Area  \\\n",
       "Id                                                                     \n",
       "2658            60            112          0            0          0   \n",
       "2718             0              0          0            0          0   \n",
       "2414            24              0          0            0          0   \n",
       "1989             0            184          0            0          0   \n",
       "625             76              0          0          185          0   \n",
       "\n",
       "      Misc Val  Mo Sold  Yr Sold Sale Type  \n",
       "Id                                          \n",
       "2658         0        4     2006       WD   \n",
       "2718         0        8     2006       WD   \n",
       "2414         0        9     2006       New  \n",
       "1989         0        7     2007       WD   \n",
       "625          0        7     2009       WD   \n",
       "\n",
       "[5 rows x 73 columns]"
      ]
     },
     "execution_count": 266,
     "metadata": {},
     "output_type": "execute_result"
    }
   ],
   "source": [
    "test.head()"
   ]
  },
  {
   "cell_type": "markdown",
   "id": "fec6863d",
   "metadata": {},
   "source": [
    "### Renaming test data columns "
   ]
  },
  {
   "cell_type": "code",
   "execution_count": 267,
   "id": "b74d08c0",
   "metadata": {},
   "outputs": [
    {
     "data": {
      "text/plain": [
       "Index(['mssubclass', 'mszoning', 'lotfrontage', 'lotarea', 'street',\n",
       "       'lotshape', 'landcontour', 'utilities', 'lotconfig', 'landslope',\n",
       "       'neighborhood', 'condition1', 'condition2', 'bldgtype', 'housestyle',\n",
       "       'overallqual', 'overallcond', 'yearbuilt', 'yearremod/add', 'roofstyle',\n",
       "       'roofmatl', 'exterior1st', 'exterior2nd', 'masvnrtype', 'masvnrarea',\n",
       "       'exterqual', 'extercond', 'foundation', 'bsmtqual', 'bsmtcond',\n",
       "       'bsmtexposure', 'bsmtfintype1', 'bsmtfinsf1', 'bsmtfintype2',\n",
       "       'bsmtfinsf2', 'bsmtunfsf', 'totalbsmtsf', 'heating', 'heatingqc',\n",
       "       'centralair', 'electrical', '1stflrsf', '2ndflrsf', 'lowqualfinsf',\n",
       "       'grlivarea', 'bsmtfullbath', 'bsmthalfbath', 'fullbath', 'halfbath',\n",
       "       'bedroomabvgr', 'kitchenabvgr', 'kitchenqual', 'totrmsabvgrd',\n",
       "       'functional', 'fireplaces', 'garagetype', 'garageyrblt', 'garagefinish',\n",
       "       'garagecars', 'garagearea', 'garagequal', 'garagecond', 'paveddrive',\n",
       "       'wooddecksf', 'openporchsf', 'enclosedporch', '3ssnporch',\n",
       "       'screenporch', 'poolarea', 'miscval', 'mosold', 'yrsold', 'saletype'],\n",
       "      dtype='object')"
      ]
     },
     "execution_count": 267,
     "metadata": {},
     "output_type": "execute_result"
    }
   ],
   "source": [
    "test_col = test.columns\n",
    "test_rename_dict = {}\n",
    "for col in test_col: \n",
    "    test_rename_dict[col] = col.lower().replace(' ', \"\")\n",
    "\n",
    "test.rename(columns = test_rename_dict, inplace = True)\n",
    "test.columns"
   ]
  },
  {
   "cell_type": "code",
   "execution_count": 268,
   "id": "cc3e6d0c",
   "metadata": {},
   "outputs": [],
   "source": [
    "# Mapping qual variables to qual testing\n",
    "\n",
    "test['exterq'] = test.exterqual.map(qual)\n",
    "test = test.drop('exterqual', axis = 1)\n",
    "test['heatingq'] = test.heatingqc.map(qual)\n",
    "test = test.drop('heatingqc', axis = 1)\n",
    "test['bsmtq'] = test.bsmtqual.map(qual)\n",
    "test = test.drop('bsmtqual', axis = 1)\n",
    "test['kitchenq'] = test.kitchenqual.map(qual)\n",
    "test = test.drop('kitchenqual', axis = 1)"
   ]
  },
  {
   "cell_type": "code",
   "execution_count": 269,
   "id": "3ea4f76a",
   "metadata": {},
   "outputs": [
    {
     "data": {
      "text/plain": [
       "20"
      ]
     },
     "execution_count": 269,
     "metadata": {},
     "output_type": "execute_result"
    }
   ],
   "source": [
    "interesttest = [x for x in interest if x != 'saleprice']\n",
    "len(interesttest)"
   ]
  },
  {
   "cell_type": "code",
   "execution_count": 270,
   "id": "7175eaf3",
   "metadata": {},
   "outputs": [
    {
     "data": {
      "text/plain": [
       "20"
      ]
     },
     "execution_count": 270,
     "metadata": {},
     "output_type": "execute_result"
    }
   ],
   "source": [
    "len(interesttest)"
   ]
  },
  {
   "cell_type": "code",
   "execution_count": 271,
   "id": "19e11860",
   "metadata": {},
   "outputs": [],
   "source": [
    "# Create df for test csv\n",
    "test_interest_only = test[interesttest]"
   ]
  },
  {
   "cell_type": "code",
   "execution_count": 272,
   "id": "b2e0fd0d",
   "metadata": {},
   "outputs": [
    {
     "name": "stdout",
     "output_type": "stream",
     "text": [
      "<class 'pandas.core.frame.DataFrame'>\n",
      "Int64Index: 878 entries, 2658 to 1939\n",
      "Data columns (total 20 columns):\n",
      " #   Column        Non-Null Count  Dtype  \n",
      "---  ------        --------------  -----  \n",
      " 0   garagefinish  833 non-null    object \n",
      " 1   masvnrtype    877 non-null    object \n",
      " 2   paveddrive    878 non-null    object \n",
      " 3   lotshape      878 non-null    object \n",
      " 4   overallqual   878 non-null    int64  \n",
      " 5   masvnrarea    877 non-null    float64\n",
      " 6   poolarea      878 non-null    int64  \n",
      " 7   fireplaces    878 non-null    int64  \n",
      " 8   grlivarea     878 non-null    int64  \n",
      " 9   screenporch   878 non-null    int64  \n",
      " 10  lotarea       878 non-null    int64  \n",
      " 11  3ssnporch     878 non-null    int64  \n",
      " 12  bsmtfullbath  878 non-null    int64  \n",
      " 13  totalbsmtsf   878 non-null    int64  \n",
      " 14  garagearea    878 non-null    int64  \n",
      " 15  yearbuilt     878 non-null    int64  \n",
      " 16  exterq        878 non-null    int64  \n",
      " 17  heatingq      878 non-null    int64  \n",
      " 18  bsmtq         853 non-null    float64\n",
      " 19  kitchenq      878 non-null    int64  \n",
      "dtypes: float64(2), int64(14), object(4)\n",
      "memory usage: 144.0+ KB\n"
     ]
    }
   ],
   "source": [
    "# Structure the dataset\n",
    "test_interest_only.info()"
   ]
  },
  {
   "cell_type": "code",
   "execution_count": 273,
   "id": "7160f32b",
   "metadata": {},
   "outputs": [
    {
     "name": "stdout",
     "output_type": "stream",
     "text": [
      "0    Unf\n",
      "dtype: object\n",
      "0    None\n",
      "dtype: object\n"
     ]
    }
   ],
   "source": [
    "# Filling in the missing variables\n",
    "\n",
    "print(test_interest_only.garagefinish.mode())\n",
    "print(test_interest_only.masvnrtype.mode())"
   ]
  },
  {
   "cell_type": "code",
   "execution_count": 274,
   "id": "e8f7f5e9",
   "metadata": {},
   "outputs": [
    {
     "name": "stderr",
     "output_type": "stream",
     "text": [
      "C:\\Users\\singh\\anaconda3\\lib\\site-packages\\pandas\\core\\series.py:4463: SettingWithCopyWarning: \n",
      "A value is trying to be set on a copy of a slice from a DataFrame\n",
      "\n",
      "See the caveats in the documentation: https://pandas.pydata.org/pandas-docs/stable/user_guide/indexing.html#returning-a-view-versus-a-copy\n",
      "  return super().fillna(\n"
     ]
    }
   ],
   "source": [
    "# Replacing all NaN with mode\n",
    "\n",
    "test_interest_only['garagefinish'].fillna('Unf', inplace = True)\n",
    "test_interest_only['masvnrtype'].fillna('None', inplace = True)"
   ]
  },
  {
   "cell_type": "code",
   "execution_count": 275,
   "id": "78b4fbef",
   "metadata": {},
   "outputs": [
    {
     "name": "stdout",
     "output_type": "stream",
     "text": [
      "<class 'pandas.core.frame.DataFrame'>\n",
      "Int64Index: 878 entries, 2658 to 1939\n",
      "Data columns (total 20 columns):\n",
      " #   Column        Non-Null Count  Dtype  \n",
      "---  ------        --------------  -----  \n",
      " 0   garagefinish  878 non-null    object \n",
      " 1   masvnrtype    878 non-null    object \n",
      " 2   paveddrive    878 non-null    object \n",
      " 3   lotshape      878 non-null    object \n",
      " 4   overallqual   878 non-null    int64  \n",
      " 5   masvnrarea    877 non-null    float64\n",
      " 6   poolarea      878 non-null    int64  \n",
      " 7   fireplaces    878 non-null    int64  \n",
      " 8   grlivarea     878 non-null    int64  \n",
      " 9   screenporch   878 non-null    int64  \n",
      " 10  lotarea       878 non-null    int64  \n",
      " 11  3ssnporch     878 non-null    int64  \n",
      " 12  bsmtfullbath  878 non-null    int64  \n",
      " 13  totalbsmtsf   878 non-null    int64  \n",
      " 14  garagearea    878 non-null    int64  \n",
      " 15  yearbuilt     878 non-null    int64  \n",
      " 16  exterq        878 non-null    int64  \n",
      " 17  heatingq      878 non-null    int64  \n",
      " 18  bsmtq         853 non-null    float64\n",
      " 19  kitchenq      878 non-null    int64  \n",
      "dtypes: float64(2), int64(14), object(4)\n",
      "memory usage: 144.0+ KB\n"
     ]
    }
   ],
   "source": [
    "test_interest_only.info()"
   ]
  },
  {
   "cell_type": "code",
   "execution_count": 276,
   "id": "20e063b4",
   "metadata": {},
   "outputs": [],
   "source": [
    "# Creating dummy variables for categorical variables\n",
    "test_interest_only = pd.get_dummies(test_interest_only, drop_first = True)"
   ]
  },
  {
   "cell_type": "code",
   "execution_count": 277,
   "id": "4a89a3f0",
   "metadata": {},
   "outputs": [
    {
     "name": "stdout",
     "output_type": "stream",
     "text": [
      "<class 'pandas.core.frame.DataFrame'>\n",
      "Int64Index: 878 entries, 2658 to 1939\n",
      "Data columns (total 27 columns):\n",
      " #   Column              Non-Null Count  Dtype  \n",
      "---  ------              --------------  -----  \n",
      " 0   overallqual         878 non-null    int64  \n",
      " 1   masvnrarea          877 non-null    float64\n",
      " 2   poolarea            878 non-null    int64  \n",
      " 3   fireplaces          878 non-null    int64  \n",
      " 4   grlivarea           878 non-null    int64  \n",
      " 5   screenporch         878 non-null    int64  \n",
      " 6   lotarea             878 non-null    int64  \n",
      " 7   3ssnporch           878 non-null    int64  \n",
      " 8   bsmtfullbath        878 non-null    int64  \n",
      " 9   totalbsmtsf         878 non-null    int64  \n",
      " 10  garagearea          878 non-null    int64  \n",
      " 11  yearbuilt           878 non-null    int64  \n",
      " 12  exterq              878 non-null    int64  \n",
      " 13  heatingq            878 non-null    int64  \n",
      " 14  bsmtq               853 non-null    float64\n",
      " 15  kitchenq            878 non-null    int64  \n",
      " 16  garagefinish_RFn    878 non-null    uint8  \n",
      " 17  garagefinish_Unf    878 non-null    uint8  \n",
      " 18  masvnrtype_BrkFace  878 non-null    uint8  \n",
      " 19  masvnrtype_CBlock   878 non-null    uint8  \n",
      " 20  masvnrtype_None     878 non-null    uint8  \n",
      " 21  masvnrtype_Stone    878 non-null    uint8  \n",
      " 22  paveddrive_P        878 non-null    uint8  \n",
      " 23  paveddrive_Y        878 non-null    uint8  \n",
      " 24  lotshape_IR2        878 non-null    uint8  \n",
      " 25  lotshape_IR3        878 non-null    uint8  \n",
      " 26  lotshape_Reg        878 non-null    uint8  \n",
      "dtypes: float64(2), int64(14), uint8(11)\n",
      "memory usage: 126.0 KB\n"
     ]
    }
   ],
   "source": [
    "test_interest_only.info()"
   ]
  },
  {
   "cell_type": "code",
   "execution_count": 278,
   "id": "b48dc1d7",
   "metadata": {},
   "outputs": [
    {
     "name": "stdout",
     "output_type": "stream",
     "text": [
      "0.0\n"
     ]
    }
   ],
   "source": [
    "test_interest_only.masvnrarea.hist(bins=20, figsize = (7,7))\n",
    "print(test_interest_only.masvnrarea.median())\n",
    "test_interest_only['masvnrarea'].fillna(test_interest_only.masvnrarea.median(), inplace = True)"
   ]
  },
  {
   "cell_type": "code",
   "execution_count": 279,
   "id": "e019ac36",
   "metadata": {},
   "outputs": [
    {
     "name": "stdout",
     "output_type": "stream",
     "text": [
      "<class 'pandas.core.frame.DataFrame'>\n",
      "Int64Index: 878 entries, 2658 to 1939\n",
      "Data columns (total 27 columns):\n",
      " #   Column              Non-Null Count  Dtype  \n",
      "---  ------              --------------  -----  \n",
      " 0   overallqual         878 non-null    int64  \n",
      " 1   masvnrarea          878 non-null    float64\n",
      " 2   poolarea            878 non-null    int64  \n",
      " 3   fireplaces          878 non-null    int64  \n",
      " 4   grlivarea           878 non-null    int64  \n",
      " 5   screenporch         878 non-null    int64  \n",
      " 6   lotarea             878 non-null    int64  \n",
      " 7   3ssnporch           878 non-null    int64  \n",
      " 8   bsmtfullbath        878 non-null    int64  \n",
      " 9   totalbsmtsf         878 non-null    int64  \n",
      " 10  garagearea          878 non-null    int64  \n",
      " 11  yearbuilt           878 non-null    int64  \n",
      " 12  exterq              878 non-null    int64  \n",
      " 13  heatingq            878 non-null    int64  \n",
      " 14  bsmtq               853 non-null    float64\n",
      " 15  kitchenq            878 non-null    int64  \n",
      " 16  garagefinish_RFn    878 non-null    uint8  \n",
      " 17  garagefinish_Unf    878 non-null    uint8  \n",
      " 18  masvnrtype_BrkFace  878 non-null    uint8  \n",
      " 19  masvnrtype_CBlock   878 non-null    uint8  \n",
      " 20  masvnrtype_None     878 non-null    uint8  \n",
      " 21  masvnrtype_Stone    878 non-null    uint8  \n",
      " 22  paveddrive_P        878 non-null    uint8  \n",
      " 23  paveddrive_Y        878 non-null    uint8  \n",
      " 24  lotshape_IR2        878 non-null    uint8  \n",
      " 25  lotshape_IR3        878 non-null    uint8  \n",
      " 26  lotshape_Reg        878 non-null    uint8  \n",
      "dtypes: float64(2), int64(14), uint8(11)\n",
      "memory usage: 126.0 KB\n"
     ]
    }
   ],
   "source": [
    "test_interest_only.info()"
   ]
  },
  {
   "cell_type": "code",
   "execution_count": 280,
   "id": "d8e850b1",
   "metadata": {},
   "outputs": [
    {
     "name": "stdout",
     "output_type": "stream",
     "text": [
      "ShapiroResult(statistic=0.820310115814209, pvalue=8.099883567109398e-30)\n",
      "4.0\n"
     ]
    }
   ],
   "source": [
    "test_interest_only.bsmtq.hist(bins=20, figsize = (7,7))\n",
    "print(stats.shapiro(test_interest_only.bsmtq.dropna()))\n",
    "\n",
    "print(test_interest_only.bsmtq.median())\n",
    "test_interest_only['bsmtq'].fillna(test_interest_only.bsmtq.median(), inplace = True)"
   ]
  },
  {
   "cell_type": "code",
   "execution_count": 281,
   "id": "bcc427da",
   "metadata": {},
   "outputs": [],
   "source": [
    "test_interest_only = test_interest_only.drop('masvnrtype_CBlock', axis = 1)"
   ]
  },
  {
   "cell_type": "code",
   "execution_count": 282,
   "id": "05be1f1f",
   "metadata": {},
   "outputs": [
    {
     "name": "stdout",
     "output_type": "stream",
     "text": [
      "(878, 26)\n",
      "<class 'pandas.core.frame.DataFrame'>\n",
      "Int64Index: 878 entries, 2658 to 1939\n",
      "Data columns (total 26 columns):\n",
      " #   Column              Non-Null Count  Dtype  \n",
      "---  ------              --------------  -----  \n",
      " 0   overallqual         878 non-null    int64  \n",
      " 1   masvnrarea          878 non-null    float64\n",
      " 2   poolarea            878 non-null    int64  \n",
      " 3   fireplaces          878 non-null    int64  \n",
      " 4   grlivarea           878 non-null    int64  \n",
      " 5   screenporch         878 non-null    int64  \n",
      " 6   lotarea             878 non-null    int64  \n",
      " 7   3ssnporch           878 non-null    int64  \n",
      " 8   bsmtfullbath        878 non-null    int64  \n",
      " 9   totalbsmtsf         878 non-null    int64  \n",
      " 10  garagearea          878 non-null    int64  \n",
      " 11  yearbuilt           878 non-null    int64  \n",
      " 12  exterq              878 non-null    int64  \n",
      " 13  heatingq            878 non-null    int64  \n",
      " 14  bsmtq               878 non-null    float64\n",
      " 15  kitchenq            878 non-null    int64  \n",
      " 16  garagefinish_RFn    878 non-null    uint8  \n",
      " 17  garagefinish_Unf    878 non-null    uint8  \n",
      " 18  masvnrtype_BrkFace  878 non-null    uint8  \n",
      " 19  masvnrtype_None     878 non-null    uint8  \n",
      " 20  masvnrtype_Stone    878 non-null    uint8  \n",
      " 21  paveddrive_P        878 non-null    uint8  \n",
      " 22  paveddrive_Y        878 non-null    uint8  \n",
      " 23  lotshape_IR2        878 non-null    uint8  \n",
      " 24  lotshape_IR3        878 non-null    uint8  \n",
      " 25  lotshape_Reg        878 non-null    uint8  \n",
      "dtypes: float64(2), int64(14), uint8(10)\n",
      "memory usage: 125.2 KB\n",
      "None\n"
     ]
    }
   ],
   "source": [
    "# Rename the df\n",
    "\n",
    "X_test_test = test_interest_only\n",
    "\n",
    "print(test_interest_only.shape)\n",
    "print(test_interest_only.info())"
   ]
  },
  {
   "cell_type": "code",
   "execution_count": 283,
   "id": "515696d7",
   "metadata": {},
   "outputs": [
    {
     "data": {
      "text/plain": [
       "(878, 26)"
      ]
     },
     "execution_count": 283,
     "metadata": {},
     "output_type": "execute_result"
    }
   ],
   "source": [
    "# Scaling the variables to same scale\n",
    "\n",
    "ss = StandardScaler()\n",
    "ss.fit(X_test_test)\n",
    "X_test_test_sc = ss.transform(X_test_test)\n",
    "\n",
    "X_test_test_sc.shape"
   ]
  },
  {
   "cell_type": "code",
   "execution_count": 284,
   "id": "11901b8e",
   "metadata": {},
   "outputs": [
    {
     "data": {
      "text/plain": [
       "array([132367.2605764 , 178685.21262851, 224146.22440483, 117852.56647314,\n",
       "       207976.37026988,  84999.87051105,  92602.35254233, 143036.48844852,\n",
       "       205202.25959088, 155630.3782549 , 174418.34748393, 119976.58135032,\n",
       "       156676.02455986, 282816.4207494 , 155273.02220628, 131672.61801828,\n",
       "       166181.2433412 , 121208.68549364, 192906.93712419, 210235.31527285,\n",
       "       149776.85798926, 131639.95523091, 219701.66476004, 178009.19522515,\n",
       "       196552.95265335, 101902.9679044 , 130714.51598859, 133462.85831331,\n",
       "       152376.550647  ,  40733.95458139,  98091.6532177 ,  98874.06485384,\n",
       "       243842.06057592, 154112.750672  , 236191.56104789, 198161.03127907,\n",
       "       100252.34170213,  77913.46286101, 125478.78709803, 207185.02050147,\n",
       "       179082.48670838, 229709.30764497, 153954.80438582, 183575.15473965,\n",
       "       249857.7967758 ,  94286.45968369, 237581.075513  , 115966.41895342,\n",
       "       139119.83921253, 120267.92450871, 109506.31571241, 209980.17256992,\n",
       "       260027.19279134, 131905.79870139, 118205.1571766 , 149621.97925284,\n",
       "       172633.11523104, 143976.38390788, 157632.42075184, 248972.56097537,\n",
       "       302112.69456379, 124437.51917825, 151537.94110931, 180373.17939353,\n",
       "       186356.24704937, 314797.0894498 ,  78092.07766628, 217935.82589644,\n",
       "        69504.62628506, 176342.10859064,  71797.27174254, 265696.69894566,\n",
       "       200427.39792781, 194335.60834243, 138461.1031569 , 198452.55183237,\n",
       "       144269.42874839, 129074.24318019,  98703.51325123, 349633.99159189,\n",
       "       210819.87319952, 141385.70973794, 134800.77398107, 131313.22851995,\n",
       "       191508.02113719, 327645.20466938, 115963.97198618, 169959.50943455,\n",
       "       244317.6894262 , 141115.60509234, 133695.09070169,  92271.09110241,\n",
       "       117479.5168737 , 231211.41462437, 111937.44702131, 147595.21162817,\n",
       "       220975.0404129 , 242341.64795883, 207537.48578609, 238556.51051486,\n",
       "       316611.50158587, 187083.87124457, 114245.68900491, 425365.80572289,\n",
       "       159520.33042552,  99065.5142092 , 177943.44786741, 191292.4152658 ,\n",
       "       171664.47467587, 126782.84304384, 175935.96381822, 247211.30412862,\n",
       "       120195.39212452, 126918.71392255, 169651.68730967, 443744.24790691,\n",
       "       165153.1530149 , 115849.85459812, 337874.38969671, 177016.46415499,\n",
       "       382067.60990299, 310709.71589375, 284368.19450648, 165035.51514883,\n",
       "       159356.82088974, 341750.4371851 , 105701.31804697, 130844.16743823,\n",
       "       125594.03010035, 273716.0999337 , 126928.93853891, 199865.76948362,\n",
       "       149062.36538221, 166735.35374893, 175986.18535753, 249815.07447775,\n",
       "       206878.0368188 , 195681.92955563, 217934.55440989, 128168.4865754 ,\n",
       "       178162.97607046, 134464.23356776, 132893.12611574, 182611.0181031 ,\n",
       "       100633.75861952, 147011.8134639 , 153899.00126286, 153658.01514547,\n",
       "        56236.87333026, 215856.69064967, 214016.42029917, 161424.76338349,\n",
       "       112947.32939438, 117732.73597623, 121898.71628606, 119304.75859393,\n",
       "        82579.08780989, 148647.85585596, 270707.05710675, 298630.71118762,\n",
       "       209574.84248931, 114284.04921713, 105651.62655627, 425913.51027326,\n",
       "       291556.5808259 , 249494.66822921, 179208.94528596, 185008.20237904,\n",
       "       263518.38251104, 212717.31719196, 358050.4658533 , 139511.35284221,\n",
       "       174278.15282836, 182168.6344538 , 229501.93544482, 183938.84786745,\n",
       "       101949.58035949, 152798.09359961,  84860.44750827, 129048.34344284,\n",
       "       141362.45628379, 187548.7114705 , 248108.66667777, 206779.61110351,\n",
       "       154477.03862258, 115160.70930555, 226821.0920388 , 203281.28141457,\n",
       "       124929.03836587,  64706.78574668, 205035.79631674, 143242.46005555,\n",
       "       114878.22614236, 105826.91235655, 199219.70734521, 176045.53943573,\n",
       "       285539.62370793, 133715.89511504, 121677.31278271, 128417.84119829,\n",
       "       330279.31063386, 173863.75669539, 119464.49933617, 192639.86006313,\n",
       "       149469.38853817,  92739.52748397, 154579.66835887, 139130.8322697 ,\n",
       "       235957.04237134, 238075.40776231, 192444.66212229, 195161.41656471,\n",
       "       103353.36257966, 307212.49328117, 272336.54121707, 211428.7076891 ,\n",
       "       222919.67953742, 151512.78315314, 119661.86487291, 134325.78055637,\n",
       "       207470.45447282, 156183.35459036, 176413.90019481, 207480.77928855,\n",
       "       149511.5034862 , 118184.55023314, 265739.60365811, 221147.60441725,\n",
       "       141632.72135543, 287542.29693624, 149419.87283812,  88757.85476521,\n",
       "       162635.194599  ,  89807.14762749, 222869.34426206, 173948.08131446,\n",
       "        87054.75837161, 413630.42873279, 332743.0447463 , 215285.13691503,\n",
       "       249933.64294443, 164498.02975741, 290685.10464698, 263234.76277181,\n",
       "       326821.42503791, 268415.95213167, 113306.79121957, 129352.07840105,\n",
       "       180147.4033415 , 311494.20938276, 290807.86016985, 159703.39955029,\n",
       "       245782.92486445, 242199.8022653 , 196159.83637807, 108557.44912566,\n",
       "        78800.01022187, 404698.35962307, 236500.09242497, 249366.07431329,\n",
       "       219539.79543531, 135152.79336417, 120896.63379538, 195586.61069854,\n",
       "       181996.94760306, 158328.51561955, 128532.67729372, 226264.62326562,\n",
       "       152687.48635046, 147993.14572141, 193773.01070131, 204497.63308854,\n",
       "       177303.2093408 , 310947.8905859 , 104221.17641478, 152954.56432308,\n",
       "       175710.36209574, 191934.24555071, 109677.89317634, 107502.73890606,\n",
       "       253943.25638249, 118558.79338626, 107539.89557555,  97117.94027874,\n",
       "       139158.96494983, 247465.15366109, 192427.86869035, 115371.82848026,\n",
       "        94354.27704004, 132256.47001703,  97547.61277267, 146102.866657  ,\n",
       "        91569.69457707, 107841.62469992, 157937.23665964, 176342.10859064,\n",
       "       222006.78672547, 258545.44574365, 259742.29909829, 155810.73306494,\n",
       "       177613.29930928, 330433.59636438, 107175.37054823, 141997.38562145,\n",
       "        73428.07645933,  95678.41658125, 301479.1455843 , 209896.57358328,\n",
       "       146358.9663533 , 111427.9400494 , 244096.44848045, 232178.15513537,\n",
       "       247825.24992345, 273574.42421193, 139524.01159532, 333602.6267289 ,\n",
       "       351766.81215727, 269087.74413862, 250598.59105079, 143548.78086051,\n",
       "        75007.60457354, 132297.40176193, 147184.24884664, 254055.17962572,\n",
       "       106030.32943026, 129308.70353867, 143354.62396346, 184761.7885887 ,\n",
       "       230096.46334348, 137175.69424025, 176342.10438897, 194354.39307205,\n",
       "       170993.25270694, 235797.10855522,  82318.84261435, 154065.7689524 ,\n",
       "        94599.39855743, 104661.41603427, 130335.63482328, 206095.17844426,\n",
       "       197930.56826285,  96791.70611495, 140639.14238245, 173710.12204394,\n",
       "       272809.74101888, 252401.21556554, 181790.42512489,  91215.67633905,\n",
       "       230717.92765588, 132375.28231538,  94379.51901066, 147590.82978204,\n",
       "       123674.48212734, 284347.79000641, 122467.9726985 , 273037.37812061,\n",
       "       160414.51782533, 230734.98347132, 257488.60562093,  92504.63068185,\n",
       "       150837.53637676, 133696.80073777,  89962.22796077, 166069.06373898,\n",
       "       219004.09158434, 295040.64234488, 227868.8575683 , 212758.19690079,\n",
       "       228843.90454214,  98697.6046726 , 217598.86354765, 121603.12115747,\n",
       "       164156.18075201, 365851.87753162, 126088.64751013, 293755.50881808,\n",
       "       180258.04668164, 291536.81578983, 232099.93293796, 158540.64577284,\n",
       "       158235.70101519, 153777.33922088, 343387.24977961, 301758.78557644,\n",
       "       237277.31952356, 189518.27627956, 164773.79236746, 195046.73576984,\n",
       "       122036.21867013, 122159.55666142, 110873.88340349, 333412.26771388,\n",
       "       177331.84433572, 135280.29847692, 189861.33647035,  76411.84902115,\n",
       "       200082.1681051 , 184082.22818274, 131114.63938376,  87380.04003514,\n",
       "       205881.40003959, 234009.28932013, 124821.11683155, 280975.58297483,\n",
       "       129194.36783886, 105214.75294446, 145672.05420733, 241033.39915057,\n",
       "       283754.86496604, 128673.07452282, 101661.06428127, 130086.333991  ,\n",
       "       234360.59541557, 148189.35545271, 271137.51191783, 327118.36216378,\n",
       "       127488.971599  , 231148.15174495,  97630.81598731, 162978.08473462,\n",
       "       268240.02578375, 130384.97600114, 240859.31965073, 120385.25893876,\n",
       "       231936.90780786, 358128.3598983 , 236393.49360462, 220249.59314452,\n",
       "       138766.64341285, 293580.68186147, 121975.13720934, 132898.67994884,\n",
       "       119896.02807713, 221167.41182049, 104010.27446863, 291402.52738333,\n",
       "       218834.60510759, 177117.38330334, 180411.85676049, 170336.02391621,\n",
       "       222456.2246073 , 126136.63576087, 106010.06744911, 184886.77872866,\n",
       "       161298.21332067, 225464.27946536,  37364.11617081,  91915.83067389,\n",
       "       296669.95380301, 153075.0888777 , 246022.73866614, 277583.07124611,\n",
       "       232045.5208495 , 181415.17529582, 203465.82784933, 236390.04474632,\n",
       "       238082.1357744 , 105384.44476195, 260236.38769366, 108672.41154871,\n",
       "       172625.84653589, 113470.94737521, 140524.12922869, 483407.42707101,\n",
       "       116960.78476569, 235427.55461281, 243380.53727267, 241241.05993935,\n",
       "       136516.20930769,  95752.87836603, 145252.50825507, 229256.62802064,\n",
       "       194521.72516615,  94784.11832451, 253916.18707961, 236157.26139848,\n",
       "        93220.3356119 , 145408.99770096, 104322.40792832, 200461.25884641,\n",
       "        91136.19769746, 238318.29043169, 128558.64608627, 200571.51287675,\n",
       "       254671.36525583, 146472.05024412, 184865.6491434 , 211775.50160351,\n",
       "       228298.03838128, 140994.62986608, 149473.27691062, 215032.21773148,\n",
       "       170517.46889451, 240736.81845883, 364289.89265964, 205241.91643248,\n",
       "       103292.6126378 , 133366.5794689 , 163150.7161255 , 122428.04096207,\n",
       "       205528.77266784, 231279.64570475, 213438.73559206, 178681.81871138,\n",
       "       230675.78736328, 130974.74903788, 265663.031873  , 100931.62664708,\n",
       "       122354.13821486, 257467.980102  , 102930.7499532 , 141266.43401027,\n",
       "       122152.95728807, 142398.37928347,  33583.20006209, 220844.73587034,\n",
       "       178584.97679079, 225351.69580592, 300970.74656037, 268372.49423195,\n",
       "       101566.07708371, 127830.51786035, 162821.01671238, 115687.79145591,\n",
       "       246369.36998039, 370164.09119287, 218075.90554572, 118935.93983883,\n",
       "       125805.27047696,  30273.39297899, 121770.21423278, 215290.41806385,\n",
       "       128447.737745  , 204488.40853392, 169263.97689189, 164481.86067675,\n",
       "        76055.427711  , 234403.9075468 , 143164.84161166, 202255.67566369,\n",
       "       135211.86806542,  87959.88155945,  90892.16254151, 176602.43031035,\n",
       "       247938.0308898 , 313587.20650075, 232546.58472458, 134415.84901099,\n",
       "       120512.19686084, 285561.53899911, 138296.38564167, 303102.70617773,\n",
       "        87248.9016269 , 198719.09280574, 238244.29046185,  96106.15057369,\n",
       "       118002.23076924, 153660.67837032, 106613.40909159, 164639.51182541,\n",
       "       105402.15447504, 199076.39446004, 198112.92138807, 132876.3027021 ,\n",
       "       151311.17134221, 127628.25489868, 136110.21720643, 238387.7728096 ,\n",
       "       131600.97011758, 163224.68752411, 162406.24049602, 124083.97012227,\n",
       "        83934.43526603, 139161.98867961, 177356.90401833, 113953.07453432,\n",
       "       180037.82318858, 168102.90717115, 195022.66483199, 111074.1858153 ,\n",
       "       165613.65791138, 138882.76303615, 291212.3210469 ,  91512.86824478,\n",
       "       144587.5659816 , 188246.08202972, 149281.57742795,  98550.96444183,\n",
       "       300781.77289393, 229932.48915673, 123035.03229915,  95121.02992149,\n",
       "       127979.27613926, 130544.39423953, 344585.83978909, 217083.18549855,\n",
       "       126198.14844085, 135047.05041731, 114160.10695303, 345107.78217009,\n",
       "       128883.13913076, 218557.89812611, 118726.24211579, 187924.91039593,\n",
       "       229473.96142237,  86642.82996379, 120567.36927872, 109964.43761192,\n",
       "       164648.09355764, 121258.42521508, 119812.11518824, 334860.19926283,\n",
       "       210788.22516856, 155755.36854481, 139983.01870491,  10417.92362209,\n",
       "       206804.32550517, 280660.75672824,  65483.9255965 , 178652.45512577,\n",
       "       217316.68350038, 125771.96547524, 150984.72028146, 114830.80173301,\n",
       "       155271.62564161, 173755.26342312, 201406.52792226, 112794.03585746,\n",
       "       307878.35344473, 150495.88854274, 171931.52441148, 206715.55481999,\n",
       "       134201.08515315,  76217.83401327, 150304.87063799, 232270.16331073,\n",
       "       196032.05945266, 152260.94407095, 130833.60093548, 148864.30531969,\n",
       "       316881.27024956, 120465.72546567, 254135.03824255, 246766.51570046,\n",
       "       157448.00244786,  56400.9778141 , 253939.86748142, 204037.02175698,\n",
       "       143423.22339308, 127596.53035041, 124286.46632096, 114069.86653971,\n",
       "       110269.09184143, 159561.74274171,  65912.7217212 , 153511.29726739,\n",
       "       229289.1153799 , 162054.15581464, 270787.65022949, 189271.35486846,\n",
       "       152759.53584912, 122780.77110465, 184349.61605318, 220797.8606652 ,\n",
       "       351489.12517277, 235622.50592191, 201087.79437777, 201787.32931854,\n",
       "       157783.3314871 , 290968.15450958, 217024.83323489, 279019.11564323,\n",
       "       223087.53205058, 130630.37619902, 106586.09953273, 125936.88671487,\n",
       "       156021.61189866,  83041.64581342, 148786.82085976, 101546.31007384,\n",
       "       329276.95353606, 212065.05031919, 174539.5482834 , 241792.4407555 ,\n",
       "       203890.03263407, 141313.94369094, 208205.36951053, 364101.70187126,\n",
       "       139528.46602164, 178225.36965832,  70287.07812218, 132113.76266873,\n",
       "       257701.87539875, 124586.1453148 , 223191.4110741 , 160213.04494766,\n",
       "       208293.03319752, 314515.06202762, 109170.48859329, 262519.08691655,\n",
       "       178678.56292914, 150756.75281632, 177038.4666619 , 125901.27019037,\n",
       "       282799.12419087, 276630.71768969, 171165.85335539, 132214.07577287,\n",
       "        98808.92272695, 308793.34023149, 226670.78200041,  89846.88680876,\n",
       "       138609.93829951, 140498.08378269, 117051.96075337, 219222.58554633,\n",
       "       290994.2262447 , 248165.28820786, 197168.19877802, 250333.53587597,\n",
       "       220020.08498775, 279885.80636556, 131587.99533331, 109058.230666  ,\n",
       "       284765.23539633, 195945.08680821, 176188.72075375, 119437.01679783,\n",
       "       260253.11335727,  76599.50485404, 232747.94720615, 204463.88756329,\n",
       "       256288.64019938, 143793.34614629, 187053.36644225, 172536.59901493,\n",
       "       152852.85324314, 150110.13322799, 117770.44239191, 108762.34248162,\n",
       "       229777.66360651, 177864.55101038, 153159.85066615, 110523.65831577,\n",
       "       196284.50905066, 168271.45646674, 190308.6758123 , 209356.67285738,\n",
       "       112813.78238825, 297544.95513901, 262611.76744762, 159066.99744202,\n",
       "       149983.18714802, 154435.6449791 , 129268.22770362, 152895.94088947,\n",
       "       399681.80951047,  53334.52139039, 154479.84212081, 227969.79915365,\n",
       "       144794.27477018, 243559.87006337, 118081.50254359, 231904.9574563 ,\n",
       "       157089.59537354, 309669.11934226, 173153.87600981, 206373.58045967,\n",
       "       308904.98974412, 164499.31298928, 232580.85335724, 196650.18329945,\n",
       "       140015.41228017, 204095.69580649, 125598.00503469, 146803.00151737,\n",
       "       227552.08365905, 118970.97817147, 135524.95661625, 175801.24498964,\n",
       "       202900.5362582 , 345659.92277482,  96119.87255766, 114724.49869826,\n",
       "       113726.71241964, 157731.78182769, 272715.15266114, 134483.50789082,\n",
       "       290723.50569327, 177611.16071639, 193868.56294502, 256208.50763043,\n",
       "       193493.56772479, 293961.21054642, 169242.38966025, 239387.64327329,\n",
       "       178588.00412105, 230196.00491521, 249783.0930616 , 237462.28805617,\n",
       "       115795.74796355, 111325.88182437, 168920.35288944, 104985.34060222,\n",
       "       236612.48716225, 114454.11872315, 115073.53150683, 211435.89272978,\n",
       "       166398.30448484, 119625.1865461 , 134573.38541161, 306837.07310758,\n",
       "       157839.07413397, 157419.85605386, 234330.74712091, 219508.71915911,\n",
       "       225460.28066135,  73837.70452559, 101054.18031495, 144613.9879377 ,\n",
       "       177748.47123526, 101725.17275668, 332719.09748766, 128001.84713029,\n",
       "       203119.16454543, 218551.2605551 , 337298.66434852, 142543.60651194,\n",
       "       166897.4546059 , 130853.77461792, 192727.21075984, 134566.65286148,\n",
       "       276477.03648396, 221996.11018102, 153932.85767952, 125533.08279216,\n",
       "       290164.39341036, 140224.88313295, 126106.68336692, 119293.16518235,\n",
       "       210811.24085657, 206938.0902074 , 250595.52559347, 137787.12506445,\n",
       "       176197.47871223, 185325.67907874, 234427.73098895, 223223.50151291,\n",
       "       124067.89201968, 141036.68014433, 179627.68040453, 168970.99757911,\n",
       "       141849.38860369, 153767.60333422, 194645.77337251, 103021.09159768,\n",
       "       211052.83305042, 104128.14064083, 203114.03598011, 110111.12353324,\n",
       "       335865.81612492, 154660.24653333, 128174.34162911, 173947.75354987,\n",
       "       191246.72089483, 208874.68105084, 210357.6372149 , 251524.02237612,\n",
       "       172216.48785617, 166720.88311495, 182002.77162009, 311302.79307491,\n",
       "       215017.75452176, 177723.7651629 , 214595.31080821, 127688.26592732,\n",
       "        92095.75438546, 133077.10550355])"
      ]
     },
     "execution_count": 284,
     "metadata": {},
     "output_type": "execute_result"
    }
   ],
   "source": [
    "# Predict the Saleprice \n",
    "predtestls = ls.predict(X_test_test_sc)\n",
    "predtestls"
   ]
  },
  {
   "cell_type": "code",
   "execution_count": 285,
   "id": "7eb8eabd",
   "metadata": {},
   "outputs": [],
   "source": [
    "# Create a new column for the predicted sale price\n",
    "test_interest_only['PredSalePrice'] = predtestls"
   ]
  },
  {
   "cell_type": "code",
   "execution_count": 286,
   "id": "a54dcb1f",
   "metadata": {},
   "outputs": [],
   "source": [
    "# Exporting out the predicted saleprice values out into a csv\n",
    "test_interest_only.PredSalePrice.to_csv('../datasets/result.csv', index_label = ['Id'], header = ['PredSalePrice'])"
   ]
  },
  {
   "cell_type": "markdown",
   "id": "01564453",
   "metadata": {},
   "source": [
    "### Conclusion "
   ]
  },
  {
   "cell_type": "code",
   "execution_count": 287,
   "id": "8e2f1485",
   "metadata": {},
   "outputs": [
    {
     "data": {
      "text/plain": [
       "['garagefinish',\n",
       " 'masvnrtype',\n",
       " 'paveddrive',\n",
       " 'lotshape',\n",
       " 'overallqual',\n",
       " 'masvnrarea',\n",
       " 'poolarea',\n",
       " 'fireplaces',\n",
       " 'grlivarea',\n",
       " 'screenporch',\n",
       " 'lotarea',\n",
       " '3ssnporch',\n",
       " 'bsmtfullbath',\n",
       " 'totalbsmtsf',\n",
       " 'garagearea',\n",
       " 'yearbuilt',\n",
       " 'exterq',\n",
       " 'heatingq',\n",
       " 'bsmtq',\n",
       " 'kitchenq']"
      ]
     },
     "execution_count": 287,
     "metadata": {},
     "output_type": "execute_result"
    }
   ],
   "source": [
    "interest"
   ]
  },
  {
   "cell_type": "code",
   "execution_count": 288,
   "id": "2b407bc7",
   "metadata": {},
   "outputs": [
    {
     "data": {
      "text/html": [
       "<div>\n",
       "<style scoped>\n",
       "    .dataframe tbody tr th:only-of-type {\n",
       "        vertical-align: middle;\n",
       "    }\n",
       "\n",
       "    .dataframe tbody tr th {\n",
       "        vertical-align: top;\n",
       "    }\n",
       "\n",
       "    .dataframe thead th {\n",
       "        text-align: right;\n",
       "    }\n",
       "</style>\n",
       "<table border=\"1\" class=\"dataframe\">\n",
       "  <thead>\n",
       "    <tr style=\"text-align: right;\">\n",
       "      <th></th>\n",
       "      <th>Var</th>\n",
       "      <th>Coeff</th>\n",
       "    </tr>\n",
       "  </thead>\n",
       "  <tbody>\n",
       "    <tr>\n",
       "      <th>24</th>\n",
       "      <td>lotshape_IR3</td>\n",
       "      <td>-5813.508010</td>\n",
       "    </tr>\n",
       "    <tr>\n",
       "      <th>2</th>\n",
       "      <td>poolarea</td>\n",
       "      <td>-4530.490761</td>\n",
       "    </tr>\n",
       "    <tr>\n",
       "      <th>16</th>\n",
       "      <td>garagefinish_RFn</td>\n",
       "      <td>-3370.029946</td>\n",
       "    </tr>\n",
       "    <tr>\n",
       "      <th>17</th>\n",
       "      <td>garagefinish_Unf</td>\n",
       "      <td>-2773.940053</td>\n",
       "    </tr>\n",
       "    <tr>\n",
       "      <th>25</th>\n",
       "      <td>lotshape_Reg</td>\n",
       "      <td>-1275.607960</td>\n",
       "    </tr>\n",
       "    <tr>\n",
       "      <th>21</th>\n",
       "      <td>paveddrive_P</td>\n",
       "      <td>-352.098436</td>\n",
       "    </tr>\n",
       "    <tr>\n",
       "      <th>18</th>\n",
       "      <td>masvnrtype_BrkFace</td>\n",
       "      <td>0.000000</td>\n",
       "    </tr>\n",
       "    <tr>\n",
       "      <th>23</th>\n",
       "      <td>lotshape_IR2</td>\n",
       "      <td>414.147965</td>\n",
       "    </tr>\n",
       "    <tr>\n",
       "      <th>22</th>\n",
       "      <td>paveddrive_Y</td>\n",
       "      <td>852.998614</td>\n",
       "    </tr>\n",
       "    <tr>\n",
       "      <th>7</th>\n",
       "      <td>3ssnporch</td>\n",
       "      <td>1198.223606</td>\n",
       "    </tr>\n",
       "    <tr>\n",
       "      <th>11</th>\n",
       "      <td>yearbuilt</td>\n",
       "      <td>2156.362394</td>\n",
       "    </tr>\n",
       "    <tr>\n",
       "      <th>13</th>\n",
       "      <td>heatingq</td>\n",
       "      <td>2965.605183</td>\n",
       "    </tr>\n",
       "    <tr>\n",
       "      <th>20</th>\n",
       "      <td>masvnrtype_Stone</td>\n",
       "      <td>3608.836511</td>\n",
       "    </tr>\n",
       "    <tr>\n",
       "      <th>19</th>\n",
       "      <td>masvnrtype_None</td>\n",
       "      <td>3884.599382</td>\n",
       "    </tr>\n",
       "    <tr>\n",
       "      <th>9</th>\n",
       "      <td>totalbsmtsf</td>\n",
       "      <td>4718.494817</td>\n",
       "    </tr>\n",
       "    <tr>\n",
       "      <th>5</th>\n",
       "      <td>screenporch</td>\n",
       "      <td>5265.011993</td>\n",
       "    </tr>\n",
       "    <tr>\n",
       "      <th>3</th>\n",
       "      <td>fireplaces</td>\n",
       "      <td>6104.713115</td>\n",
       "    </tr>\n",
       "    <tr>\n",
       "      <th>6</th>\n",
       "      <td>lotarea</td>\n",
       "      <td>6355.510698</td>\n",
       "    </tr>\n",
       "    <tr>\n",
       "      <th>8</th>\n",
       "      <td>bsmtfullbath</td>\n",
       "      <td>6358.521331</td>\n",
       "    </tr>\n",
       "    <tr>\n",
       "      <th>10</th>\n",
       "      <td>garagearea</td>\n",
       "      <td>6371.745450</td>\n",
       "    </tr>\n",
       "    <tr>\n",
       "      <th>14</th>\n",
       "      <td>bsmtq</td>\n",
       "      <td>6963.626500</td>\n",
       "    </tr>\n",
       "    <tr>\n",
       "      <th>1</th>\n",
       "      <td>masvnrarea</td>\n",
       "      <td>7507.649671</td>\n",
       "    </tr>\n",
       "    <tr>\n",
       "      <th>12</th>\n",
       "      <td>exterq</td>\n",
       "      <td>8556.332255</td>\n",
       "    </tr>\n",
       "    <tr>\n",
       "      <th>15</th>\n",
       "      <td>kitchenq</td>\n",
       "      <td>8658.316208</td>\n",
       "    </tr>\n",
       "    <tr>\n",
       "      <th>4</th>\n",
       "      <td>grlivarea</td>\n",
       "      <td>18286.839396</td>\n",
       "    </tr>\n",
       "    <tr>\n",
       "      <th>0</th>\n",
       "      <td>overallqual</td>\n",
       "      <td>18480.608338</td>\n",
       "    </tr>\n",
       "  </tbody>\n",
       "</table>\n",
       "</div>"
      ],
      "text/plain": [
       "                   Var         Coeff\n",
       "24        lotshape_IR3  -5813.508010\n",
       "2             poolarea  -4530.490761\n",
       "16    garagefinish_RFn  -3370.029946\n",
       "17    garagefinish_Unf  -2773.940053\n",
       "25        lotshape_Reg  -1275.607960\n",
       "21        paveddrive_P   -352.098436\n",
       "18  masvnrtype_BrkFace      0.000000\n",
       "23        lotshape_IR2    414.147965\n",
       "22        paveddrive_Y    852.998614\n",
       "7            3ssnporch   1198.223606\n",
       "11           yearbuilt   2156.362394\n",
       "13            heatingq   2965.605183\n",
       "20    masvnrtype_Stone   3608.836511\n",
       "19     masvnrtype_None   3884.599382\n",
       "9          totalbsmtsf   4718.494817\n",
       "5          screenporch   5265.011993\n",
       "3           fireplaces   6104.713115\n",
       "6              lotarea   6355.510698\n",
       "8         bsmtfullbath   6358.521331\n",
       "10          garagearea   6371.745450\n",
       "14               bsmtq   6963.626500\n",
       "1           masvnrarea   7507.649671\n",
       "12              exterq   8556.332255\n",
       "15            kitchenq   8658.316208\n",
       "4            grlivarea  18286.839396\n",
       "0          overallqual  18480.608338"
      ]
     },
     "execution_count": 288,
     "metadata": {},
     "output_type": "execute_result"
    }
   ],
   "source": [
    "conc = pd.DataFrame()\n",
    "conc['Var'] = interest_list\n",
    "conc['Coeff'] = ls.coef_\n",
    "conc.sort_values(by=\"Coeff\").head(50)"
   ]
  },
  {
   "cell_type": "markdown",
   "id": "2f477607",
   "metadata": {},
   "source": [
    "### This shows the folowing variables determines the housing prices in Ames"
   ]
  },
  {
   "cell_type": "code",
   "execution_count": 289,
   "id": "aae96d1e",
   "metadata": {},
   "outputs": [
    {
     "name": "stdout",
     "output_type": "stream",
     "text": [
      "['overallqual', 'masvnrarea', 'poolarea', 'fireplaces', 'grlivarea', 'screenporch', 'lotarea', '3ssnporch', 'bsmtfullbath', 'totalbsmtsf', 'garagearea', 'yearbuilt', 'exterq', 'heatingq', 'bsmtq', 'kitchenq', 'garagefinish_RFn', 'garagefinish_Unf', 'masvnrtype_BrkFace', 'masvnrtype_None', 'masvnrtype_Stone', 'paveddrive_P', 'paveddrive_Y', 'lotshape_IR2', 'lotshape_IR3', 'lotshape_Reg']\n"
     ]
    }
   ],
   "source": [
    "print(interest_list)"
   ]
  },
  {
   "cell_type": "code",
   "execution_count": 290,
   "id": "8dcd7017",
   "metadata": {},
   "outputs": [
    {
     "data": {
      "text/plain": [
       "array([18480.60833805,  7507.64967104, -4530.49076064,  6104.71311454,\n",
       "       18286.83939593,  5265.01199331,  6355.51069807,  1198.22360635,\n",
       "        6358.52133063,  4718.49481707,  6371.74545038,  2156.36239421,\n",
       "        8556.33225455,  2965.60518296,  6963.6265002 ,  8658.31620837,\n",
       "       -3370.02994567, -2773.94005304,     0.        ,  3884.59938182,\n",
       "        3608.83651126,  -352.09843647,   852.99861411,   414.14796501,\n",
       "       -5813.50800954, -1275.60795993])"
      ]
     },
     "execution_count": 290,
     "metadata": {},
     "output_type": "execute_result"
    }
   ],
   "source": [
    "ls.coef_"
   ]
  },
  {
   "cell_type": "markdown",
   "id": "5df6dfad",
   "metadata": {},
   "source": [
    "### End of Code"
   ]
  }
 ],
 "metadata": {
  "kernelspec": {
   "display_name": "Python 3",
   "language": "python",
   "name": "python3"
  },
  "language_info": {
   "codemirror_mode": {
    "name": "ipython",
    "version": 3
   },
   "file_extension": ".py",
   "mimetype": "text/x-python",
   "name": "python",
   "nbconvert_exporter": "python",
   "pygments_lexer": "ipython3",
   "version": "3.8.8"
  }
 },
 "nbformat": 4,
 "nbformat_minor": 5
}
